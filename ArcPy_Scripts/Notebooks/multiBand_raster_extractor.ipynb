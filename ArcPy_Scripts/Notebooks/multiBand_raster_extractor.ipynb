{
  "nbformat": 4,
  "nbformat_minor": 0,
  "metadata": {
    "colab": {
      "provenance": []
    },
    "kernelspec": {
      "name": "python3",
      "display_name": "Python 3"
    },
    "language_info": {
      "name": "python"
    }
  },
  "cells": [
    {
      "cell_type": "markdown",
      "source": [
        "# Introduction\n",
        "\n",
        "The **multiBand_raster_extractor** program offers effective band extraction and reordering functionalities. It allows the extraction of one or more bands or the reorganization of bands as a multiband raster layer. With this tool, users can easily create a duplicate raster file as the output. A multiband raster is a versatile image or data file that contains multiple bands, each representing different wavelengths within the electromagnetic spectrum. These bands capture essential data for a wide range of applications, including vegetation analysis, land use mapping, and environmental studies.\n",
        "\n",
        "---\n",
        "The following libraries are imported to allow the code to be run:\n",
        "- **os** - The directory service provides the ability to create and remove directory folders, gather data, change and find the current directory, and provide a means for users and the operating system to interact with each other.\n",
        "- **sys** - Provides a way to manipulate the runtime of the program by using certain parameters and functions.\n",
        "- **arcpy** - ArcPy enables efficient and effective geographic data analysis, data management, map automation, and data conversion. With ArcPy, users can leverage the capabilities of Python to effortlessly handle complex geospatial tasks.\n"
      ],
      "metadata": {
        "id": "nWFIxI-r_q7m"
      }
    },
    {
      "cell_type": "markdown",
      "source": [
        "---\n",
        "> **Note:**\n",
        ">  - To ensure the code is tailored to the user's requirements, edit the comments so that they are included when running the script."
      ],
      "metadata": {
        "id": "ylExE37iz9Wh"
      }
    },
    {
      "cell_type": "code",
      "source": [
        "import os\n",
        "import sys\n",
        "import arcpy"
      ],
      "metadata": {
        "id": "xnT_016o2SOb"
      },
      "execution_count": null,
      "outputs": []
    },
    {
      "cell_type": "markdown",
      "source": [
        "- The user will be asked to input the file path and name of the raster file.\n",
        "\n",
        "  - An example of the file path would be the following:\n",
        "  > *Enter the full file path of the template point shape file:* **E:\\\\share\\\\MODIS_CONUS_NDVI\\\\CONUS_AQUA_C6_eMODIS_wkly_smNDVI_2015.tif**\n",
        "\n",
        "  - An example of the raster file would be the following:\n",
        "  > *Enter the name of the raster file:* **CONUS_SQUA_C6_eMODIS_wkly_smNDVI_2015.tif**\n",
        "\n",
        "- When the user provides the file path and name of the raster file, these elements are concatenated to create a new file named **raster_file**."
      ],
      "metadata": {
        "id": "ZF7Z6HFI23E9"
      }
    },
    {
      "cell_type": "code",
      "source": [
        "# State the file path\n",
        "raster_path = input(\"Enter the full file path of the template point shape file: \")\n",
        "\n",
        "# State the name of the raster file\n",
        "raster_name = input(\"Enter the name of the raster file: \")\n",
        "\n",
        "# Creating a full path of the point shape file path and the name of the raster file\n",
        "raster_file = os.path.join(raster_path, raster_name)"
      ],
      "metadata": {
        "id": "tb1Vi5X22Xkn"
      },
      "execution_count": null,
      "outputs": []
    },
    {
      "cell_type": "markdown",
      "source": [
        "- The script begins by navigating to the directory that contains the specified raster file, setting it as the current workspace.\n",
        "- Within the workspace, a list of all raster datasets is generated. The list serves as a valuable resource, offering a detailed overview of the available raster data for subsequent analysis and utilization.\n",
        "\n",
        "- The input band's path, **InBand**, is created by combining the **raster_file** and the current band name, **ThisBnd**.\n",
        "\n",
        "  The **arcpy.Describe** function is used to retrieve a description for the current band.\n",
        "\n",
        "  The NoData value for the current band is extracted from the description object and assigned to the **NoData** variable.\n",
        "\n",
        "  The output raster path, **OutRas**, is constructed by splitting the input raster file into its base name and extension. The base name is then combine with the current band name and the original extension.\n",
        "\n",
        "  The **arcpy.CopyRaster_management** function is used to create a copy of the current band and save it as a new raster dataset with the previously constructed output path. The **nodata_value** parameter ensures that the NoData value is preserved in the copied raster."
      ],
      "metadata": {
        "id": "2a_iVCJ6r5Nm"
      }
    },
    {
      "cell_type": "code",
      "source": [
        "# Gets a list of the bands that make up the raster\n",
        "arcpy.env.workspace = raster_file\n",
        "bRng = arcpy.ListRasters()\n",
        "\n",
        "for ThisBnd in bRng:\n",
        "  # Loop through the bands and export each one with CopyRaster\n",
        "  InBand = os.path.join(raster_file, ThisBnd)\n",
        "  bndDesc = arcpy.Describe(InBand)\n",
        "  NoData = bndDesc.noDataValue\n",
        "  # Splits the image name and extension\n",
        "  InSplit = os.path.splitext(raster_file)\n",
        "  OutRas = '{}_{}{}'.format(InSplit[0], ThisBnd, InSplit[1])\n",
        "  arcpy.CopyRaster_management(InBand, OutRas, nodata_value = NoData)"
      ],
      "metadata": {
        "id": "rlhI8tzh2tgb"
      },
      "execution_count": null,
      "outputs": []
    }
  ]
}
