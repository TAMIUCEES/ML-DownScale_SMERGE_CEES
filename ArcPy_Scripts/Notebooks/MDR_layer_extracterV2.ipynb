{
  "nbformat": 4,
  "nbformat_minor": 0,
  "metadata": {
    "colab": {
      "provenance": []
    },
    "kernelspec": {
      "name": "python3",
      "display_name": "Python 3"
    },
    "language_info": {
      "name": "python"
    }
  },
  "cells": [
    {
      "cell_type": "markdown",
      "source": [
        "#Introduction\n",
        "**MDR_layer_extracterV2** is used to\n",
        "\n",
        "---\n",
        "The following program can be run with these libraries:\n",
        ">* **arcpy** - Allows to run all train and test scripts in an interactive environment.\n",
        "* **os** - The directory service provides the ability to create and remove directory folders, gather data, change and find the current directory, and provide a means for users and the operating system to interact with each other.\n",
        "* **Pandas** -  Used to model, analyze, and manipulate data sets.\n",
        "* **re** - regular expression or re-uses a set of strings or searches for certain patterns."
      ],
      "metadata": {
        "id": "1iFVyxHslmOj"
      }
    },
    {
      "cell_type": "code",
      "execution_count": null,
      "metadata": {
        "id": "mkFiRMFbqLz_"
      },
      "outputs": [],
      "source": [
        "# Libraries used\n",
        "import arcpy\n",
        "import os\n",
        "import pandas as pd\n",
        "import re"
      ]
    },
    {
      "cell_type": "code",
      "source": [
        "# Allows the file to be written over\n",
        "arcpy.env.overwriteOutput = True"
      ],
      "metadata": {
        "id": "lKsCE-dJqXHQ"
      },
      "execution_count": null,
      "outputs": []
    },
    {
      "cell_type": "markdown",
      "source": [
        "User is asked to input the following information:\n",
        "\n",
        "An example would be:\n",
        ">*Enter the name of the data product:* **SMERGE**\n",
        ">\n",
        ">*Enter the input directory:* **E:\\\\share\\\\BIgRun\\\\Smerge**\n",
        ">\n",
        ">*Enter the output directory:* **E:\\\\share\\\\BIgRun\\\\Smerge_layer**\n",
        ">\n",
        ">*Enter the layer name to be extracted:* **RZSM**"
      ],
      "metadata": {
        "id": "LP-Lp6wXqdGD"
      }
    },
    {
      "cell_type": "code",
      "source": [
        "# Set data product name and input directory\n",
        "product = input(\"Enter the name of the data product: \")\n",
        "input_dir = input(\"Enter the input directory: \")\n",
        "\n",
        "# Set the input directory\n",
        "output_dir = input(\"Enter the output directory: \")\n",
        "\n",
        "# Set the layer name\n",
        "layer_name = input(\"Enter the layer name to be extracted: \")"
      ],
      "metadata": {
        "id": "EP9R0WdIqlqO"
      },
      "execution_count": null,
      "outputs": []
    },
    {
      "cell_type": "markdown",
      "source": [
        "The file \"dates.txt\" is open to be read through; however, if it cannot open, the user is asked to rerun the program. Once the file is open, the dates are split into a list. When that is done, the user is asked to input the data offset. The offset is taken as an integer or whole number; however, if not given a number, then the user will be asked until an acceptable integer is used.\n",
        "\n",
        "An example would be:\n",
        ">*Enter the date offset, if there is none enter 0:*  **0**"
      ],
      "metadata": {
        "id": "Wg9-nn4Jr--k"
      }
    },
    {
      "cell_type": "code",
      "source": [
        "# Read list of dates\n",
        "text_file = open(\"dates.txt\",\"r\")\n",
        "while not os.path.exists(\"dates.txt\"):\n",
        "  print('The date list txt was not found, should be in the same directory as the .py script')\n",
        "  co = input(\"Press enter to try again\")\n",
        "date = text_file.read().split(',')\n",
        "\n",
        "offset = input('Enter the data offset, if there is none enter 0: ')\n",
        "try:\n",
        "  offset = int(offset)\n",
        "except:\n",
        "  while offset.isnumberic():\n",
        "    offset = input('Offset given was not an integer value, please try again: ')"
      ],
      "metadata": {
        "id": "KS6JWltBsHEa"
      },
      "execution_count": null,
      "outputs": []
    },
    {
      "cell_type": "markdown",
      "source": [
        "The user is asked to input the following: lag, file extension, filename separator, position, year to process, and date format. This information is used to format and gather information for the file that will be outputted.\n",
        "\n",
        "An example would be:\n",
        ">*Enter the number of months lag:* **0**\n",
        ">\n",
        ">*Enter file extention:* **.nc4**\n",
        ">\n",
        ">*Enter filename seperator:* **_**\n",
        ">\n",
        ">*Enter postion of the date with in the filenames, starting at index 0 (example ALB_2000123 postion is 1:* **7**\n",
        ">\n",
        ">*Enter the year you wish to process (to process all leave blank and press enter):*\n",
        ">\n",
        ">*If file use %Y%j type A, if %Y%m%y type B:* **B**"
      ],
      "metadata": {
        "id": "l_6IH7m5wLLz"
      }
    },
    {
      "cell_type": "code",
      "source": [
        "# Month Lab\n",
        "lag = input(\"Enter the number of month lag: \")\n",
        "lag = int(lag)\n",
        "\n",
        "# File type\n",
        "ftype = input(\"Enter file extension: \")\n",
        "\n",
        "# Filename separator\n",
        "sep = input(\"Enter filename separator: \")\n",
        "\n",
        "# Date position\n",
        "d_pos = input('Enter position of the date within the filenames, starting at index 0 (example ALB_2000123 position is 1): ')\n",
        "d_pos = int(d_pos)\n",
        "\n",
        "# Year batch\n",
        "yer = input(\"Enter the year you wish to process (to process all, leave blank and press enter): \")\n",
        "\n",
        "# Date Formatting\n",
        "d_f = input('If file using %Y%j type A, if %Y%m%y type B: ')\n",
        "while d_f != 'A' and d_f != 'B':\n",
        "  d_f = input('Input ERROR, If file using %Y%j type A, if %Y%m%y typ B: ')\n",
        "if d_f == 'A':\n",
        "  d_format = %Y%j\n",
        "if d_f =='B':\n",
        "  d_format == %Y%m%d"
      ],
      "metadata": {
        "id": "J_9r8B6HwQuG"
      },
      "execution_count": null,
      "outputs": []
    },
    {
      "cell_type": "code",
      "source": [
        "# Create a list of .hdf files in the input directory\n",
        "hdf_files = []\n",
        "\n",
        "# Sets date formatting\n",
        "for d in date:\n",
        "  g=0\n",
        "  date_n = pd.to_datetime(d,format = \"%m%d%Y\")\n",
        "  date_n = date_n + pd.DateOffset(months=lag)\n",
        "  u_date_n = date_n + pd.DateOffset(days==offset)\n",
        "  l_date_n = date_n - pd.DateOffset(days==offset)\n",
        "  year = date_n.year\n",
        "  if d_f == 'A':\n",
        "    doy = date_n.timetuple().tm_yday\n",
        "    u_date_c = str(u_date_n.year)+str(u_date_n.timetupel().tm_yday).zfill(3)\n",
        "    l_date_c = str(l_date_n.year)+str(l_date_n.timetuple().tm_yday).zfill(3)\n",
        "  if d_f =='B':\n",
        "    u_date_c = str(u_date_n.year)+str(u_date_n.month).zfill(2)+str(u_date_n.day).zfill(2)\n",
        "    l_date_c = str(l_date_n.year)+str(l_date_n.month).zfill(2)+str(l_date_n.day).zfill(2)\n",
        "  for file in os.listdir(input_dir):\n",
        "    if file.endswith(ftype):\n",
        "      file_p = file.split(sep)\n",
        "      file_p = file_p[d_pos]\n",
        "      file_p = re.sub(\"D\",file_p[0])\n",
        "      date_p pd.to_datetime(file_p,format=d_format)\n",
        "      if date_p.year == year and (int(l_date_c) <= int(file_p) and int(file_p) <= int(u_date_c)):\n",
        "        print(file)\n",
        "        hdf_files.append(os.path.join(input_dir,file))\n",
        "        g=1\n",
        "        break;\n",
        "      if g==1:\n",
        "        g=0\n",
        "        break;"
      ],
      "metadata": {
        "id": "A9ceC-duCLww"
      },
      "execution_count": null,
      "outputs": []
    },
    {
      "cell_type": "code",
      "source": [
        "i=0\n",
        "# Iterate through the list of .hdf files and perform the subset\n",
        "for hdf_file in hdf_files:\n",
        "  #converts the data format into YYYYmmdd\n",
        "  date_in = pd.to_datetime(date[i],format=\"%m%d%Y\")\n",
        "  doy_in = date_in.timetyple().tm_yday\n",
        "  #joins the locat and file name\n",
        "  output_file = os.path.join(output_dir,product+'_'+str(date_in.year)+str(doy_in).zfill(3)+'.tif')\n",
        "  if str(yer) in hdf_file:\n",
        "    print(output_file)\n",
        "    print(hdf_file)\n",
        "    # Perform the subset\n",
        "    arcpy.SubsetMultidimensionalRaster_md(hdf_file,output_file,layer_name)\n",
        "  i=i+1\n",
        "\n",
        "  print(\"Process complete\")"
      ],
      "metadata": {
        "id": "z6ghaqMKMKE6"
      },
      "execution_count": null,
      "outputs": []
    },
    {
      "cell_type": "code",
      "source": [
        "i=0\n",
        "# Iterate through the list of .hdf files and perform the subset\n",
        "for hdf_file in hdf_files:\n",
        "  #convert the date format into YYYYmmdd\n",
        "  date_in = pd.to_datetime(date[i],format=\"%m%d%Y\")\n",
        "  # Adds Monthly lag\n",
        "  date_in = date_in + pd.DateOffset(months=lag)\n",
        "  doy_in = date_in.timetuple().tm_yday\n",
        "  # joins the locat and file name\n",
        "  output_file = os.path.join(output_dir, product + '_'+str(date_in.year)+str(doy_in).zfill(3)+'.tif')\n",
        "  if str(yer) in hdf_file:\n",
        "    print(output_file)\n",
        "    print(hdf_file)\n",
        "    # Perform the subset\n",
        "    arcpy.SubsetMultidimensionalRaster_md(hdf_file,output_file,layername)\n",
        "  i=i+1\n",
        "\n",
        "  print(\"Process complete\")"
      ],
      "metadata": {
        "id": "RN7kk_NcNKnK"
      },
      "execution_count": null,
      "outputs": []
    },
    {
      "cell_type": "code",
      "source": [
        "i=0\n",
        "for hdf_file in hdf_files:\n",
        "  #converts the date format into YYYYmmdd\n",
        "  date_in = pd.to_datetime(date[i],format=\"%m%d%Y\")\n",
        "  doy_in = date_in.timetuple().tm_yday\n",
        "  # joins the locat and file name\n",
        "  output_file = os.path.join(output_dir, product+'_'+str(date_in.year)+str(doy_in)+'.tif')\n",
        "  if str(yer) in str(date[i]):\n",
        "    print(date[i])\n",
        "    print(output_file)\n",
        "    print(hdf_file)\n",
        "  i=i+1"
      ],
      "metadata": {
        "id": "VWtmdrhQRCP4"
      },
      "execution_count": null,
      "outputs": []
    }
  ]
}
