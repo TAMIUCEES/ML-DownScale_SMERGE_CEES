{
  "nbformat": 4,
  "nbformat_minor": 0,
  "metadata": {
    "colab": {
      "provenance": []
    },
    "kernelspec": {
      "name": "python3",
      "display_name": "Python 3"
    },
    "language_info": {
      "name": "python"
    }
  },
  "cells": [
    {
      "cell_type": "markdown",
      "source": [
        "# Introduction\n",
        "---\n",
        "\n",
        "Similar to *auto_zonal_stats*, the **auto_multiD_subsetting** program enables users to acquire data and raster more efficiently by processing and resampling data raster on an individual layer basis. The outputs of the *auto_multiD_subsetting* program then serve as the inputs for the *auto_zonal_stats* program. Like *auto_zonal_stats*, *auto_multiD_subsetting* allows for the file resampling, enabling raster file size conversion by raster layer. The program calculates multi-dimensions by subsetting larger files, facilitating efficient subset data extraction and manipulation. Subsequently, this tool creates a subset of a multidimensional raster by slicing data along specified variables and dimensions. It generates a multidimensional raster layer from a multidimensional raster or mosaic dataset by extracting a subset of variables.  \n",
        "\n",
        "The following libraries are imported to allow the code to be run:\n",
        "- **os** - The directory service provides the ability to create and remove directory folders, gather data, change and find the current directory, and provide a means for users and the operating system to interact with each other.\n",
        "\n",
        "- **re** - regular expression (or **re**) specifies a set of strings, where a particular string will match the given regular expression.\n",
        "> For more information visit: https://docs.python.org/3/library/re.html\n",
        "\n",
        "- **Pandas** - Pandas is a tool for modeling, analyzing, and manipulating data sets.\n",
        "> For more information visit: https://www.geeksforgeeks.org/introduction-to-pandas-in-python/#\n",
        "\n",
        "*arcpy*\n",
        "\n",
        "---\n",
        "\n",
        "- **arcpy** - ArcPy enables efficient and effective geographic data analysis, data management, map automation, and data conversion. With ArcPy, users can leverage the capabilities of Python to effortlessly handle complex geospatial tasks.\n",
        "\n",
        "- **env** - ArcPy environmental settings provide access to both general geoprocessing settings and the settings of a specific tool.\n",
        "- **arcpy.sa** - The arcpy.sa module in Python facilitates the analysis of raster and vector data. It leverages the functionalities offered by the ArcGIS Spatial Analyst extension.\n",
        "\n",
        "\n",
        "---\n",
        ">**Note:**\n",
        "> - To ensure the code is tailored to the user's requirements, edit the comments so that they are included when running the script.\n"
      ],
      "metadata": {
        "id": "EwR2ZXy6NiSs"
      }
    },
    {
      "cell_type": "code",
      "source": [
        "import os\n",
        "import re\n",
        "import pandas as pd\n",
        "import arcpy\n",
        "from arcpy import env\n",
        "from arcpy.sa import *"
      ],
      "metadata": {
        "id": "QwkOa4wM1Gqe"
      },
      "execution_count": null,
      "outputs": []
    },
    {
      "cell_type": "markdown",
      "source": [
        "*raster_points*\n",
        "\n",
        "\n",
        "---\n",
        "\n",
        "- The **raster_points** function takes three arguments: **input_raster**, **output_raster**, and **shp_file**. This function generates a table that summarizes the values of a raster within the zones of another dataset.\n",
        "  - The **input_raster** is the path to the directory that contains the original raster file.\n",
        "  - The **output_table** is the route to the output directory where the files have been recorded in a table. **Output_table** will contain a summary of the values within each zone.\n",
        "  - The **shp_file** argument refers to the file containing the geometric data for all features. The *shapefile* format is a digital vector storage format used to store geographic location and related attribute information.\n",
        "\n",
        "- The function's initial step is to read the CSV file input and assess the rasters. The **input raster** is internally converted to a raster, using the cell size and alignment from the input value raster parameter.\n",
        "\n",
        ">**Note:**\n",
        ">  - For the **input raster** to be valid, it must be an integer raster format.\n",
        "\n",
        "- Subsequently, the user is required to input the index variable, which will be assigned to the **zoneField** variable.\n",
        "  - An example of the index variable is the following:\n",
        "    > *Enter the index variable:* **PageName**\n",
        "\n",
        "   When defining zones using features, an internal conversion from features to raster will take place. If the input zone is a raster with different raster cell sizes or alignments, resampling will also occur. To maintain consistency and control over the vector-to-raster conversion, it is advisable to use rasters as the zone input. This approach helps ensure predictable and desired results.\n",
        "\n",
        "- The **output_table** will be exported to a CSV file and its filename is converted to '*.csv* '. The temporary table named \"output_tableG\" will be removed by utilizing the *arcpy.management.Delete* function. Then, the *arcpy.management.ClearWorkspaceCache* function will clear the ArcMap workspace cache, which stores information about the current geodatabase and other configurations."
      ],
      "metadata": {
        "id": "K9jkXSKgIWep"
      }
    },
    {
      "cell_type": "code",
      "source": [
        "def raster_points(input_raster, output_table, shp_file):\n",
        "  # Read the input and check rasters\n",
        "  in_raster = Raster(input_raster)\n",
        "\n",
        "  zoneField = input(\"Enter the index variable: \")\n",
        "  outZSaT1 = ZonalStatisticsAsTable(shp_file, zoneField, input_raster, \"output_tableG\", \"DATA\", \"ALL\", \"CURRENT_SLICE\", 90, \"AUTO_DETECT\", \"ARITHMETIC\", 360)\n",
        "\n",
        "  arcpy.conversion.ExportTable(\"output_tableG\", output_table.replace('.dbf','.csv'))\n",
        "  arcpy.management.Delete(\"output_tableG\")\n",
        "  arcpy.management.ClearWorkspaceCache()\n",
        "  #arcpy.sa.ExtractValuesToPoints(thirty_points, in_raster, thirty_points, 'NONE')"
      ],
      "metadata": {
        "id": "r_-4_eRb5sOU"
      },
      "execution_count": null,
      "outputs": []
    },
    {
      "cell_type": "markdown",
      "source": [
        "*find_uncommon_elements*\n",
        "\n",
        "---\n",
        "\n",
        "- The function takes two arguments, *list1* and *list2*, and returns a list of elements that are uncommon between the two input lists.\n",
        "- First, the function converts the input lists into sets.\n",
        "- Then, the difference operator (-) is used to find elements that are in one set but not the other.\n",
        "  - For example, for *unique_to_set1*, the function finds elements that are in *set1* but not in *set2*.\n",
        "- The function then combines the unique elements from both sets into a new set using the union method.\n",
        "- Finally, the function converts the new set back to a list and returns it as the *result* list, which contains all the elements that are unique to either of the input lists (uncommon elements)."
      ],
      "metadata": {
        "id": "QqB9k9n89Wow"
      }
    },
    {
      "cell_type": "code",
      "source": [
        "def find_uncommon_elements(list1, list2):\n",
        "  # Convert lists to sets for efficient operations\n",
        "  set1 = set(list1)\n",
        "  set2 = set(list2)\n",
        "\n",
        "  #Find elements that are unique to each set\n",
        "  unique_to_set1 = set1 - set2\n",
        "  unique_to_set2 = set2 - set1\n",
        "\n",
        "  # Combine the unique elements and convert back to list\n",
        "  result = list(unique_to_set1.union(unique_to_set2))\n",
        "  return result"
      ],
      "metadata": {
        "id": "ewKz8SCI7d8e"
      },
      "execution_count": null,
      "outputs": []
    },
    {
      "cell_type": "markdown",
      "source": [
        "- This function obtains the current working directory and saves it in the variable named **parent_folder**. The variable **geodatabase_name** is assigned to the following string."
      ],
      "metadata": {
        "id": "yeso0EK8as9Z"
      }
    },
    {
      "cell_type": "code",
      "source": [
        "# Define the parent folder and the geodatabase name\n",
        "parent_folder = os.getcwd()\n",
        "geodatabase_name = \"example2.gdb\""
      ],
      "metadata": {
        "id": "3fYrfZmr73iE"
      },
      "execution_count": null,
      "outputs": []
    },
    {
      "cell_type": "markdown",
      "source": [
        "- The file **geodatabase_path** is created by concatenating the *parent_folder*\n",
        "and *geodatabase_name*. Then, the program verifies the existence of the file. If the file exists, it will print the path for the user to access. Conversely, if the file does not exist, a new file geodatabase will be generated for the path."
      ],
      "metadata": {
        "id": "KH0qLKq1dMyu"
      }
    },
    {
      "cell_type": "code",
      "source": [
        "#Create the file geodatabase\n",
        "geodatabase_path = os.path.join(parent_folder, geodatabase_name)\n",
        "if os.path.exists(geodatabase_path):\n",
        "  print(geodatabase_path)\n",
        "else:\n",
        "  arcpy.CreateFileGDB_management(parent_folder, geodatabase_name)"
      ],
      "metadata": {
        "id": "-LQkl9Jr8Qv7"
      },
      "execution_count": null,
      "outputs": []
    },
    {
      "cell_type": "markdown",
      "source": [
        "- To facilitate subsequent ArcGIS operations, the *workspace* property is modified, setting the default workspace for those operations to the specified geodatabase path."
      ],
      "metadata": {
        "id": "v6pLEkmPd5r_"
      }
    },
    {
      "cell_type": "code",
      "source": [
        "# Set the geodatabase as the workspace\n",
        "arcpy.env.workspace = geodatabase_path"
      ],
      "metadata": {
        "id": "opOgDyX08qtd"
      },
      "execution_count": null,
      "outputs": []
    },
    {
      "cell_type": "markdown",
      "source": [
        "- *SetLogHistory* is set to 'True', enabling geoprocessing history logging.\n",
        "- The parallel processing factor sets all available CPU cores for usage.\n",
        "- The Image Analyst extension is checked out, making it ready to use.\n",
        "- By setting *matchMultidimensionalVariable* to 'False', matching of multidimensional variables in raster datasets is disabled.\n",
        "- Overwriting of existing output datasets is allowed when *overwriteOutput* is set to 'True'.\n",
        "- Lastly, the program sets the default cell size for raster operations by using the cell size of the raster dataset at the specified path.\n",
        "\n",
        ">**Note:**\n",
        ">  - To ensure efficient processing, the **raster must be equal to or lower than the target resolution**.\n",
        "    - Using a target resolution that is too small can prolong the runtime and can cause the zonal statistics to consider the cell size."
      ],
      "metadata": {
        "id": "iWi4ybfzSzqo"
      }
    },
    {
      "cell_type": "code",
      "source": [
        "# Set up the environment\n",
        "arcpy.SetLogHistory(True)\n",
        "arcpy.env.parallelProcessingFactor = \"\\\\\"\n",
        "arcpy.CheckOutExtension(\"ImageAnalyst\")\n",
        "arcpy.env.matchMultidimensionalVariable = False\n",
        "arcpy.env.overwriteOutput = True\n",
        "# asking for a raster that is at or below (cannot go too below, the runtime will be too long) target reso (its forcing zonal stats to recognize the cellSize)\n",
        "arcpy.env.cellSize = input(\"Enter the full directory of the raster that is at or below (but not too small, it can make runtime too long) the target resolution: \")"
      ],
      "metadata": {
        "id": "MXgfj8Mz9JJH"
      },
      "execution_count": null,
      "outputs": []
    },
    {
      "cell_type": "markdown",
      "source": [
        "- To initiate the program, the user must provide four inputs: the name of the data product, the directory containing the input data, the directory where the output will be saved and the layer name the user will use.\n",
        "  - An example of the data product name is the following:\n",
        "  > *Enter the name of the data product:* **PPT**\n",
        "\n",
        "  - An example of the input directory is the following:\n",
        "  > *Enter the input directory:* **E:\\\\\\share\\\\\\BIgRun\\Prism_PPT**\n",
        "\n",
        "  - An example of the output directory is the following:\n",
        "  > *Enter the output directory:* **E:\\\\\\share\\\\\\BIgRun\\\\\\All_tables\\\\\\B1000**\n",
        "\n",
        "  - An example of the layer name is the following:\n",
        "  > *Enter the layer name:* **NDVI**"
      ],
      "metadata": {
        "id": "cO-X7ErpCgM6"
      }
    },
    {
      "cell_type": "code",
      "source": [
        "# Set the data product name\n",
        "product = input(\"Enter the name of the data product: \")\n",
        "\n",
        "# Set the input directory\n",
        "input_dir = input(\"Enter the input directory: \")\n",
        "\n",
        "# Set the output directory\n",
        "output_dir = input(\"Enter the output directory: \")\n",
        "\n",
        "# Set the layer name\n",
        "layer_name = input(\"Enter the layer name: \")"
      ],
      "metadata": {
        "id": "cLOnhSbjsWEJ"
      },
      "execution_count": null,
      "outputs": []
    },
    {
      "cell_type": "markdown",
      "source": [
        "- The user is asked to input a text file that contains the list of dates to the variable **d_text** and subsequently opens and reads the file using the variable **text_file**.\n",
        "  - An example would be the following:\n",
        "  > *Enter the date list text file:* **mondays_2012_2015.txt**\n",
        "- During this process, the program checks for the existence of the file. If the file is not found, the program prompts the user to try again.\n",
        "\n",
        "-  Once the file is found, the program reads the entire contents of the file and splits it into a list using a comma as a delimiter. This list is then stored in the variable **date**.\n",
        "- The user is requested to enter the text file containing the adjusted date list.\n",
        "  - An example would be the following:\n",
        "  > *Enter the adjusted date list text file:* **mondays_adjusted_2012_2015.txt**\n",
        "- The program uploads this file to the variable **d_text1**, opens and reads the file, and saves it in the variable **text_file1**.\n",
        "- The program then reads **text_file1**, splits it into a list using a comma as the delimiter, and stores it in the variable **date1**.\n",
        "- Finally, the program extracts unique elements from both **date** and **date1** and assigns them to the variable **date**, effectively creating a new dataset."
      ],
      "metadata": {
        "id": "PqEI2FfkCw0y"
      }
    },
    {
      "cell_type": "code",
      "source": [
        "# Uploads txt file\n",
        "d_text = input(\"Enter the date list text file: \")\n",
        "# Opens and reads the list of dates\n",
        "text_file = open(d_text, \"r\")\n",
        "# Checks file's existence\n",
        "while not os.path.exists(d_text):\n",
        "  print(\"The date list text file was not found. It should be in the same directory as the '.py' script.\")\n",
        "  n = input(\"Press enter to try again.\")\n",
        "  text_file = open(d_text, \"r\")\n",
        "# Reads file\n",
        "date = text_file.read().split(',')\n",
        "\n",
        "# Txt file with adjusted data is uploaded\n",
        "d_text1 = input(\"Enter the adjusted date list text file: \")\n",
        "# Read list of dates\n",
        "text_file1 = open(d_text1, \"r\")\n",
        "# Reads file\n",
        "date1 = text_file1.read().split(',')\n",
        "\n",
        "# Finds unique elements from files date and date1\n",
        "date = find_uncommon_elements(date, date1)"
      ],
      "metadata": {
        "id": "oG0p5sDeoi9Y"
      },
      "execution_count": null,
      "outputs": []
    },
    {
      "cell_type": "markdown",
      "source": [
        "- The user must provide two inputs: the number of monthly lags and the day offset. The values will then be converted to integers, respectively.\n",
        "  - An example of the number of monthly lags is the following:\n",
        "    > *Enter the number of monthly lag:* **0**\n",
        "  - An example of the day offset is the following:\n",
        "    > *Enter the day offset:* **3**\n"
      ],
      "metadata": {
        "id": "YHDN5KAtDDwU"
      }
    },
    {
      "cell_type": "code",
      "source": [
        "# State the monthly lag\n",
        "lag = input('Enter the number of monthly lag: ')\n",
        "# Convert to integer\n",
        "lag = int(lag)\n",
        "\n",
        "# State the day offset\n",
        "offset = input('Enter the day offset: ')\n",
        "# Convert to integer\n",
        "offset = int(offset)"
      ],
      "metadata": {
        "id": "2FmocVeQ0CTk"
      },
      "execution_count": null,
      "outputs": []
    },
    {
      "cell_type": "markdown",
      "source": [
        "- To specify a start date other than the default, provide the index of the desired start date. If no changes are needed, input: **1**.\n",
        "  - An example would be the following:\n",
        "    > *If you need to start on a different date, enter its index. If not, enter 1:* **1**\n",
        "\n",
        "- The value will then be converted to an integer."
      ],
      "metadata": {
        "id": "kSUHIdLjDeY-"
      }
    },
    {
      "cell_type": "code",
      "source": [
        "# State whether or not the starting date is different\n",
        "start = input('If you need to start on a different date, enter its index. If not, enter 1: ')\n",
        "# Convert to integer\n",
        "start = int(start)"
      ],
      "metadata": {
        "id": "oyngmhvi0o7i"
      },
      "execution_count": null,
      "outputs": []
    },
    {
      "cell_type": "markdown",
      "source": [
        "- The operation extracts a portion of a list. The extracted portion starts at the first date and includes all elements from the start of the specified index to the end of the list."
      ],
      "metadata": {
        "id": "x87XjjFuDjVM"
      }
    },
    {
      "cell_type": "code",
      "source": [
        "date = date[start:]"
      ],
      "metadata": {
        "id": "X5Qg2RfecjS6"
      },
      "execution_count": null,
      "outputs": []
    },
    {
      "cell_type": "markdown",
      "source": [
        "- The program uploads the text file containing the adjusted date list to the variable **d_text** and subsequently opens and reads the file using the variable **text_file**.\n",
        "  - An example would be the following:\n",
        "  > *Enter the adjusted date list text file:* **mondays_adjusted_2012_2015.txt**\n",
        "\n",
        "- During this process, the program checks for the existence of the file. If the file is not found, the program prompts the user to try again.\n",
        "\n",
        "-  Once the file is found, the program reads the entire contents of the file and splits it into a list using a comma as a delimiter. This list is then stored in the variable **date**."
      ],
      "metadata": {
        "id": "OFg-v8pqDnxU"
      }
    },
    {
      "cell_type": "code",
      "source": [
        "# Uploads txt file\n",
        "d_text = input(\"Enter the adjusted date list text file: \")\n",
        "\n",
        "# Opens and reads the list of dates\n",
        "text_file = open(d_text, \"r\")\n",
        "\n",
        "# Checks file's existence\n",
        "while not os.path.exists(d_text, \"r\"):\n",
        "  print(\"The date list txt file was not found. It should be in the same directory as the '.py' script.\")\n",
        "  n = input(\"Press enter to try again.\")\n",
        "  text_file = open(d_text, \"r\")\n",
        "\n",
        "date = text_file.read().split(',')"
      ],
      "metadata": {
        "id": "_CiBH7O3yMnA"
      },
      "execution_count": null,
      "outputs": []
    },
    {
      "cell_type": "markdown",
      "source": [
        "- The user must provide two inputs: the number of monthly lags and the day offset. The values will then be converted to integers, respectively.\n",
        "  - An example of the number of monthly lags is the following:\n",
        "    > *Enter the number of monthly lag:* **0**\n",
        "  - An example of the day offset is the following:\n",
        "    > *Enter the day offset:* **3**"
      ],
      "metadata": {
        "id": "OElVdrKHDvak"
      }
    },
    {
      "cell_type": "code",
      "source": [
        "# State the monthly lag\n",
        "lag = input(\"Enter the number of monthly lag: \")\n",
        "# Convert to integer\n",
        "lag = int(lag)\n",
        "\n",
        "# State the day offset\n",
        "offset = input(\"Enter the day offset: \")\n",
        "# Convert to integer\n",
        "offset = int(offset)"
      ],
      "metadata": {
        "id": "9-ffXcTF1i1p"
      },
      "execution_count": null,
      "outputs": []
    },
    {
      "cell_type": "markdown",
      "source": [
        "- To specify a start date other than the default, provide the index of the desired start date. If no changes are needed, input: **1**.\n",
        "  - An example would be the following:\n",
        "    > *If you need to start on a different date, enter its index. If not, enter 1:* **1**\n",
        "\n",
        "- To accommodate 0-based indexing, the value is converted to an integer and 1 is subtracted from the starting index."
      ],
      "metadata": {
        "id": "7Admk4nODz1k"
      }
    },
    {
      "cell_type": "code",
      "source": [
        "# State whether or not the starting date is different\n",
        "start = input(\"If you need to start on a different date, enter its index. If not, enter 1: \")\n",
        "# Convert to integer\n",
        "start = int(start) - 1"
      ],
      "metadata": {
        "id": "NaiO80Ws6nkr"
      },
      "execution_count": null,
      "outputs": []
    },
    {
      "cell_type": "markdown",
      "source": [
        "- The operation extracts a portion of a list. The extracted portion starts at the first date and includes all elements from the start of the specified index to the end of the list."
      ],
      "metadata": {
        "id": "tNPlkmSPD6GM"
      }
    },
    {
      "cell_type": "code",
      "source": [
        "date = date[start:]"
      ],
      "metadata": {
        "id": "ryMqp9fWH_cx"
      },
      "execution_count": null,
      "outputs": []
    },
    {
      "cell_type": "markdown",
      "source": [
        "- The file extension provides information about the file's structure and organization. Similarly, the filename separator, which is part of the file title, improves its readability for users. Moreover, users need to specify the date's position and the year that needs processing.\n",
        "  - An example of the file type is the following:\n",
        "  > *Enter the file extension:* **.crf** (Conditional Random Fields)\n",
        "\n",
        "  - An example of a filename separator is the following:\n",
        "  > *Enter the filename separator:* **_**\n",
        "\n",
        "  - An example of the position of date is the following:\n",
        "  > *Enter the position of the date within the filenames, starting at index 0:* **4**\n",
        "\n",
        "  - An example of the year batch is the following:\n",
        "  > *Enter the year you want to process. If you wish to process all, leave blank and press enter:*"
      ],
      "metadata": {
        "id": "UNz3XgrqD-K9"
      }
    },
    {
      "cell_type": "code",
      "source": [
        "# State the file type\n",
        "ftype = input(\"Enter the file extension: \")\n",
        "\n",
        "# State the filename separator\n",
        "sep = input(\"Enter the filename separator: \")\n",
        "\n",
        "# State the position of date\n",
        "d_pos = input(\"Enter the position of the date within the filenames, starting at index 0 (for example: for 'ALB_2000123', the position is 1): \")\n",
        "# Convert to integer\n",
        "d_pos = int(d_pos)\n",
        "\n",
        "# State the year batch\n",
        "yer = input(\"Enter the year you want to process. If you wish to process all, leave blank and press enter: \")"
      ],
      "metadata": {
        "id": "Mi7tIztla1y8"
      },
      "execution_count": null,
      "outputs": []
    },
    {
      "cell_type": "markdown",
      "source": [
        "*Date Formatting*\n",
        "\n",
        "---\n",
        "\n",
        "- In order to accommodate different date formats in a file, the user is prompted to input either 'A' or 'B'. The input is then evaluated for validity. If the input is not valid, the user will be asked to enter it again until a valid input is received.\n",
        "\n",
        "  Depending on the input, the date format is assigned to the variable **d_format**.\n",
        "  - If the input is '*A* ', the date format is '*%Y/%j* '\n",
        "  - If the input is '*B* ', the date format is '*%Y/%m/%d* '"
      ],
      "metadata": {
        "id": "sd8F4ouJEF98"
      }
    },
    {
      "cell_type": "code",
      "source": [
        "# Date Formatting\n",
        "d_f = input(\"If the file use '%Y/%j' type: A, if '%Y/%m/%d' type: B: \")\n",
        "while d_f != 'A' and d_f != 'B':\n",
        "  d = input(\"Input ERROR. If file use '%Y/%j' type: A, if '%Y/%m/%d' type: B: \")\n",
        "\n",
        "# Choice for formatting date\n",
        "if d_f == 'A':\n",
        "  d_format = '%Y/%j'\n",
        "\n",
        "if d_f == 'B':\n",
        "  d_format = '%Y/%m/%d'"
      ],
      "metadata": {
        "id": "a3tx1mJrgjF3"
      },
      "execution_count": null,
      "outputs": []
    },
    {
      "cell_type": "markdown",
      "source": [
        "- The **fdir** command is utilized to compile a catalog of directories within a designated directory.\n",
        "\n",
        "  Subsequently, an empty list is established under the **ref_dir** variable.\n",
        "   \n",
        "  The program proceeds to ascertain whether the current file, denoted as **fd**, concludes with the specified file extension, **ftype**.\n",
        "  \n",
        "  If the condition is met, the file with the specified extension is appended to the **ref_dir** list."
      ],
      "metadata": {
        "id": "n5szaLklEW56"
      }
    },
    {
      "cell_type": "code",
      "execution_count": null,
      "metadata": {
        "id": "dfDQVa6vNch6"
      },
      "outputs": [],
      "source": [
        "# Creates list\n",
        "fdir = os.listdir(input_dir)\n",
        "ref_dir = []\n",
        "for fd in fdir:\n",
        "    if fd.endswith('.nc'):\n",
        "        ref_dir.append(fd)"
      ]
    },
    {
      "cell_type": "markdown",
      "source": [
        "- The code enters a loop that iterates through each date in the **date** list. For each date in the list, the **j** variable  is initialized to **False**.\n",
        "  - The program first converts a date formatted as '*%m/%d/%Y* ' into a datetime object, then adds a specified number of months to the date.\n",
        "\n",
        "  - The variable **date_n** provides the year, which is extracted from it. **u_date_n** is created by adding the specified number of days to **date_n**. **l_date_n** is created  by subtracting the specified number of days from **date_n**.\n",
        "\n",
        "- The loop runs through every file in the directory  **ref_dir**. For each file in the directory, the variable **j** checks if it is set to **True**. If it is, the loop is exited immediately by executing the *break* statement. and the following code.\n",
        "  - The filenames that match the pattern **f** are split using the separator specified in the **sep** variable, and the resulting parts are stored in **file_p**. Subsequently, the regular expression \"\\D\" is used to replace any non-digit characters in the **d_pos** element of **file_p** with a \" \\ \". Finally, each element in **file_p** is converted to a datetime object using the format specified in **d_format**, and the resulting datetime objects are stored in **date_p**.\n",
        "  - Based on the input provided for formatting the date:\n",
        "    - If '*A* ', then:\n",
        "      - The day of the year is extracted from **date_n** and stored in the variable **doy**.\n",
        "      - The year and day of the year of **u_date_n** are concatenated and saved under **u_date_c**.\n",
        "      - The year and day of the year of **l_date_n** are concatenated and set to the variable **l_date_c**.\n",
        "    - If '*B* ', then:\n",
        "      - The year, month, and day of **u_date_n** are concatenated and stored in **u_date_c**.\n",
        "      - The year, month, and day of **l_date_n** are concatenated and saved under **l_date_c**.\n",
        "    - If **date_p.year == year** (if the year of *date_p* variable matches the *year* variable), then:\n",
        "      - The **input_raster** variable is assigned the full path of the **input_dir** and the filename **f**.\n",
        "\n",
        "      - The **d_n** variable is assigned the concatenation of the string of the year from **date_n** with the string of the day of the year from the **date_n** variable.\n",
        "      - The variables **product**, **d_n**, and **grid_re** are concatenated with a '.csv' extension and assigned to the variable **data_name**.\n",
        "      - The **output_dir** and **data_name** are joined to create a full path and assigned to the variable **output_raster**.\n",
        "      - The **output_raster** and string including the **os.path.exists** and **output_raster** will be combined and printed.\n",
        "      - If **os.path**, **output_raster** exisits, it will combine and print  **data_name** and the string of the **date_n**.\n",
        "      - The **file_p** will also be printed.\n",
        "      - Finally **arcpy.SubsetMultidimensionalRaster_md** function is called, taking as arguments the input_raster file path, output_raster file path, and  layer_name file. The function will create a subset of a multidimensional raster by slicing data along defined variables and dimensions.\n",
        "      - When the variable **j** is initialized to **True**, the previous code is executed, ending the loop.\n",
        "      - If the variable **j** is false and  **'Unable to find'**, strings **date_n.year**, string **date_n.month** and string **date_n.day** will be combined and printed as variable **k** .\n",
        "      - Variable **k** will be incremented by **1**.\n",
        "   - Finally, variable **i** is incremented by **1**, which triggers the program to run again with the next set of data."
      ],
      "metadata": {
        "id": "HinPq2GZELy4"
      }
    },
    {
      "cell_type": "code",
      "source": [
        "k = 0\n",
        "i = start\n",
        "\n",
        "# Sets format for date\n",
        "for d in date:\n",
        "    j = False\n",
        "    # Converts current date to datetime and adds the specified number of months\n",
        "    date_n = pd.to_datetime(d, format=\"%m/%d/%Y\") + pd.DateOffset(months=lag)\n",
        "    # Extracts the year from date_n\n",
        "    year = date_n.year\n",
        "    # Adds specified days to date_n\n",
        "    u_date_n = date_n + pd.DateOffset(days=offset)\n",
        "    # Subtracts specified days from date_n\n",
        "    l_date_n = date_n - pd.DateOffset(days=offset)\n",
        "    for f in ref_dir:\n",
        "        if j == True:\n",
        "            break\n",
        "        # Splits f using the separator (sep)\n",
        "        file_p = f.split(sep)\n",
        "        # Non-digit charac. are replaced\n",
        "        file_p = re.sub(\"\\D\", \"\", file_p[d_pos])\n",
        "        # Converts to datetime\n",
        "        date_p = pd.to_datetime(file_p, format = d_format)\n",
        "\n",
        "        if d_f == 'A':\n",
        "          # Extracts day of year from date_n and stores in doy\n",
        "            doy = date_n.timetuple().tm_yday\n",
        "            # Concatenates the year with the day of year of u_date_n\n",
        "            u_date_c = str(u_date_n.year) + str(u_date_n.timetuple().tm_yday).zfill(3)\n",
        "            # Concatenates the year with the day of year of l_date_n\n",
        "            l_date_c = str(l_date_n.year) + str(l_date_n.timetuple().tm_yday).zfill(3)\n",
        "\n",
        "        if d_f == 'B':\n",
        "          # Concatenates the year, month, and day of u_date_n\n",
        "            u_date_c = str(u_date_n.year)  + str(u_date_n.month).zfill(2) + str(u_date_n.day).zfill(2)\n",
        "          # Concatenates the year, month, and day of l_date_n\n",
        "            l_date_c = str(l_date_n.year)  + str(l_date_n.month).zfill(2) + str(l_date_n.day).zfill(2)\n",
        "\n",
        "        if date_p.year == year and (int(l_date_c) <= int(file_p) and int(file_p) <= int(u_date_c)):\n",
        "          # Constructs full path\n",
        "            input_raster = os.path.join(input_dir, f)\n",
        "            # Has to by date index number because the arcpy multipoint function has a name length limit\n",
        "            d_n = str(date_n.year) + str(date_n.timetuple().tm_yday).zfill(3)\n",
        "\n",
        "            data_name = product + \"_\" + d_n + layer_name + '.tif'\n",
        "            # Constructs full path\n",
        "            output_raster =  os.path.join(output_dir, data_name)\n",
        "            print(output_raster + str(os.path.exists(output_raster)))\n",
        "            if not os.path.exists(output_raster):\n",
        "                print(file_p)\n",
        "                print(data_name + \" \" + str(date_n))\n",
        "                arcpy.SubsetMultidimensionalRaster_md(input_raster, output_raster, layer_name)\n",
        "            #removes previously used files from the list to prevent repeated data\n",
        "            #ref_dir.remove(f)\n",
        "            j = True\n",
        "    if j == False:\n",
        "        k = k + 1\n",
        "        #print('Unable to find: ' + str(date_n.year)+ str(date_n.month).zfill(2) + str(date_n.day).zfill(2) )\n",
        "        #print(k)\n",
        "    i = i + 1"
      ],
      "metadata": {
        "id": "TcuxHY2XMnnX"
      },
      "execution_count": null,
      "outputs": []
    },
    {
      "cell_type": "markdown",
      "source": [
        "**Note:**\n",
        "> If the code above is incompatible with the user's data, the user must use the code below to ensure the program's successful execution."
      ],
      "metadata": {
        "id": "e8gMOJswmjU1"
      }
    },
    {
      "cell_type": "markdown",
      "source": [
        "- The code enters a loop that iterates through each date in the **date** list. For each date in the list, the **j** variable  is initialized to **False**.\n",
        "  - The program first converts a date formatted as '*%m/%d/%Y* ' into a datetime object, then adds a specified number of months to the date.\n",
        "\n",
        "  - The variable **date_n** provides the year, which is extracted from it. **u_date_n** is created by adding the specified number of days to **date_n**. **l_date_n** is created  by subtracting the specified number of days from **date_n**.\n",
        "\n",
        "- The loop runs through every file in the directory  **ref_dir**. For each file in the directory, the variable **j** checks if it is set to **True**. If it is, the loop is exited immediately by executing the *break* statement. and the following code.\n",
        "  - The filenames that match the pattern **f** are split using the separator specified in the **sep** variable, and the resulting parts are stored in **file_p**. Subsequently, the regular expression \"\\D\" is used to replace any non-digit characters in the **d_pos** element of **file_p** with a \" \\ \". Finally, each element in **file_p** is converted to a datetime object using the format specified in **d_format**, and the resulting datetime objects are stored in **date_p**.\n",
        "  - Based on the input provided for formatting the date:\n",
        "    - If '*A* ', then:\n",
        "      - The day of the year is extracted from **date_n** and stored in the variable **doy**.\n",
        "      - The year and day of the year of **u_date_n** are concatenated and saved under **u_date_c**.\n",
        "      - The year and day of the year of **l_date_n** are concatenated and set to the variable **l_date_c**.\n",
        "    - If '*B* ', then:\n",
        "      - The year, month, and day of **u_date_n** are concatenated and stored in **u_date_c**.\n",
        "      - The year, month, and day of **l_date_n** are concatenated and saved under **l_date_c**.\n",
        "    - If **date_p.year == year** (if the year of *date_p* variable matches the *year* variable), then:\n",
        "      - The **input_raster** variable is assigned the full path of the **input_dir** and the filename **f**.\n",
        "\n",
        "      - The **d_n** variable is assigned the concatenation of the string of the year from **date_n** with the string of the day of the year from the **date_n** variable.\n",
        "      - The variables **product**, **d_n**, and **grid_re** are concatenated with a '.csv' extension and assigned to the variable **data_name**.\n",
        "      - The **output_dir** and **data_name** are joined to create a full path and assigned to the variable **output_raster**.\n",
        "      - The **output_raster** and string including the **os.path.exists** and **output_raster** will be combined and printed.\n",
        "      - If **os.path**, **output_raster** exisits, it will combine and print  **data_name** and the string of the **date_n**.\n",
        "      - The **file_p** will also be printed.\n",
        "      - Finally **arcpy.SubsetMultidimensionalRaster_md** function is called, taking as arguments the input_raster file path, output_raster file path, and  layer_name file. The function will create a subset of a multidimensional raster by slicing data along defined variables and dimensions.\n",
        "      - The **arcpy.management.Resample** function is called, taking as arguments output_raster file path and output_raster file.\n",
        "      - When the variable **j** is initialized to **True**, the previous code is executed, ending the loop.\n",
        "      - If the variable **j** is false and  **'Unable to find'**, strings **date_n.year**, string **date_n.month** and string **date_n.day** will be combined and printed as variable **k**.\n",
        "      - Variable **k** will be incremented by **1**.\n",
        "   - Finally, variable **i** is incremented by **1**, which triggers the program to run again with the next set of data."
      ],
      "metadata": {
        "id": "1VUnXf5EMlnd"
      }
    },
    {
      "cell_type": "code",
      "source": [
        "k = 0\n",
        "i = start\n",
        "\n",
        "# Sets format for date\n",
        "for d in date:\n",
        "    j = False\n",
        "    # Converts current date to datetime and adds specified number of months\n",
        "    date_n = pd.to_datetime(d, format=\"%m/%d/%Y\") + pd.DateOffset(months=lag)\n",
        "    # Extracts the year from date_n\n",
        "    year = date_n.year\n",
        "    # Adds specified days to date_n\n",
        "    u_date_n = date_n + pd.DateOffset(days=offset)\n",
        "    # Subtracts specified days from date_n\n",
        "    l_date_n = date_n - pd.DateOffset(days=offset)\n",
        "    for f in ref_dir:\n",
        "        if j == True:\n",
        "            break\n",
        "        # Splits f using the separator (sep)\n",
        "        file_p = f.split(sep)\n",
        "        # Non-digit charac. are replaced\n",
        "        file_p = re.sub(\"\\D\", \"\", file_p[d_pos])\n",
        "        # Converts to datetime\n",
        "        date_p = pd.to_datetime(file_p, format = d_format)\n",
        "\n",
        "        if d_f == 'A':\n",
        "          # Extracts day of year from date_n and stores in doy\n",
        "            doy = date_n.timetuple().tm_yday\n",
        "            # Concatenates the year with the day of year of u_date_n\n",
        "            u_date_c = str(u_date_n.year) + str(u_date_n.timetuple().tm_yday).zfill(3)\n",
        "            # Concatenates the year with the day of year of l_date_n\n",
        "            l_date_c = str(l_date_n.year) + str(l_date_n.timetuple().tm_yday).zfill(3)\n",
        "\n",
        "        if d_f == 'B':\n",
        "          # Concatenates the year, month, and day of u_date_n\n",
        "            u_date_c = str(u_date_n.year)  + str(u_date_n.month).zfill(2) + str(u_date_n.day).zfill(2)\n",
        "          # Concatenates the year, month, and day of l_date_n\n",
        "            l_date_c = str(l_date_n.year)  + str(l_date_n.month).zfill(2) + str(l_date_n.day).zfill(2)\n",
        "\n",
        "        if date_p.year == year and (int(l_date_c) <= int(file_p) and int(file_p) <= int(u_date_c)):\n",
        "          # Constructs full path\n",
        "            input_raster = os.path.join(input_dir, f)\n",
        "            # Has to by date index number because the arcpy multipoint function has a name length limit\n",
        "            d_n = str(date_n.year) + str(date_n.timetuple().tm_yday).zfill(3)\n",
        "            data_name = product + \"_\" + d_n + layer_name + '.tif'\n",
        "            # Constructs full path\n",
        "            output_raster =  os.path.join(output_dir, data_name)\n",
        "            print(output_raster + str(os.path.exists(output_raster)))\n",
        "            if not os.path.exists(output_raster):\n",
        "                print(file_p)\n",
        "                print(data_name + \" \" + str(date_n))\n",
        "                arcpy.md.MakeMultidimensionalRasterLayer(input_raster, output_raster, layer_name)\n",
        "                arcpy.management.Resample(output_raster, output_raster)\n",
        "            #removes previously used files from the list to prevent repeat data\n",
        "            #ref_dir.remove(f)\n",
        "            j = True\n",
        "    if j == False:\n",
        "        k = k + 1\n",
        "        #print('Unable to find: ' + str(date_n.year)+ str(date_n.month).zfill(2) + str(date_n.day).zfill(2) )\n",
        "        #print(k)\n",
        "    i = i + 1"
      ],
      "metadata": {
        "id": "O0pKf47gjBN5"
      },
      "execution_count": null,
      "outputs": []
    }
  ]
}
