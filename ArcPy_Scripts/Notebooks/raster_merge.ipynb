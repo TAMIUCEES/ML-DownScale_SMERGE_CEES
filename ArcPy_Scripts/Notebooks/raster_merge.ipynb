{
  "nbformat": 4,
  "nbformat_minor": 0,
  "metadata": {
    "colab": {
      "provenance": []
    },
    "kernelspec": {
      "name": "python3",
      "display_name": "Python 3"
    },
    "language_info": {
      "name": "python"
    }
  },
  "cells": [
    {
      "cell_type": "markdown",
      "source": [
        "# Introduction\n",
        "\n",
        "The **raster_merge** program is intended to integrate multiple raster files, enabling the amalgamation of diverse datasets into a single, extensive raster by merging them spatially. This feature is particularly valuable when working with imagery saved as distinct files, allowing them to be treated as components of a single image. The merged raster essentially represents a unified collection of rasters, allowing the user to generate a raster object from the amalgamated datasets.\n",
        "\n",
        "---\n",
        "\n",
        "The following libraries are important to allow the code to be run:\n",
        "- **os** - The directory service provides the ability to create and remove directory folders, gather data, change and find the current directory, and provide a means for users and the operating system to interact with each other.\n",
        "\n",
        "- **re** - regular expression (or **re**) specifies a set of strings, where a particular string will match the given regular expression.\n",
        "> For more information visit: https://docs.python.org/3/library/re.html\n",
        "\n",
        "- **Pandas** - Is a tool for modeling, analyzing, and manipulating data sets.\n",
        "> For more information visit: https://www.geeksforgeeks.org/introduction-to-pandas-in-python/#\n",
        "\n",
        "*arcpy*\n",
        "\n",
        "---\n",
        "\n",
        "- **arcpy** - ArcPy enables efficient and effective geographic data analysis, data management, map automation, and data conversion. With ArcPy, users can leverage the capabilities of Python to effortlessly handle complex geospatial tasks.\n",
        "\n",
        "- **env** - ArcPy environmental settings provide access to both general geoprocessing settings and the settings of a specific tool.\n",
        "\n",
        "- **arcpy.sa** - The arcpy.sa module in Python facilitates the analysis of raster and vector data. It leverages the functionalities offered by the ArcGIS Spatial Analyst extension.\n",
        "\n",
        "*datetime*\n",
        "\n",
        "---\n",
        "\n",
        "- **datetime** - The Python Datetime module provides classes for working with dates and times."
      ],
      "metadata": {
        "id": "iLjen0Rm_SKw"
      }
    },
    {
      "cell_type": "markdown",
      "source": [
        "---\n",
        "\n",
        "> **Note:**\n",
        ">  - To ensure the code is tailored to the user's requirements, edit the comments so that they are included when running the script."
      ],
      "metadata": {
        "id": "xvOeIR8P0DHD"
      }
    },
    {
      "cell_type": "code",
      "source": [
        "import os\n",
        "import re\n",
        "import pandas  as pd\n",
        "import arcpy\n",
        "from arcpy import env\n",
        "from arcpy.sa import *\n",
        "from datetime import datetime"
      ],
      "metadata": {
        "id": "DIkjTFU36kZ3"
      },
      "execution_count": null,
      "outputs": []
    },
    {
      "cell_type": "markdown",
      "source": [
        "- Provide the path to the parent folder and specify the name of the geodatabase. These variables will be concatenated to ensure a smooth execution of the code."
      ],
      "metadata": {
        "id": "S07NDGXVo747"
      }
    },
    {
      "cell_type": "code",
      "source": [
        "# Define the parent folder and the geodatabase name\n",
        "parent_folder = input('Enter the path to the parent folder: ')\n",
        "geodatabase_name = input('Enter the name of the geodatabase: ')\n",
        "\n",
        "# Create the file geodatabase\n",
        "geodatabase_path = os.path.join(parent_folder, geodatabase_name)"
      ],
      "metadata": {
        "id": "aibCsHPm6mz2"
      },
      "execution_count": null,
      "outputs": []
    },
    {
      "cell_type": "markdown",
      "source": [
        "> **Note**:\n",
        ">  - The following code plays a crucial role in generating the geodatabase, which serves as the working directory for the application. Hence, it should be retained in the code regardless of whether it is being utilized or not.\n",
        ">>    *arcpy.CreateFileGDB_management(parent_folder, geodatabase_name)*"
      ],
      "metadata": {
        "id": "rRDqEa8xHseS"
      }
    },
    {
      "cell_type": "code",
      "source": [
        "## Generates the geodatabase (geodatabase is used as a working directory)\n",
        "## Crucial to keep code as it is needed to run\n",
        "\n",
        "#arcpy.CreateFileGDB_management(parent_folder, geodatabase_name)"
      ],
      "metadata": {
        "id": "4qZdd4iho5Bx"
      },
      "execution_count": null,
      "outputs": []
    },
    {
      "cell_type": "markdown",
      "source": [
        "- **arcpy.env.workspace** establishes the geodatabase as the base workspace for all subsequent operations.\n",
        "\n",
        "- Then, the program confirms the Spatial Analyst extension, which is a prerequisite for geoprocessing operations.\n",
        "- Subsequently, the process of comparing multidimensional variables is disabled, which can occasionally enhance performance.\n",
        "- Moreover, the program permits the overwriting of existing output files. This feature is particularly valuable when running a process repeatedly or when uploading data."
      ],
      "metadata": {
        "id": "CxwFac15LRMJ"
      }
    },
    {
      "cell_type": "code",
      "source": [
        "# Set the geodatabase as the workspace\n",
        "arcpy.env.workspace = geodatabase_path\n",
        "\n",
        "# Set up the environment\n",
        "arcpy.CheckOutExtension(\"Spatial\")\n",
        "\n",
        "arcpy.env.matchMultidimensionalVariable = False\n",
        "#arcpy.env.cellSize = 200\n",
        "arcpy.env.overwriteOutput = True"
      ],
      "metadata": {
        "id": "d8gyVToF98cg"
      },
      "execution_count": null,
      "outputs": []
    },
    {
      "cell_type": "markdown",
      "source": [
        "- The user will then be asked to state the input directory and the output directory.\n",
        "\n",
        "  - An example of the input directory would be the following:\n",
        "  > *Enter the input directory:* **E:\\share\\BIgRun\\Albedo\\early\\A**\n",
        "\n",
        "  - An example of the output directory would be the following:\n",
        "  > *Enter the output directory:* **E:\\share\\BIgRun\\Albedo\\ewfolder**"
      ],
      "metadata": {
        "id": "2G2I9N_bg6WD"
      }
    },
    {
      "cell_type": "code",
      "source": [
        "# Set the input directory\n",
        "input_dir = input(\"Enter the input directory: \")\n",
        "\n",
        "# Set the output directory\n",
        "output_dir = input(\"Enter the output directory: \")"
      ],
      "metadata": {
        "id": "w6ZtVOmPjmB0"
      },
      "execution_count": null,
      "outputs": []
    },
    {
      "cell_type": "markdown",
      "source": [
        "- The user is requested to specify how many files are to be merged at the same time.\n",
        "  - An example would be the following:\n",
        "  > *Enter the number of files that need to be merged at a time:* **2**\n",
        "\n",
        "- The variable **dir** utilizes a function to obtain a directory of all files and directories contained within the **input_dir**.\n",
        "- To determine the total number of files, the program subtracts 1 from the length of the variable **dir** because **dir** includes both the current directory and the actual files. Since the current directory is not a file, it is excluded from the count.\n",
        "- Finally, the program concludes by displaying the value stored in the variable **total_files**, which represents the total number of files in the directory."
      ],
      "metadata": {
        "id": "Rtaq5aR0RL31"
      }
    },
    {
      "cell_type": "code",
      "source": [
        "# State the amount of files that will be merged at a time\n",
        "file_n = input(\"Enter the number of files that need to be merged at a time: \")\n",
        "\n",
        "# Get a list of all files and directories in input_dir\n",
        "dir = os.listdir(input_dir)\n",
        "\n",
        "# Subtracts 1 from the length of the list\n",
        "total_files = len(dir) - 1\n",
        "\n",
        "# Prints out the value of total_files\n",
        "print(total_files)"
      ],
      "metadata": {
        "id": "-7HSQY_I-sNK"
      },
      "execution_count": null,
      "outputs": []
    },
    {
      "cell_type": "markdown",
      "source": [
        "- The provided code employs the arcpy library, which specializes in geospatial data processing. The code is divided into six distinct sections, each of which plays a crucial role in ensuring the smooth execution of the program. The following is a breakdown of the code:\n",
        "\n",
        "  - Initialization:\n",
        "    - *i* is initially set to '0', acting as an index to monitor the current file being processed.\n",
        "    - *k* is assigned the value of '4', which specifies the number of files that can be processed simultaneously.\n",
        "  - Loop Condition:\n",
        "    - The *while*-loop will keep executing as long as the variable *i* is less than **total_files**, indicating that there are still files that need to be processed.\n",
        "  - File Processing:\n",
        "    - The **dir[i].split('.')** command is used to split the current file name at the dot character (.), which separates the file name from its extension.\n",
        "    - The regular expression, **re.sub(\"\\D\", \"\", file_p1[1])**, is employed to remove all non-digit characters from the file name, leaving only the numeric portion.\n",
        "  - Input File List:\n",
        "    - The variable **f_inputs** was initialized as an empty list.\n",
        "    - In the inner *for*-loop, we iterate **int(file_n)** times to generate and add input file paths to **f_inputs**. We combine the **input_dir** with the file names from **dir** to construct the complete paths.\n",
        "  - Output File Name:\n",
        "    - The output file path, represented as **f_out**, is created by combining the first and second elements of **file_p1** with an underscore separator. The resultant path is then appended with a '.tif' extension at its end.\n",
        "  - Mosaic Operation:\n",
        "    - The *arcpy.management.MosaicToNewRaster* tool performs a mosaic operation on input files. It requires several parameters, including:\n",
        "      - **f_inputs** - The list of input file paths.\n",
        "      - **output_dir** - The directory where the output mosaic raster will be saved.\n",
        "      - **f_out** - The name of the output raster file.\n",
        "      - **number_of_bands** - The number of bands in the output raster.\n",
        "      - **mosaic_method** - The method for combining the input rasters. In this case, the mean method, denoted as 'MEAN', was used.\n",
        "      - **pixel_type** - The data type of the output raster. In this instance, the setting is '*32_BIT_FLOAT*'.\n",
        "  \n",
        " - Finally, the value of *i* is increased by 2 until total_files are completed.\n"
      ],
      "metadata": {
        "id": "tBtVVvYGRxxo"
      }
    },
    {
      "cell_type": "code",
      "source": [
        "i = 0\n",
        "k = 4\n",
        "while i < total_files:\n",
        "    file_p1 = dir[i].split('.')\n",
        "    file_d1 = re.sub(\"\\D\", \"\", file_p1[1])\n",
        "    print(i)\n",
        "\n",
        "    f_inputs = []\n",
        "    for j in range(int(file_n)):\n",
        "        f_inputs.append(os.path.join(input_dir, dir[i + j]))\n",
        "    # f1 = os.path.join(input_dir,dir[i])\n",
        "    # f2 = os.path.join(input_dir,dir[i+1])\n",
        "    print(f_inputs)\n",
        "\n",
        "    f_out = file_p1[0] + '_' + file_p1[1] + '.tif'\n",
        "\n",
        "    arcpy.management.MosaicToNewRaster(f_inputs, output_dir, f_out, number_of_bands = 1, mosaic_method='MEAN', pixel_type='32_BIT_FLOAT')\n",
        "    i = i + 2"
      ],
      "metadata": {
        "id": "nE69Onog-0UW"
      },
      "execution_count": null,
      "outputs": []
    }
  ]
}
