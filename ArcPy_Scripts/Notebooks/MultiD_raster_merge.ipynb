{
  "nbformat": 4,
  "nbformat_minor": 0,
  "metadata": {
    "colab": {
      "provenance": []
    },
    "kernelspec": {
      "name": "python3",
      "display_name": "Python 3"
    },
    "language_info": {
      "name": "python"
    }
  },
  "cells": [
    {
      "cell_type": "markdown",
      "source": [
        "# Introduction\n",
        "\n",
        "\n",
        "The **MultiD_raster_merge** program is a tool designed to merge multiple multidimensional raster datasets into a single, combined raster dataset. Multidimensional raster data represents information captured at varying times, depths, or heights. This utility is beneficial when users possess multiple raster datasets and desire to work with them as a unified item. By merging the datasets, users can enhance their visualization and analysis capabilities within a specific region.\n",
        "\n",
        "---\n",
        "The following libraries are imported to allow the code to be run:\n",
        "- **os** - The directory service provides the ability to create and remove directory folders, gather data, change and find the current directory, and provide a means for users and the operating system to interact with each other.\n",
        "\n",
        "- **re** - regular expression (or **re**) specifies a set of strings, where a particular string will match the given regular expression.\n",
        "> For more information visit: https://docs.python.org/3/library/re.html\n",
        "\n",
        "- **Pandas** - Is a tool for modeling, analyzing, and manipulating data sets.\n",
        "> For more information visit: https://www.geeksforgeeks.org/introduction-to-pandas-in-python/#\n",
        "\n",
        "\n",
        "\n",
        "\n",
        "*arcpy*\n",
        "\n",
        "---\n",
        "- **arcpy** - ArcPy enables efficient and effective geographic data analysis, data management, map automation, and data conversion. With ArcPy, users can leverage the capabilities of Python to effortlessly handle complex geospatial tasks.\n",
        "\n",
        "- **env** - ArcPy environmental settings provide access to both general geoprocessing settings and the settings of a specific tool.\n",
        "\n",
        "- **arcpy.sa** - The arcpy.sa module in Python facilitates the analysis of raster and vector data. It leverages the functionalities offered by the ArcGIS Spatial Analyst extension.\n",
        "\n",
        "*datetime*\n",
        "\n",
        "---\n",
        "\n",
        "- **datetime** - The Python Datetime module provides classes for working with dates and times."
      ],
      "metadata": {
        "id": "G77iGYknePd2"
      }
    },
    {
      "cell_type": "markdown",
      "source": [
        "---\n",
        "\n",
        "> **Note:**\n",
        ">  - To ensure the code is tailored to the user's requirements, edit the comments so that they are included when running the script."
      ],
      "metadata": {
        "id": "bTnKe2urzYpM"
      }
    },
    {
      "cell_type": "code",
      "source": [
        "import os\n",
        "import re\n",
        "import pandas  as pd\n",
        "import arcpy\n",
        "from arcpy import env\n",
        "from arcpy.sa import *\n",
        "from datetime import datetime"
      ],
      "metadata": {
        "id": "WQJcxKX82f56"
      },
      "execution_count": null,
      "outputs": []
    },
    {
      "cell_type": "markdown",
      "source": [
        "- Provide the path to the parent folder and specify the name of the geodatabase. These variables will be concatenated to ensure a smooth execution of the code."
      ],
      "metadata": {
        "id": "QamJ2HAdpdJ2"
      }
    },
    {
      "cell_type": "code",
      "source": [
        "# Define the parent folder and the geodatabase name\n",
        "parent_folder = input('Enter the path to the parent folder: ')\n",
        "geodatabase_name = input('Enter the name of the geodatabase: ')\n",
        "\n",
        "# Create the file geodatabase\n",
        "geodatabase_path = os.path.join(parent_folder, geodatabase_name)"
      ],
      "metadata": {
        "id": "ckhktSNv2gSN"
      },
      "execution_count": null,
      "outputs": []
    },
    {
      "cell_type": "markdown",
      "source": [
        "> **Note**:\n",
        ">  - The following code plays a crucial role in generating the geodatabase, which serves as the working directory for the application. Hence, it should be retained in the code regardless of whether it is being utilized or not.\n",
        ">>   *arcpy.CreateFileGDB_management(parent_folder, geodatabase_name)*"
      ],
      "metadata": {
        "id": "L50N5A38khsa"
      }
    },
    {
      "cell_type": "code",
      "source": [
        "## Generates the geodatabase (geodatabase is used as a working directory)\n",
        "## Crucial to keep code as it is needed to run.\n",
        "\n",
        "#arcpy.CreateFileGDB_management(parent_folder, geodatabase_name)"
      ],
      "metadata": {
        "id": "o2NR2cXFphxm"
      },
      "execution_count": null,
      "outputs": []
    },
    {
      "cell_type": "markdown",
      "source": [
        "- **arcpy.env.workspace** establishes the geodatabase as the base workspace for all subsequent operations.\n",
        "\n",
        "- Then, the program confirms the Spatial Analyst extension, which is a prerequisite for geoprocessing operations.\n",
        "\n",
        "- Subsequently, the process of comparing multidimensional variables is disabled, which can occasionally enhance performance.\n",
        "\n",
        "- Moreover, the program permits the overwriting of existing output files. This feature is particularly valuable when running a process repeatedly or when uploading data."
      ],
      "metadata": {
        "id": "SqRfNh21yvjV"
      }
    },
    {
      "cell_type": "code",
      "source": [
        "# Set the geodatabase as the workspace\n",
        "arcpy.env.workspace = geodatabase_path\n",
        "\n",
        "# Set up the environment\n",
        "arcpy.CheckOutExtension(\"Spatial\")\n",
        "\n",
        "arcpy.env.matchMultidimensionalVariable = False\n",
        "#arcpy.env.cellSize = 200\n",
        "arcpy.env.overwriteOutput = True\n",
        "#input_dir = r\"D:\\LST\\TXson_Rasters\\New_folder\""
      ],
      "metadata": {
        "id": "meKOu_nU2oEc"
      },
      "execution_count": null,
      "outputs": []
    },
    {
      "cell_type": "markdown",
      "source": [
        "- The user will then be asked to state the input directory and the ouput directory.\n",
        "\n",
        "  - An example for the input directory would be the following:\n",
        "  > *Enter the input directory:* **E:\\share\\BIgRun\\LAI\\early**\n",
        "\n",
        "  - An example for the output directory would be the following:\n",
        "  > *Enter the output directory:* **E:\\share\\BIgRun\\LAI_Merged\\A**"
      ],
      "metadata": {
        "id": "VuA0DGbm49wN"
      }
    },
    {
      "cell_type": "code",
      "source": [
        "# Set the input directory\n",
        "input_dir = input(\"Enter the input directory: \")\n",
        "\n",
        "# Set the output directory\n",
        "output_dir = input(\"Enter the output directory: \")"
      ],
      "metadata": {
        "id": "GJ9dWrBm33Vq"
      },
      "execution_count": null,
      "outputs": []
    },
    {
      "cell_type": "markdown",
      "source": [
        "- The user is requested to specify how many files are to be merged at the same time.\n",
        "  - An example would be the following:\n",
        "  > *Enter the number of files that need to be merged at a time:* **3**\n",
        "\n",
        "- The variable **dir** utilizes a function to obtain a directory of all files and directories contained within the **input_dir**.\n",
        "\n",
        "- To determine the total number of files, the program subtracts 1 from the length of the variable **dir** because **dir** includes both the current directory and the actual files. Since the current directory is not a file, it is excluded from the count.\n",
        "\n",
        "- Finally, the program concludes by displaying the value stored in the variable **total_files**, which represents the total number of files in the directory."
      ],
      "metadata": {
        "id": "dUM4MPccCMna"
      }
    },
    {
      "cell_type": "code",
      "source": [
        "# State the amount of files that will be merged at a time.\n",
        "file_n = input(\"Enter the number of files that need to be merged at a time: \")\n",
        "\n",
        "# Get a list of all files and directories in input_dir\n",
        "dir = os.listdir(input_dir)\n",
        "\n",
        "# Subtracts 1 from the length of the list\n",
        "total_files = len(dir) - 1\n",
        "\n",
        "# Prints out the value of total_files\n",
        "print(total_files)"
      ],
      "metadata": {
        "id": "NNafsOly26y1"
      },
      "execution_count": null,
      "outputs": []
    },
    {
      "cell_type": "markdown",
      "source": [
        "- A while-loop is employed to iterate over files as long as the variable *i* is less than the total number of files, **total_files**.\n",
        "\n",
        "  If the value of *i* exceeds 646, the following steps are executed:\n",
        "  - The *i*th element of the variable **dir** will be split using a \".\" character as the delimiter and the element will be saved in **file_p1**.\n",
        "  \n",
        "  - The non-digits are eliminated from the second element of **file_p1** using a regular expression, and the outcome is kept in **file_d1**.\n",
        "  - The value of *i* is printed.\n",
        "  - The variable **f_inputs** is assigned an empty list.\n",
        "  - As the code loops through the range specified by *int(file_n)*, the code iterates over *j*. Then it constructs a file path by combining the path to the file **dir[i + j]** with the input directory **input_dir**. This file path is appended to the **f_inputs** list.\n",
        "  - The list of input files named **f_inputs** will be printed.\n",
        "  - The output file path, denoted as **f_out**, is constructed by combining the **output_dir** with the first and second elements of **file_p1** using an underscore separator. The resulting path is then supplemented with a '.crf' extension.\n",
        "  - The *MergeMultidimensionalRasters* function merges the raster files listed in **f_inputs** into a single multidimensional raster file at the path **f_out**. When pixels from the input rasters overlap, the *MEAN* argument dictates that the mean value should be employed.\n",
        "\n",
        "  Finally, the value of *i* is increased by 2 until total_files is completed."
      ],
      "metadata": {
        "id": "olCYrwfT40D8"
      }
    },
    {
      "cell_type": "code",
      "source": [
        "i = 0\n",
        "k = 4\n",
        "print(i)\n",
        "while i < total_files:\n",
        "    if i > 646:\n",
        "        file_p1 = dir[i].split('.')\n",
        "        file_d1 = re.sub(\"\\D\", \"\", file_p1[1])\n",
        "        print(i)\n",
        "        f_inputs = []\n",
        "        for j in range(int(file_n)):\n",
        "            f_inputs.append(os.path.join(input_dir, dir[i + j]))\n",
        "        # f1 = os.path.join(input_dir,dir[i])\n",
        "        # f2 = os.path.join(input_dir,dir[i+1])\n",
        "        print(f_inputs)\n",
        "        f_out = os.path.join(output_dir, file_p1[0] + '_' + file_p1[1] + '.crf')\n",
        "        arcpy.md.MergeMultidimensionalRasters(f_inputs, f_out, 'MEAN')\n",
        "    i = i + 2"
      ],
      "metadata": {
        "id": "qsZZ1xpd26mi"
      },
      "execution_count": null,
      "outputs": []
    }
  ]
}
