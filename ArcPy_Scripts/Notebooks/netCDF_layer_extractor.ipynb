{
  "nbformat": 4,
  "nbformat_minor": 0,
  "metadata": {
    "colab": {
      "provenance": []
    },
    "kernelspec": {
      "name": "python3",
      "display_name": "Python 3"
    },
    "language_info": {
      "name": "python"
    }
  },
  "cells": [
    {
      "cell_type": "markdown",
      "source": [
        "# Introduction\n",
        "\n",
        "The **netCDF_layer_extractor** program leverages the **find_files** function to locate and modify file names for each path. This feature enables users to generate new files and perform data resampling, making it valuable for subsequent analysis and modeling that involve a dimension. The program also allows users to export the *netCDF_raster_layer* to another raster format, with the exported raster file serving as the input for various tools. Additionally, it is designed for viewing dimensions and variables, as well as extracting data from \"*.nc* \" files.\n",
        "\n",
        "---\n",
        "\n",
        "The following libraries are imported to allow the code to run:\n",
        "\n",
        "- **os** - The directory service provides the ability to create and remove directory folders, gather data, change and find the current directory, and provide a means for users and the operating system to interact with each other.\n",
        "- **arcpy** - Arcpy enables efficient and effective geographic data analysis, data management, map automation, and data conversion. With ArcPy, users can leverage the capabilities of Python to effortlessly handle complex geospatial tasks.\n",
        "- **fnmatch** - Compares filenames against a pattern and returns True or False according to the name.\n",
        "> For more information visit: https://docs.python.org/3/library/fnmatch.html"
      ],
      "metadata": {
        "id": "Rak8OZ2TDxru"
      }
    },
    {
      "cell_type": "code",
      "source": [
        "import os\n",
        "import arcpy\n",
        "import fnmatch"
      ],
      "metadata": {
        "id": "9lJZBwp46DQz"
      },
      "execution_count": null,
      "outputs": []
    },
    {
      "cell_type": "markdown",
      "source": [
        "*find_files*\n",
        "\n",
        "---\n",
        "\n",
        "- The function is designed to locate files within a designated directory and its subdirectories that conform to a specified file extension. The function parameters are the following: **directory** is used to search for files and **extension** is the file extension to match (i.e. 'txt' or 'csv')."
      ],
      "metadata": {
        "id": "xupd-4slPdTw"
      }
    },
    {
      "cell_type": "code",
      "source": [
        "def find_files(directory, extension):\n",
        "    # Empty lists are created\n",
        "    matches = []\n",
        "    file_n = []\n",
        "    # Sorts through all files\n",
        "    for root, dirnames, filenames in os.walk(directory):\n",
        "        for filename in fnmatch.filter(filenames, f'*.{extension}'):\n",
        "            matches.append(os.path.join(root, filename))\n",
        "            file_n.append(filename)\n",
        "    return matches, file_n"
      ],
      "metadata": {
        "id": "NAxU1f_f6Gk_"
      },
      "execution_count": null,
      "outputs": []
    },
    {
      "cell_type": "markdown",
      "source": [
        "- The user will be asked to state the input directory and the output directory.\n",
        "\n",
        "  - An example for the input directory would be the following:\n",
        "  > *Enter the parent input directory:* **E:\\share\\Copernicus_NDVI\\M0216794\\etCDF**\n",
        "\n",
        "  - An example for the output directory would be the following:\n",
        "  > *Enter the output directory:* **E:\\share\\Copernicus_NDVI\\M0216794_Layers**"
      ],
      "metadata": {
        "id": "Alk4-9-AD5ek"
      }
    },
    {
      "cell_type": "code",
      "source": [
        "# Set the input directory\n",
        "input_dir = input(\"Enter the parent input directory: \")\n",
        "\n",
        "# Set the output directory\n",
        "output_dir = input(\"Enter the parent output directory: \")"
      ],
      "metadata": {
        "id": "081ltfMN_D9A"
      },
      "execution_count": null,
      "outputs": []
    },
    {
      "cell_type": "markdown",
      "source": [
        "- The input extension of the file is requested, as well as the variable that will be used for the extraction.\n",
        "\n",
        "  - An example of the input extension would be the following:\n",
        "  > *Please enter the input extension of the file:* **nc**\n",
        "\n",
        "  - An example of the variable which will be used for the extraction would be the following:\n",
        "  > *Please enter the variable for the extension:* **ndvi**"
      ],
      "metadata": {
        "id": "O8ll76RrIRm4"
      }
    },
    {
      "cell_type": "code",
      "source": [
        "# File Extension\n",
        "file_ex = input(\"Please enter the input extension of the file: \")\n",
        "\n",
        "# File Extraction\n",
        "var = input(\"Please enter the variable for the extraction: \")"
      ],
      "metadata": {
        "id": "4B_hw00QAcWe"
      },
      "execution_count": null,
      "outputs": []
    },
    {
      "cell_type": "markdown",
      "source": [
        "- The output directory and '*netCDF_Layer_extractor.gdb*' are used to create the file **geodatabase_path**.\n",
        "  - After file creation, its existence is checked. If the file exists, it is displayed to the user. In the absence of the file, a new geodatabase file is created using **arcpy.CreateFileGDB_management**."
      ],
      "metadata": {
        "id": "oYTJgn0dD_yZ"
      }
    },
    {
      "cell_type": "code",
      "source": [
        "# geodatabase_path is created and checks if file was created\n",
        "geodatabase_path = os.path.join(output_dir, 'netCDF_Layer_extractor.gdb')\n",
        "if os.path.exists(geodatabase_path):\n",
        "    print(geodatabase_path)\n",
        "else:\n",
        "    arcpy.CreateFileGDB_management(output_dir, 'netCDF_Layer_extractor')"
      ],
      "metadata": {
        "id": "pM-PvbY56WyM"
      },
      "execution_count": null,
      "outputs": []
    },
    {
      "cell_type": "markdown",
      "source": [
        "- The code creates a list of files based on the input directory and the file extension.\n",
        "  - A new file name is constructed by combining the **output_dir** with the **file_ns[i]** string.\n",
        "  - Within the *file_ns[i]* string, the \"*.nc* \" extension is replaced with \"*.crf* \" and the string \"*0000* \" is removed from the file name. The resulting file name is stored in the variable **f_name**.\n",
        "\n",
        "- The *arcpy.md.MakeMultidimensionalRasterLayer* function generates a multidimensional raster layer from the file **file_path** and the variable name **var**. The resulting multidimensional raster layer is saved as **f_name**.  \n",
        "- By utilizing the **arcpy.management.Resample** function, a multidimensional raster layer is created from the input raster dataset **f_name**. The resampled raster dataset's output will be saved as **f_name**.\n",
        "- Finally, variable **i** is incremented by **1**, which triggers the program to run again with the next set of data."
      ],
      "metadata": {
        "id": "9oeDhzdj17On"
      }
    },
    {
      "cell_type": "code",
      "source": [
        "files, file_ns= find_files(input_dir, file_ex)\n",
        "XDimension = \"lon\"\n",
        "YDimension = \"lat\"\n",
        "i = 0\n",
        "for file_path in files:\n",
        "    if True:\n",
        "        f_name = os.path.join(output_dir, file_ns[i].replace('.nc', '.crf').replace('0000', ''))\n",
        "        print(f_name)\n",
        "        arcpy.md.MakeMultidimensionalRasterLayer(file_path, f_name, var)\n",
        "        arcpy.management.Resample(f_name, f_name)\n",
        "    i = i + 1"
      ],
      "metadata": {
        "id": "-OcEuLpV6aw5"
      },
      "execution_count": null,
      "outputs": []
    }
  ]
}
