{
  "nbformat": 4,
  "nbformat_minor": 0,
  "metadata": {
    "colab": {
      "provenance": []
    },
    "kernelspec": {
      "name": "python3",
      "display_name": "Python 3"
    },
    "language_info": {
      "name": "python"
    }
  },
  "cells": [
    {
      "cell_type": "markdown",
      "source": [
        "# Introduction\n",
        "\n",
        "The **MultiBand_Raster_Extractor** program enables the extraction of one or multiple bands, or the reordering of bands as a multiband raster layer. It facilitates the creation of a duplicate raster file as output.\n",
        "\n",
        "---\n",
        "The following libraries are imported to allow the code to be run:\n",
        "- **os** - The directory service provides the ability to create and remove directory folders, gather data, change and find the current directory, and provide a means for users and the operating system to interact with each other.\n",
        "- **sys** - Provides a way to manipulate the runtime of the program by using certain parameters and functions.\n",
        "- **arcpy** - ArcPy enables efficient and effective geographic data analysis, data management, map automation, and data conversion. With ArcPy, users can leverage the capabilities of Python to effortlessly handle complex geospatial tasks.\n"
      ],
      "metadata": {
        "id": "nWFIxI-r_q7m"
      }
    },
    {
      "cell_type": "markdown",
      "source": [
        "---\n",
        "> **Note:**\n",
        ">  - To ensure the code is tailored to the user's requirements, edit the comments so that they are included when running the script."
      ],
      "metadata": {
        "id": "ylExE37iz9Wh"
      }
    },
    {
      "cell_type": "code",
      "source": [
        "import os\n",
        "import sys\n",
        "import arcpy"
      ],
      "metadata": {
        "id": "xnT_016o2SOb"
      },
      "execution_count": null,
      "outputs": []
    },
    {
      "cell_type": "markdown",
      "source": [
        "- The user will be asked to input the file path and name of the raster file.\n",
        "\n",
        "  - An example of the file path would be the following:\n",
        "    > *Enter the full file path of the template point shape file:* **E:\\\\share\\\\MODIS_CONUS_NDVI\\\\CONUS_AQUA_C6_eMODIS_wkly_smNDVI_2015.tif**\n",
        "\n",
        "  - An example of the raster file would be the following:\n",
        "    > *Enter the name of the raster file:* **CONUS_SQUA_C6_eMODIS_wkly_smNDVI_2015.tif**\n",
        "\n",
        "- When the user provides the file path and name of the raster file, these elements are concatenated to create a new file named **raster_file**."
      ],
      "metadata": {
        "id": "ZF7Z6HFI23E9"
      }
    },
    {
      "cell_type": "code",
      "source": [
        "# State the file path\n",
        "raster_path = input(\"Enter the full file path of the template point shape file: \")\n",
        "\n",
        "# State the name of the raster file\n",
        "raster_name = input(\"Enter the name of the raster file: \")\n",
        "\n",
        "# Creating a full path of the point shape file path and the name of the raster file\n",
        "raster_file = os.path.join(raster_path, raster_name)"
      ],
      "metadata": {
        "id": "tb1Vi5X22Xkn"
      },
      "execution_count": null,
      "outputs": []
    },
    {
      "cell_type": "markdown",
      "source": [
        "- The script first navigates to the directory containing the specified raster file, making it the current workspace.\n",
        "- Subsequently, a list of all raster datasets located within that workspace is generated, providing a comprehensive overview of the available raster data.\n",
        "- The files are then used with the CopyRaster function and the output with the new file name, including the band number."
      ],
      "metadata": {
        "id": "2a_iVCJ6r5Nm"
      }
    },
    {
      "cell_type": "code",
      "source": [
        "# Gets a list of the bands that make up the raster\n",
        "arcpy.env.workspace = raster_file\n",
        "bRng = arcpy.ListRasters()\n",
        "\n",
        "for ThisBnd in bRng:\n",
        "  # Loop through the bands and export each one with CopyRaster\n",
        "  InBand = os.path.join(raster_file, ThisBnd)\n",
        "  bndDesc = arcpy.Describe(InBand)\n",
        "  NoData = bndDesc.noDataValue\n",
        "  # Splits the image name and extension\n",
        "  InSplit = os.path.splitext(raster_file)\n",
        "  OutRas = '{}_{}{}'.format(InSplit[0], ThisBnd, InSplit[1])\n",
        "  arcpy.CopyRaster_management(InBand, OutRas, nodata_value = NoData)"
      ],
      "metadata": {
        "id": "rlhI8tzh2tgb"
      },
      "execution_count": null,
      "outputs": []
    }
  ]
}
