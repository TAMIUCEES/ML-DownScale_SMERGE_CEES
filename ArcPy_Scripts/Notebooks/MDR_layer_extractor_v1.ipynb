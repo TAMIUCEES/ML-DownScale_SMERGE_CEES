{
  "nbformat": 4,
  "nbformat_minor": 0,
  "metadata": {
    "colab": {
      "provenance": []
    },
    "kernelspec": {
      "name": "python3",
      "display_name": "Python 3"
    },
    "language_info": {
      "name": "python"
    }
  },
  "cells": [
    {
      "cell_type": "markdown",
      "source": [
        "#Introduction\n",
        "**MDR_layer_extractorV1** is used to ***explain***\n",
        "\n",
        "---\n",
        "The following program can be ran with these libraries\n",
        ">* **arcpy** - Allows to run all train and test scripts in an interactive environment\n",
        "* **os** - Allows the creation and removal of directory folders, gathering data, changing and finding current directory. Also, used for user and operation system to interact"
      ],
      "metadata": {
        "id": "7m90GMrflvuN"
      }
    },
    {
      "cell_type": "code",
      "source": [
        "# Libraries used\n",
        "import arcpy\n",
        "import os"
      ],
      "metadata": {
        "id": "psbMkUR2U4QP"
      },
      "execution_count": null,
      "outputs": []
    },
    {
      "cell_type": "code",
      "source": [
        "# Sets the environment to overwrite existing outputs with same name\n",
        "arcpy.env.overwriteOutput = True"
      ],
      "metadata": {
        "id": "CTotJDhLW_vt"
      },
      "execution_count": null,
      "outputs": []
    },
    {
      "cell_type": "markdown",
      "source": [
        "- User is asked to state the file input, the file output, the name of the file, and the name of the file extension.\n",
        "\n",
        "- An example for the input directory would be the following:\n",
        ">*Enter the input directory:* **E:\\share\\Copernicus_NDVI\\M0204242\\NDVI300_201601010000_GLOBE_PROBAV_V1.0.1**\n",
        "\n",
        " An example for the output directory would be the following:\n",
        ">*Enter the output directory:* **E:\\share\\Copernicus_NDVI\\M0204242\\NDVI300_201601010000_GLOBE_PROBAV_V1.0.1**\n",
        "\n",
        "  An example for the layer name is the following:\n",
        ">*Enter the layer name to be extraced:* **NDVI**\n",
        "\n",
        "  An example for the name of the extension is the following:\n",
        ">*Enter the file extension:* **.nc**"
      ],
      "metadata": {
        "id": "ZPTnKsJojyE5"
      }
    },
    {
      "cell_type": "code",
      "source": [
        "# Sets the input directory\n",
        "input_dir = input(\"Enter the input directory: \")\n",
        "# Sets the output directory\n",
        "output_dir = input(\"Enter the output directory: \")\n",
        "\n",
        "# Sets the layer name\n",
        "layer_name = input(\"Enter the layer name to be extracted: \")\n",
        "# Sets the file extension\n",
        "ext = input(\"Enter the file extenstion: \")"
      ],
      "metadata": {
        "id": "98QU-79wXGlY"
      },
      "execution_count": null,
      "outputs": []
    },
    {
      "cell_type": "code",
      "source": [
        "# Create a list of MD files in the input directory\n",
        "md_files = []\n",
        "for file in os.listdir(input_dir):\n",
        "  if file.endswith(ext):\n",
        "    md_files.append(os.path.join(input_dir, file))"
      ],
      "metadata": {
        "id": "85BvT-gOaJg9"
      },
      "execution_count": null,
      "outputs": []
    },
    {
      "cell_type": "markdown",
      "source": [
        "- Using the MD files list, subset operations can be used for the list.\n",
        "\n",
        "  The output file is made by joining the output directory and the base name of the MD file.\n",
        "  \n",
        "  The file extension from the **output_file** is removed and the file extension is then replaced with \".tif\".\n",
        "  \n",
        "   Each subset is then printed with the final statement being \"Process complete\"."
      ],
      "metadata": {
        "id": "zaGc_rmGYzov"
      }
    },
    {
      "cell_type": "code",
      "source": [
        "# Iterate through the list of MD files and perform the subset\n",
        "for md_file in md_files:\n",
        "  # Set the output file name\n",
        "  output_file = os.path.join(output_dir, os.path.basename(md_file))\n",
        "  output_file = os.path.splitext(output_file)[0] + \".tif\"\n",
        "  print(md_file)\n",
        "  # Perform the subset\n",
        "  arcpy.SubsetMultidimensionalRaster_md(md_file, output_file, layer_name)\n",
        "print(\"Process complete.\")"
      ],
      "metadata": {
        "id": "i6U_7NpjagVW"
      },
      "execution_count": null,
      "outputs": []
    }
  ]
}