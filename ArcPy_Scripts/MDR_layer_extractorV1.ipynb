{
  "nbformat": 4,
  "nbformat_minor": 0,
  "metadata": {
    "colab": {
      "provenance": []
    },
    "kernelspec": {
      "name": "python3",
      "display_name": "Python 3"
    },
    "language_info": {
      "name": "python"
    }
  },
  "cells": [
    {
      "cell_type": "markdown",
      "source": [
        "#Introduction\n",
        "**MDR_layer_extractorV1** is used to\n",
        "\n",
        "---\n",
        "The following program can be ran with these libraries\n",
        ">* **arcpy** - Allows to run all train and test scripts in an interactive environment\n",
        "* **os** - Allows the creation and removal of directory folders, gathering data, changing and finding current directory. Also, used for user and operation system to interact"
      ],
      "metadata": {
        "id": "7m90GMrflvuN"
      }
    },
    {
      "cell_type": "code",
      "source": [
        "# Libraries used\n",
        "import arcpy\n",
        "import os"
      ],
      "metadata": {
        "id": "psbMkUR2U4QP"
      },
      "execution_count": null,
      "outputs": []
    },
    {
      "cell_type": "code",
      "source": [
        "arcpy.env.overwriteOutput = True"
      ],
      "metadata": {
        "id": "CTotJDhLW_vt"
      },
      "execution_count": null,
      "outputs": []
    },
    {
      "cell_type": "markdown",
      "source": [
        "User is asked to input file input and output information\n",
        "\n",
        "An example would be:\n",
        ">*Enter the input directory:* **E:\\share\\Copernicus_NDVI\\M0204242\\NDVI300_201601010000_GLOBE_PROBAV_V1.0.1**\n",
        ">\n",
        ">*Enter the output directory:* **E:\\share\\Copernicus_NDVI\\M0204242\\NDVI300_201601010000_GLOBE_PROBAV_V1.0.1**\n",
        ">\n",
        ">*Enter the layer name to be extraced:* **NDVI**\n",
        ">\n",
        ">*Enter the file extension:* **.nc**"
      ],
      "metadata": {
        "id": "ZPTnKsJojyE5"
      }
    },
    {
      "cell_type": "code",
      "source": [
        "#Set the input directory\n",
        "input_dir = input(\"Enter the input directory: \")\n",
        "#Set the output directory\n",
        "output_dir = input(\"Enter the output directory: \")\n",
        "#Set the layer name\n",
        "layer_name = input(\"Enter the layer name to be extracted: \")\n",
        "#File extension\n",
        "ext = input(\"Enter the file extenstion: \")"
      ],
      "metadata": {
        "id": "98QU-79wXGlY"
      },
      "execution_count": null,
      "outputs": []
    },
    {
      "cell_type": "code",
      "source": [
        "# Create a list of .hdf files in the input directory\n",
        "hdf_files = []\n",
        "for file in os.listdir(input_dir):\n",
        "  if file.endswith(ext):\n",
        "    hdf_files.append(os.path.join(input_dir,file))"
      ],
      "metadata": {
        "id": "85BvT-gOaJg9"
      },
      "execution_count": null,
      "outputs": []
    },
    {
      "cell_type": "markdown",
      "source": [
        "Using the HDF files list, subset operations can be used for the list. The the output file is made by joining the output directory and the base name of the HDF file, the file extension is then replaced with \".tif\". Each subset is then printed with the final statement being \"Process complete\"."
      ],
      "metadata": {
        "id": "zaGc_rmGYzov"
      }
    },
    {
      "cell_type": "code",
      "source": [
        "# Iterate through the list of .hdf files and perform the subset\n",
        "for hdf_file in hdf_files:\n",
        "  # Set the output file name\n",
        "  output_file = os.path.join(output_dir,os.path.basename(hdf_file))\n",
        "  output_file = os.path.splitext(output_file)[0] + \".tif\"\n",
        "  print(hdf_file)\n",
        "  # Perform the subset\n",
        "  arcpy.SubsetMultidimensionalRaster_md(hdf_file,output_file,layer_name)\n",
        "print(\"Process complete\")"
      ],
      "metadata": {
        "id": "i6U_7NpjagVW"
      },
      "execution_count": null,
      "outputs": []
    }
  ]
}