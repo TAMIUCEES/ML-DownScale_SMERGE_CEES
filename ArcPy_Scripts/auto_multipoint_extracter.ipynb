{
  "nbformat": 4,
  "nbformat_minor": 0,
  "metadata": {
    "colab": {
      "provenance": []
    },
    "kernelspec": {
      "name": "python3",
      "display_name": "Python 3"
    },
    "language_info": {
      "name": "python"
    }
  },
  "cells": [
    {
      "cell_type": "markdown",
      "source": [
        "#Introduction\n",
        "---\n",
        "The following libraries allow the program to run.\n",
        ">* **arcpy** - Allows to run all train and test scripts in an interactive environment.\n",
        ">* **env** - Accesses and uses the arcpy library to define variables in the env module.\n",
        ">* **re** - regular expression or re-uses a set of strings or searches for a certain pattern.\n",
        ">* **Pandas** -  Used to model, analysis, and manipulate data sets\n",
        ">* **arcpy.sa import *** - from the arcpy.sa module the user can use the *arcpy.sa import* to use spatial analyst.\n",
        ">* **os** - Allows the directory service to provide the ability to create and remove directory folders, gather data, change and find the current directory, and provide a means for users and the operating system to interact with each other"
      ],
      "metadata": {
        "id": "_C3m5WzSlbC_"
      }
    },
    {
      "cell_type": "code",
      "execution_count": null,
      "metadata": {
        "id": "MEYEjHOeTsxY"
      },
      "outputs": [],
      "source": [
        "# Libraries\n",
        "import arcpy\n",
        "from arcpy import env\n",
        "import re\n",
        "import pandas as pd\n",
        "from arcpy.sa import *\n",
        "import os"
      ]
    },
    {
      "cell_type": "markdown",
      "source": [
        "If the *input_raster* exists, then the values are extracted from the input raster and are transferred to the shapefile which creates a new raster file due to the *ExtractMultiValuesToPoints*."
      ],
      "metadata": {
        "id": "y7Kzm-BajLST"
      }
    },
    {
      "cell_type": "code",
      "source": [
        "def raster_points(input_raster,output_raster,shp_file):\n",
        "  # Read the input and check rasters\n",
        "  in_raster = Raster(input_raster)\n",
        "  ExtractMultiValuesToPoints(shp_file,[[in_raster,ouput_raster]],'NONE')\n",
        "  #arcpy.sa.ExtractValuesToPoints(thrity_points, in_raster,thirty_points,'NONE')"
      ],
      "metadata": {
        "id": "0dFQ7CjMchEe"
      },
      "execution_count": null,
      "outputs": []
    },
    {
      "cell_type": "code",
      "source": [
        "# Define the parent folder and the geodatabase name\n",
        "parent_folder = os.getcwd()\n",
        "geodatabase_name = \"example2.gdb\""
      ],
      "metadata": {
        "id": "0WPbW1zvc-Ab"
      },
      "execution_count": null,
      "outputs": []
    },
    {
      "cell_type": "code",
      "source": [
        "# Create the file geodatabase\n",
        "geodatabase_path = os.path.join(parent_folder,geodatabase_name)\n",
        "if os.path.exists(geodatabase_path):\n",
        "  print(geodatabase_path)\n",
        "else:\n",
        "  arcpy.CreateFileGDB_management(parent_folder,geodatabase_name)"
      ],
      "metadata": {
        "id": "JEQdnFtNdpiN"
      },
      "execution_count": null,
      "outputs": []
    },
    {
      "cell_type": "code",
      "source": [
        "# Set the geodatabase as the workspace\n",
        "arcpy.env.workspace = geodatabase_path"
      ],
      "metadata": {
        "id": "uz96ZBj_etNa"
      },
      "execution_count": null,
      "outputs": []
    },
    {
      "cell_type": "code",
      "source": [
        "# Set up the environment\n",
        "arcpy.env.parallelProcessingFactor = 0\n",
        "arcpy.CheckOutExtension(\"Spatial\")\n",
        "arcpy.env.matchMultidimensionalVariable = False\n",
        "arcpy.env.overwriteOutput = True"
      ],
      "metadata": {
        "id": "LVD-x8Afe10P"
      },
      "execution_count": null,
      "outputs": []
    },
    {
      "cell_type": "markdown",
      "source": [
        "Enter the product, input directory, and file path with name.\n",
        "\n",
        "An example would be:\n",
        ">*Enter the name of the data product:* **PPT**\n",
        "\n",
        ">*Enter the input directory:* **E:\\\\share\\\\BIgRun\\\\Prism_PPT**\n",
        "\n",
        ">*Enter the full file path and name of the grid shape file:* **E:\\\\share\\\\BIgRun\\\\Grids\\\\Grid_30.shp**\n",
        "\n",
        "If the file does not exist then user will have to try again until told otherwise."
      ],
      "metadata": {
        "id": "EavGrUYZfjJz"
      }
    },
    {
      "cell_type": "code",
      "source": [
        "# Set data product name\n",
        "product = input(\"Enter the name of the data product: \")\n",
        "# Set the input directory\n",
        "input_dir = input(\"Enter the input directory: \")\n",
        "# Set the file path and name of the grid shape file\n",
        "grid_shape_file = input(\"Enter the full file path and name of the grid shape file: \")\n",
        "while not os.path.exists(grid_shape_file):\n",
        "  print('The shapefile was not found')\n",
        "  co = input(\"Please try again: \")"
      ],
      "metadata": {
        "id": "fuOTZDQofp14"
      },
      "execution_count": null,
      "outputs": []
    },
    {
      "cell_type": "markdown",
      "source": [
        "The user is prompted to provide the information about the file they intend to work on. The filepath and the name of the template point shapefile are combined to create a file.\n",
        "\n",
        "An example would be:\n",
        "  - Gathering data for point shape file:\n",
        "    > *Enter the full path of the template point shape file:* **E:\\\\\\share\\ArcGIS Projects\\\\\\US_Soils\\\\\\US_Soils.gdb**\n",
        "\n",
        "    > *Enter the name of the template point shape file:* **Grid_30_Prime_label**\n",
        "\n",
        "    > *Enter the name of the point shape file:* **PPT_30_Points.shp**\n",
        "\n",
        "    > *Enter 'Y' if you are adding to an existing point shape file. If the user is creating or overwriting a new point file enter 'N':* **Y**\n",
        "\n",
        "\n",
        "  - Output from the given data:\n",
        "    > *Point shape name:* **PPT_30_Points.shp**\n",
        "\n",
        "    > *File used:* **C:\\\\\\Users\\\\\\user_name\\\\\\Documents\\\\\\example2.gdb\\\\\\PPT_30_Points.shp**\n",
        "\n",
        "\n",
        "When the user inputs 'Y' to add to an existing point shape file, the point shape name is displayed. Subsequently, a file is created by combining the template point shapefile and the name of the template point shapefile. Conversely, if the user enters 'N', the variable *temp_point_shape_file* is utilized to create a file using *geodatabase_path* and *point_shape_name*."
      ],
      "metadata": {
        "id": "QeTfm4c8417T"
      }
    },
    {
      "cell_type": "code",
      "source": [
        "# Data needed for point shape file\n",
        "\n",
        "temp_point_shape_path = input(\"Enter the full file path of the template point shape file: \")\n",
        "temp_point_shape_name = input(\"Enter the name of the template point shape file: \")\n",
        "temp_point_shape_file = os.path.join(temp_point_shape_path,temp_point_shape_name)\n",
        "\n",
        "point_shape_name = input(\"Enter the name of the point shape file: \")\n",
        "point_check = input(\"Enter 'Y' if you are adding to an existing point shape file. If you are creating or overwriting a new point file enter 'N': \")"
      ],
      "metadata": {
        "id": "uzDmS2_ggeAX"
      },
      "execution_count": null,
      "outputs": []
    },
    {
      "cell_type": "code",
      "source": [
        "print(point_shape_name)\n",
        "\n",
        "while not point_check != 'Y' and point_check != 'N':\n",
        "point_shape_file = input(\"Please try again: \")\n",
        "\n",
        "if point_check =='Y':\n",
        " while not os.path.isfile(point_shape_file):\n",
        " print('The shapefile was not found, should be in the same directory as the .py script')\n",
        " point_shape_file = input(\"Please try again: \")\n",
        "\n",
        "thirty_points = temp_point_shape_file\n",
        "gb_thirty_points = os.path.join(geodatabase_path, point_shape_name)\n",
        "print(gb_thirty_points)\n",
        "\n",
        "if point_check == 'N':\n",
        "  arcpy.conversion.FeatureClassToFeatureClass(thirty_points, geodatabase_path, point_shape_name)"
      ],
      "metadata": {
        "id": "Y_CzR3Ax6pvj"
      },
      "execution_count": null,
      "outputs": []
    },
    {
      "cell_type": "markdown",
      "source": [
        "The data from the file \"dates.txt\" will be read and parsed into a list of dates. Subsequently, the user will be prompted to input two values: monthly lag and offset. These values will be set to integers. Additionally, the user will specify the index from which the list of dates should be sliced. The code will then update the list by extracting the elements from the specified starting index to the end of the list.\n",
        "\n",
        "An example would be:\n",
        "> *Enter the number monthly lab:* **0**\n",
        "\n",
        "> *Enter the day offset:* **0**\n",
        "\n",
        "> *If you need to start on a different date enter its index, if not enter 1:* **1**"
      ],
      "metadata": {
        "id": "o1zsm4bl1bOg"
      }
    },
    {
      "cell_type": "code",
      "source": [
        "# Read the list of dates\n",
        "while not os.path.exists(\"dates.txt\"):\n",
        "  print('The date list txt was not found, should be in the same directory as the .py script. ')\n",
        "  n = input(\"Press enter to try again: \")\n",
        "text_file = open(\"dates.txt\")\n",
        "date = text_file.read().split(',')\n",
        "\n",
        "lag = input(\"Enter the number monthly lag: \")\n",
        "lag = int(lag)\n",
        "\n",
        "offset = input(\"Enter the day offset: \")\n",
        "offset = int(offset)\n",
        "\n",
        "start = input(\"If you need to start on a different date enter it's index, if not enter 1: \")\n",
        "start = int(start) - 1\n",
        "\n",
        "date = date[start:]"
      ],
      "metadata": {
        "id": "LLsxHwQl9zRL"
      },
      "execution_count": null,
      "outputs": []
    },
    {
      "cell_type": "markdown",
      "source": [
        "The file extension is responsible for indicating the file's layout and structure. Similarly, the filename separator serves as a component of the file's title, enhancing its readability for users. *Furthermore, the user is prompted to specify the position of the date and the specific dates that should be processed.\n",
        "\n",
        "An example would be:\n",
        "> *Enter the file extension:* **.bil**\n",
        "\n",
        "> *Enter the filename separator:* **_**\n",
        "\n",
        "> *Enter the position of the date within the filenames, starting at index 0 (i.e., ALB_2000123 position is 1):* **4**\n",
        "\n",
        "> *Enter the year you wish to process (to process all, leave blank and press enter):*\n",
        "\n",
        "> *If the file uses %Y%j, type 'A'. Else if the file uses %Y%m%d, type 'B' :* **B**"
      ],
      "metadata": {
        "id": "Rfz7-NdmDg_0"
      }
    },
    {
      "cell_type": "code",
      "source": [
        "# File type\n",
        "fytpe = input(\"Enter the file extension: \")\n",
        "\n",
        "# Filename separator\n",
        "sep = input(\"Enter the filename separator: \")\n",
        "\n",
        "# Date Position\n",
        "d_pos = input('Enter the position of the date within the filenames, starting at index 0 (example ALB_2000123 position is 1): ')\n",
        "d_pos = int(d_pos)\n",
        "\n",
        "# Year batch\n",
        "yer = input(\"Enter the year you wish to process (to process all leave blank and press enter): \")\n",
        "\n",
        "# Date Formatting\n",
        "d_f = input(\"If the file uses %Y%j, type 'A'. Else if the file uses %Y%m%d, type 'B': \")\n",
        "while d_f != 'A' and d_f != 'B':\n",
        "  d = input(\"Input ERROR. If the file uses %Y%j, type 'A'. Else if the file uses %Y%m%d, type 'B': \")\n",
        "\n",
        "if d_f == 'A':\n",
        "  d_format = %Y%j\n",
        "if d_f == 'B':\n",
        "  d_format = %Y%m%d"
      ],
      "metadata": {
        "id": "kYauX_1zBLzb"
      },
      "execution_count": null,
      "outputs": []
    },
    {
      "cell_type": "markdown",
      "source": [
        "\n",
        "Using the *input_dir* and *ftype* variables, the code can create a list of files and filter each list. Then, the date is set and can perform calculations for each date in the list. Next, if a condition is true and met for each file in the filtered list, *ref_dir*, it will then perform some operations. The code will then add 1 to the variable *i* at the end of each iteration."
      ],
      "metadata": {
        "id": "qEWJ4aFDXxxx"
      }
    },
    {
      "cell_type": "markdown",
      "source": [
        "- The **fdir** command is utilized to compile a catalog of directories within a designated directory.\n",
        "\n",
        "  Subsequently, an empty list is established under the **ref_dir** variable.\n",
        "\n",
        "  The program proceeds to ascertain whether the current file, denoted as **fd**, concludes with the specified file extension, **ftype**.\n",
        "\n",
        "  If the condition is met, the file with the specified extension is appended to the **ref_dir** list.\n",
        "- The code enters a loop that iterates through each date in the **date** list. For each date in the list, the **j** variable is initialized to **False**.\n",
        "  - The program first converts a date formatted as '*%m/%d/%Y* ' into a datetime object, then adds a specified number of months to the date.\n",
        "  - The variable **date_n** provides the year, which is extracted from it. **u_date_n** is created by adding the specified number of days to **date_n**. **l_date_n** is created by subtracting the specified number of days from **date_n**."
      ],
      "metadata": {
        "id": "XNmv7KDmYG1e"
      }
    },
    {
      "cell_type": "code",
      "source": [
        "# Creates list\n",
        "fdir = os.listdir(input_dir)\n",
        "ref_dir = []\n",
        "for fd in fdir:\n",
        "  if fd.endswith(ftype):\n",
        "    ref_dir.append(fd)\n",
        "i = start\n",
        "\n",
        "# Sets format for date\n",
        "for d in date:\n",
        "  j = False\n",
        "  # Converts current date to datetime and adds specified number of months\n",
        "  date_n = pd.to_datetime(d, format = \"%m%d%Y\") + pd.DateOffset(months = lag)\n",
        "  # Extracts the year from date_n\n",
        "  year = date_n.year\n",
        "  # Adds specified days to date_n\n",
        "  u_date_n = date_n + pd.DateOffset(days=offset)\n",
        "  # Subtracts specified days from date_n\n",
        "  l_date_n = date_n - pd.DateOffset(days=offset)\n",
        "  for f in ref dir:\n",
        "    if j == True:\n",
        "      break\n",
        "    # Splits f using the separator (sep)\n",
        "    file_p = f.split(sep)\n",
        "    # Replaces non-digit charac. with a \"\\\"\n",
        "    file_p = re.sub(\"D\",\"\\\\\",file_p[d_pos])\n",
        "    # Converts to datetime\n",
        "    date_p = pd.to_datetime(file_p, formate=d_format)\n",
        "\n",
        "    if d_f == 'A':\n",
        "      # Extracts day of year from date_n and stores in doy\n",
        "      doy = date_n.timetuple().tm_yday\n",
        "      # Concatenates the year with day of year of u_date_n\n",
        "      u_date_c = str(u_date_n.year) + str(u_date_n.timetupe().tm_yday).zfill(3)\n",
        "      # Concatenates the year with day of year of l_date_n\n",
        "      l_date_c = str(l_date_n.year) + str(l_date_n.timetuple().tm_yday).zfill(3)\n",
        "\n",
        "    if d_f == 'B':\n",
        "      # Concatenates the year, month, and day of u_date_n\n",
        "      u_date_c = str(u_date_n.year) + str(u_date_n.month).zfill(2) + str(u_date_n.day).zfill(2)\n",
        "      # Concatenates the year, month, and day of l_date_n\n",
        "      l_date_c = str(l_date_n.year) + str(l_date_n.month).zfill(2) + str(l_date_n.day).zfill(2)\n",
        "\n",
        "    if date_p.year == year and (int(l_date_c) <= int(file_p) <= int(u_date_c)):\n",
        "      # Constructs full path\n",
        "      intput_raster = os.path.join(input_dir, f)\n",
        "      # Concatenates the following variables\n",
        "      # Has to by date index number, because th arcpy multipoint function has a name length limit\n",
        "      data_name = product + \"_\" + str(i).zfill(3)\n",
        "      print(file_p)\n",
        "      print(data_name + \" \" + str(date_n))\n",
        "      output_raster = data_name\n",
        "      raster_points(input_raster, output_raster, gb_thirty_points)\n",
        "      j = True\n",
        "  i = i+1"
      ],
      "metadata": {
        "id": "3NLEJ-2BDs0J"
      },
      "execution_count": null,
      "outputs": []
    },
    {
      "cell_type": "markdown",
      "source": [
        "Arcpy can validate the use of the table name and can be used for geoprocessing operations. The *len(os.listdir(input_dir))* uses the input directory to retrieve the number of files in the directory and the list of files that were returned. Lastly, the value of the offset is printed."
      ],
      "metadata": {
        "id": "YjHIFbYiT3tr"
      }
    },
    {
      "cell_type": "code",
      "source": [
        "arcpy.ValidateTableName(gb_thirty_points)\n",
        "\n",
        "len(os.listdir(input_dir))\n",
        "\n",
        "print(offset)"
      ],
      "metadata": {
        "id": "2FkYLFteLe5D"
      },
      "execution_count": null,
      "outputs": []
    }
  ]
}
