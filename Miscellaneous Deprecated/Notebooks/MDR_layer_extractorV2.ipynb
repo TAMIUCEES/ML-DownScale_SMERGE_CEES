{
  "nbformat": 4,
  "nbformat_minor": 0,
  "metadata": {
    "colab": {
      "provenance": []
    },
    "kernelspec": {
      "name": "python3",
      "display_name": "Python 3"
    },
    "language_info": {
      "name": "python"
    }
  },
  "cells": [
    {
      "cell_type": "markdown",
      "source": [
        "#Introduction\n",
        "**MDR_layer_extractorV2** program utilizes the function to extract subsets from multiple multidimensional raster datasets. The program saves these to a designated directory, facilitating the analysis and management of specific raster layers, by optimizing storage. The program, utilizies user inputs and generates a new file containing the band numbers that comprise a raster. This feature facilitates efficient file organization and analysis.\n",
        "\n",
        "\n",
        "---\n",
        "The following libraries allow the program to run:\n",
        "> * **arcpy** - Allows to run all train and test scripts in an interactive environment.\n",
        "> * **os** - The directory service provides the ability to create and remove directory folders, gather data, change and find the current directory, and provide a means for users and the operating system to interact with each other.\n",
        "> * **Pandas** -  Used to model, analyze, and manipulate data sets.\n",
        "> * **re** - regular expression (or **re**) uses a set of strings or searches for certain patterns."
      ],
      "metadata": {
        "id": "1iFVyxHslmOj"
      }
    },
    {
      "cell_type": "code",
      "execution_count": null,
      "metadata": {
        "id": "mkFiRMFbqLz_"
      },
      "outputs": [],
      "source": [
        "# Libraries used\n",
        "import arcpy\n",
        "import os\n",
        "import pandas as pd\n",
        "import re"
      ]
    },
    {
      "cell_type": "markdown",
      "source": [
        "- **acrpy.env.overwriteOutput** establishes the geodatabase as the base workspace for all subsequent operations.\n",
        "It sets the environment in ArcGIS to overwrite existing outputs with the same name."
      ],
      "metadata": {
        "id": "B9StcYUZovVm"
      }
    },
    {
      "cell_type": "code",
      "source": [
        "# Allows the file to be written over\n",
        "arcpy.env.overwriteOutput = True"
      ],
      "metadata": {
        "id": "lKsCE-dJqXHQ"
      },
      "execution_count": null,
      "outputs": []
    },
    {
      "cell_type": "markdown",
      "source": [
        "The user is asked to input the name of the data product, the input directory, the output directory, and the layer name to be extracted.\n",
        "\n",
        "- An example of the data name would be the following:\n",
        "> *Enter the name of the data product:* **SMERGE**\n",
        "\n",
        "- An example of the input directory is the following:\n",
        "> *Enter the input directory:* **E:\\\\share\\\\BIgRun\\\\Smerge**\n",
        "\n",
        "- An example of the output directory is the following:\n",
        "> *Enter the output directory:* **E:\\\\share\\\\BIgRun\\\\Smerge_layer**\n",
        "\n",
        "- An example of the layer name is the following:\n",
        "> *Enter the layer name to be extracted:* **RZSM**"
      ],
      "metadata": {
        "id": "LP-Lp6wXqdGD"
      }
    },
    {
      "cell_type": "code",
      "source": [
        "# Set data product name and input directory\n",
        "product = input(\"Enter the name of the data product: \")\n",
        "input_dir = input(\"Enter the input directory: \")\n",
        "\n",
        "# Set the output directory\n",
        "output_dir = input(\"Enter the output directory: \")\n",
        "\n",
        "# Set the layer name\n",
        "layer_name = input(\"Enter the layer name to be extracted: \")"
      ],
      "metadata": {
        "id": "EP9R0WdIqlqO"
      },
      "execution_count": null,
      "outputs": []
    },
    {
      "cell_type": "markdown",
      "source": [
        "> **Note:**\n",
        "> -  The user must create a text file named \"*dates.txt*\". This file will store the dates that will be used for the application."
      ],
      "metadata": {
        "id": "CaDr1A3cgctZ"
      }
    },
    {
      "cell_type": "markdown",
      "source": [
        "- The \"*dates.txt* \" file, which contains the dates that will be used, is opened. If the file cannot be opened, the user is prompted to rerun the program.\n",
        "\n",
        "- Once the file is open, the dates are split into a list.\n",
        "\n",
        "- The user is then prompted to input the data offset. The offset is expected to be an integer. If a non-integer value is entered, the user will be prompted to enter a valid integer.\n",
        "\n",
        "  An example of the date offset is the following:\n",
        "  > *Enter the data offset. If there is none, enter 0:* **0**"
      ],
      "metadata": {
        "id": "US0DrCn6hXem"
      }
    },
    {
      "cell_type": "code",
      "source": [
        "# Read list of dates\n",
        "text_file = open(\"dates.txt\",\"r\")\n",
        "while not os.path.exists(\"dates.txt\"):\n",
        "  print('The date list text was not found. It should be in the same directory as the .py script.')\n",
        "  co = input(\"Press enter to try again.\")\n",
        "date = text_file.read().split(',')\n",
        "\n",
        "offset = input('Enter the data offset. If there is none, enter 0: ')\n",
        "try:\n",
        "  offset = int(offset)\n",
        "except:\n",
        "  while offset.isnumeric():\n",
        "    offset = input('Offset given was not an integer value, please try again: ')"
      ],
      "metadata": {
        "id": "KS6JWltBsHEa"
      },
      "execution_count": null,
      "outputs": []
    },
    {
      "cell_type": "markdown",
      "source": [
        "- The user is asked to input the following: the monthly lag, the file extension, the filename separator, the date position, the year to process, and the date format. The file extension is responsible for indicating the file's layout and structure. Similarly, the filename separator serves as a component of the file's title, enhancing its readability for users.\n",
        "\n",
        "- An example of the number of monthly lags would be the following:\n",
        "> *Enter the number of monthly lag:* **0**\n",
        "\n",
        "- An example of the file extension would be the following:\n",
        "> *Enter the file extension:* **.nc4**\n",
        "\n",
        "- An example of the filename separator would be the following:\n",
        "> *Enter the filename separator:* **_**\n",
        "\n",
        "- An example of the date position would be the following:\n",
        "> *Enter the position of the date within the filename, starting at index 0 (example ALB_2000123 position is 1):* **7**\n",
        "\n",
        "- An example of the year batch would be the following:\n",
        "> *Enter the year you wish to process (to process all leave blank and press enter):*\n",
        "\n",
        "- An example of the date formatting would be the following:\n",
        "> *If the file uses %Y/%j, type A. If the file uses %Y/%m/%d, type B:* **B**"
      ],
      "metadata": {
        "id": "l_6IH7m5wLLz"
      }
    },
    {
      "cell_type": "code",
      "source": [
        "# Monthly Lag\n",
        "lag = input(\"Enter the number of monthly lag: \")\n",
        "lag = int(lag)\n",
        "\n",
        "# File type\n",
        "ftype = input(\"Enter the file extension: \")\n",
        "\n",
        "# Filename separator\n",
        "sep = input(\"Enter the filename separator: \")\n",
        "\n",
        "# Date position\n",
        "d_pos = input('Enter the position of the date within the filenames, starting at index 0 (example ALB_2000123 position is 1): ')\n",
        "d_pos = int(d_pos)\n",
        "\n",
        "# Year batch\n",
        "yer = input(\"Enter the year you wish to process (to process all, leave blank and press enter): \")\n",
        "\n",
        "# Date Formatting\n",
        "d_f = input('If the file uses %Y/%j, type A. If the file used %Y/%m/%d, type B: ')\n",
        "while d_f != 'A' and d_f != 'B':\n",
        "  d_f = input('Input ERROR. If the file uses %Y/%j, type A. If the file uses %Y/%m/%d, type B: ')\n",
        "if d_f == 'A':\n",
        "  d_format = %Y/%j\n",
        "if d_f =='B':\n",
        "  d_format == %Y/%m/%d"
      ],
      "metadata": {
        "id": "J_9r8B6HwQuG"
      },
      "execution_count": null,
      "outputs": []
    },
    {
      "cell_type": "markdown",
      "source": [
        "- The user will create a list in MD files.\n",
        "\n",
        "- The code enters a loop that iterates through each date in the **date** list.\n",
        "  - The program first converts a date formatted as '*%m/%d/%Y* ' into a datetime object, then adds a specified number of months to the date.\n",
        "\n",
        "  - The variable **date_n** provides the year, which is extracted from it. **u_date_n** is created by adding the specified number of days to **date_n**. **l_date_n** is created  by subtracting the specified number of days from **date_n**.\n",
        "\n",
        "  - Based on the input provided for formatting the date:\n",
        "    - If '*A* ', then:\n",
        "     - The day of the year is extracted from **date_n** and stored in the variable **doy**.\n",
        "\n",
        "      - The year and day of the year of **u_date_n** are concatenated and saved under **u_date_c**.\n",
        "      - The year and day of the year of **l_date_n** are concatenated and set to the variable **l_date_c**.\n",
        "    - If '*B* ', then:\n",
        "      - The year, month, and day of **u_date_n** are concatenated and stored in **u_date_c**.\n",
        "\n",
        "      - The year, month, and day of **l_date_n** are concatenated and saved under **l_date_c**.\n",
        "\n",
        "  - The loop will iterate through all the files in the directory specified by the **input_dir** variable.\n",
        "    - When the current file ends with the specified file type **ftype**, the code continues to process the file.\n",
        "      - The file names are split into a list of strings based on the separator **sep** and stored under **file_p**.\n",
        "\n",
        "      - Utilizing the **d_pos** variable, the required element is extracted from the list containing date information. This variable specifies the position of the element within the list.\n",
        "      - The regular expression **re** substitutes the first character of the date string **file_p** with an empty string.\n",
        "      - The specified date format **d_format** is used to convert the extracted date string **file_p** into a datetime object, which will be stored in the variable **date_p**.\n",
        "  - The code checks whether the statements hold true under the **date_p.year** variable. If both statements are true, the code continues its execution.\n",
        "    - The first statement checks if the year of the **date_p** matches the **year** variable.\n",
        "\n",
        "    - The second statement checks if the integer value of the file date **file_p** falls within the specified range of the lower and upper date limits, which are **l_date_c** and **u_date_c**, respectively.\n",
        "   - When both conditions are satisfied, the code prints the file name, and subsequently adds its complete path, consisting of the input directory and the file itself, to the **md_files** list.\n",
        "   - When the flag **g** is set to 1, it indicates that a matching file has been found. Consequently, the loop is exited by employing the **break** statement, as the matching has already been identified.\n",
        "  - In the conditional statement, the program verifies if the variable **g** is equal to 1. If this condition is met, the code assigns the value 0 back to **g** to signal that the following iterations of the loop should proceed as usual. Subsequently, the **break** statement is executed, causing the loop to terminate."
      ],
      "metadata": {
        "id": "wTpfwb4Yvi15"
      }
    },
    {
      "cell_type": "code",
      "source": [
        "# Create a list of MD files in the input directory\n",
        "md_files = []\n",
        "\n",
        "# Sets date formatting\n",
        "for d in date:\n",
        "  g=0\n",
        "  date_n = pd.to_datetime(d, format = \"%m%d%Y\")\n",
        "  date_n = date_n + pd.DateOffset(months=lag)\n",
        "  u_date_n = date_n + pd.DateOffset(days==offset)\n",
        "  l_date_n = date_n - pd.DateOffset(days==offset)\n",
        "  year = date_n.year\n",
        "  if d_f == 'A':\n",
        "    doy = date_n.timetuple().tm_yday\n",
        "    u_date_c = str(u_date_n.year)+str(u_date_n.timetupel().tm_yday).zfill(3)\n",
        "    l_date_c = str(l_date_n.year)+str(l_date_n.timetuple().tm_yday).zfill(3)\n",
        "  if d_f =='B':\n",
        "    u_date_c = str(u_date_n.year)+str(u_date_n.month).zfill(2)+str(u_date_n.day).zfill(2)\n",
        "    l_date_c = str(l_date_n.year)+str(l_date_n.month).zfill(2)+str(l_date_n.day).zfill(2)\n",
        "  for file in os.listdir(input_dir):\n",
        "    if file.endswith(ftype):\n",
        "      file_p = file.split(sep)\n",
        "      file_p = file_p[d_pos]\n",
        "      file_p = re.sub(\"D\",file_p[0])\n",
        "      date_p = pd.to_datetime(file_p, format=d_format)\n",
        "      if date_p.year == year and (int(l_date_c) <= int(file_p) and int(file_p) <= int(u_date_c)):\n",
        "        print(file)\n",
        "        md_files.append(os.path.join(input_dir,file))\n",
        "        g=1\n",
        "        break;\n",
        "      if g==1:\n",
        "        g=0\n",
        "        break;"
      ],
      "metadata": {
        "id": "A9ceC-duCLww"
      },
      "execution_count": null,
      "outputs": []
    },
    {
      "cell_type": "markdown",
      "source": [
        "- The **date** variable at index **i** is converted into a datetime object and set to **date_in**. The format \"*%m/%d/%Y* \" specifies the format of the date string.\n",
        "- Next, the day of the year is extracted from the **date_in** variable and assigned to the **doy_in** variable.\n",
        "- Afterward, the output file name is constructed by concatenating the output directory, the product name, and the day of the year.\n",
        "  - The *str(date_in.year)* function converts the year to a string.\n",
        "  \n",
        "  - The *str(doy_in).zfill(3)* function transforms the day of the year variable into a string and adds leading zeros to ensure a consistent length of three characters.\n",
        "- The *arcpy.SubsetMultidimensionalRaster_md* function is used to create a new subset multidimensional raster dataset from the current **md_file**, the **output_file**, and the **layer_name**.\n",
        "   - Finally, variable **i** is incremented by **1**, which triggers the program to run again with the next set of data.\n",
        "\n",
        "- Each subset is then printed with the final statement being \"Process complete\"."
      ],
      "metadata": {
        "id": "yUcRPt_1mjh6"
      }
    },
    {
      "cell_type": "code",
      "source": [
        "i=0\n",
        "# Iterate through the list of MD files\n",
        "for md_file in md_files:\n",
        "  # Converts the data format to mmddYYYY\n",
        "  date_in = pd.to_datetime(date[i], format=\"%m%d%Y\")\n",
        "  doy_in = date_in.timetuple().tm_yday\n",
        "  output_file = os.path.join(output_dir, product + '_'+ str(date_in.year) + str(doy_in).zfill(3) + '.tif')\n",
        "  if str(yer) in md_file:\n",
        "    print(output_file)\n",
        "    print(md_file)\n",
        "    # Creates a new subset multidimensional raster dataset\n",
        "    arcpy.SubsetMultidimensionalRaster_md(md_file, output_file, layer_name)\n",
        "  i=i+1\n",
        "\n",
        "  print(\"Process complete\")"
      ],
      "metadata": {
        "id": "z6ghaqMKMKE6"
      },
      "execution_count": null,
      "outputs": []
    },
    {
      "cell_type": "markdown",
      "source": [
        "- The **date** variable at index **i** is converted into a datetime object and set to **date_in**. The format \"*%m/%d/%Y* \" specifies the format of the date string.\n",
        "- Using the DateOffset object, a new datetime object is generated by adding a time lag of **lag** months to the existing datetime **date_in**.\n",
        "- Next, the day of the year is extracted from the **date_in** variable and assigned to the **doy_in** variable.\n",
        "- Afterward, the output file name is constructed by concatenating the output directory, the product name, and the day of the year.\n",
        "  - The *str(date_in.year)* function converts the year to a string.\n",
        "  \n",
        "  - The *str(doy_in).zfill(3)* function transforms the day of the year variable into a string and adds leading zeros to ensure a consistent length of three characters.\n",
        "- The *arcpy.SubsetMultidimensionalRaster_md* function is used to create a new subset multidimensional raster dataset from the current **md_file**, the **output_file**, and the **layer_name**.\n",
        "   - Finally, variable **i** is incremented by **1**, which triggers the program to run again with the next set of data.\n",
        "\n",
        "- Each subset is then printed with the final statement being \"Process complete\"."
      ],
      "metadata": {
        "id": "QZwqo79qmj_7"
      }
    },
    {
      "cell_type": "code",
      "source": [
        "i=0\n",
        "# Iterate through the list of MD files\n",
        "for md_file in md_files:\n",
        "  # Converts the date format to mmddYYYY\n",
        "  date_in = pd.to_datetime(date[i], format=\"%m%d%Y\")\n",
        "  # Adds Monthly lag\n",
        "  date_in = date_in + pd.DateOffset(months=lag)\n",
        "  doy_in = date_in.timetuple().tm_yday\n",
        "  output_file = os.path.join(output_dir, product + '_' + str(date_in.year) + str(doy_in).zfill(3) + '.tif')\n",
        "  if str(yer) in md_file:\n",
        "    print(output_file)\n",
        "    print(md_file)\n",
        "    # Creates a new subset multidimensional raster dataset\n",
        "    arcpy.SubsetMultidimensionalRaster_md(md_file, output_file, layername)\n",
        "  i=i+1\n",
        "\n",
        "  print(\"Process complete\")"
      ],
      "metadata": {
        "id": "RN7kk_NcNKnK"
      },
      "execution_count": null,
      "outputs": []
    },
    {
      "cell_type": "markdown",
      "source": [
        "- The **date** variable at index **i** is converted into a datetime object and set to **date_in**. The format \"*%m/%d/%Y* \" specifies the format of the date string.\n",
        "- Next, the day of the year is extracted from the **date_in** variable and assigned to the **doy_in** variable.\n",
        "- Afterward, the output file name is constructed by concatenating the output directory, the product name, and the day of the year.\n",
        "  - The *str(date_in.year)* function converts the year to a string.\n",
        "  \n",
        "  - The *str(doy_in).zfill(3)* function transforms the day of the year variable into a string.\n",
        "- The *arcpy.SubsetMultidimensionalRaster_md* function is used to create a new subset multidimensional raster dataset from the current **md_file**, the **output_file**, and the **layer_name**.\n",
        "   - Finally, variable **i** is incremented by **1**, which triggers the program to run again with the next set of data.\n",
        "\n",
        "- Each subset is then printed with the final statement being \"Process complete\".\n"
      ],
      "metadata": {
        "id": "nbxAVIhXmxMo"
      }
    },
    {
      "cell_type": "code",
      "source": [
        "i=0\n",
        "for md_file in md_files:\n",
        "  # Converts the date format to mmddYYYY\n",
        "  date_in = pd.to_datetime(date[i], format=\"%m%d%Y\")\n",
        "  doy_in = date_in.timetuple().tm_yday\n",
        "  output_file = os.path.join(output_dir, product + '_' + str(date_in.year) + str(doy_in)+'.tif')\n",
        "  if str(yer) in str(date[i]):\n",
        "    print(date[i])\n",
        "    print(output_file)\n",
        "    print(md_file)\n",
        "  i=i+1"
      ],
      "metadata": {
        "id": "VWtmdrhQRCP4"
      },
      "execution_count": null,
      "outputs": []
    }
  ]
}
