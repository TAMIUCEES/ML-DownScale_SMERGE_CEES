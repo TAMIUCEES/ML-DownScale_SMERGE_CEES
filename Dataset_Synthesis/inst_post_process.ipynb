{
  "nbformat": 4,
  "nbformat_minor": 0,
  "metadata": {
    "colab": {
      "provenance": []
    },
    "kernelspec": {
      "name": "python3",
      "display_name": "Python 3"
    },
    "language_info": {
      "name": "python"
    }
  },
  "cells": [
    {
      "cell_type": "markdown",
      "source": [
        "#Introduction\n",
        "This **inst_post_process** program organizes data provided in a specific file that the user requests information from. This gives the user the ability to arrange and organize data from the stations and other data that the user is searching for.\n",
        "\n",
        "---\n",
        "The following libraries are imported to allow the code to be run:\n",
        "\n",
        "* **os** - The directory service provides the ability to create and remove directory folders, gather data, change and find the current directory, and provide a means for users and the operating system to interact with each other.\n",
        "* **datetime** - Manipulates the data between dates and time.\n",
        "* **seaborn** - Statistical graphs.\n",
        "* **matplotlib.pyplot** - Creates data visualization (i.e. graphs)\n",
        "* **string** - Allows strings or data to be split when needed.\n",
        "* **warnings** - Informs the user of the state of the code or where an error has occurred.\n",
        "* **sys** - Provides a way to manipulate the runtime of the program by using certain parameters and functions.\n",
        "* **Pandas** - Is a tool for modeling, analyzing, and manipulating data sets.\n",
        "> For more information visit: https://www.geeksforgeeks.org/introduction-to-pandas-in-python/#\n",
        "* **NumPy** - Supports analysis and can perform operations on a large set of data.\n",
        "> For more information visit: https://numpy.org/doc/stable/user/whatisnumpy.html\n",
        "* **re** - regular expression (or **re**) specifies a set of strings, where a particular string will match the given regular expression.\n",
        "> For more information visit: https://docs.python.org/3/library/re.html\n",
        "\n",
        "**natsort**\n",
        "\n",
        "---\n",
        "* **natsorted** - Sorts strings and numbers separately.\n",
        "\n",
        "**sklearn.preprocessing**\n",
        "\n",
        "---\n",
        "* **StandardScaler** - Removes the mean or average value and scales to the unit variance.\n",
        "\n",
        "**sklearn.model_selection**\n",
        "\n",
        "---\n",
        "\n",
        "\n",
        "* **train_test_split** - Splits arrays into random train and test subsets which provides valid results.\n",
        "\n"
      ],
      "metadata": {
        "id": "tjDl7CKRmcpb"
      }
    },
    {
      "cell_type": "code",
      "execution_count": null,
      "metadata": {
        "id": "Flly8D-I1RaS"
      },
      "outputs": [],
      "source": [
        "import os\n",
        "import datetime\n",
        "import seaborn as sns\n",
        "import matplotlib.pyplot as plt\n",
        "import string\n",
        "import warnings\n",
        "import sys\n",
        "import pandas as pd\n",
        "import numpy as np\n",
        "import re\n",
        "from natsort import natsorted\n",
        "from sklearn.preprocessing import StandardScaler\n",
        "from sklearn.model_selection import train_test_split"
      ]
    },
    {
      "cell_type": "markdown",
      "source": [
        "- The user will be asked to input the dataset name, the input directory, and\n",
        "the output directory to initialize the program."
      ],
      "metadata": {
        "id": "I-hICBu60kKw"
      }
    },
    {
      "cell_type": "code",
      "source": [
        "# Set data product name\n",
        "d_name = input(\"Enter the name of the dataset (Include file extension): \")\n",
        "\n",
        "# Set the input directory\n",
        "input_dir = input(\"Enter the input directory: \")\n",
        "\n",
        "# Set the output directory\n",
        "output_dir = input(\"Enter the output directory: \")"
      ],
      "metadata": {
        "id": "nbBsQaH_1xNX"
      },
      "execution_count": null,
      "outputs": []
    },
    {
      "cell_type": "markdown",
      "source": [
        "- The program will open and read the file, \"station_pagenames\". The file's contents will be stored in the variable titled *stattion_p_file*.\n",
        "\n",
        "- The code performs two tasks simultaneously: running and checking for the file's existence. If the file is not found, the code engages the user in a prompt loop until a valid file is provided.\n",
        "\n",
        "- After the file is prepared, it will be divided into a list of the *pagenames*, then the program stores the variables in *stattion_p*."
      ],
      "metadata": {
        "id": "O-Ce1DuN18CU"
      }
    },
    {
      "cell_type": "code",
      "source": [
        "stattion_p_file = open(\"station_pagenames\",\"r\")\n",
        "\n",
        "while not os.path.exists(stattion_p_file):\n",
        "  print('The station_pagenames list txt was not found. It should be in the same directory as the .py script. ')\n",
        "  n = input(\"Press enter to try again.\")\n",
        "  stattion_p_file = open(\"station_pagenames\",\"r\")\n",
        "\n",
        "stattion_p = stattion_p_file.read().split(',')"
      ],
      "metadata": {
        "id": "D2nHM-ab4Wg4"
      },
      "execution_count": null,
      "outputs": []
    },
    {
      "cell_type": "markdown",
      "source": [
        "- The program will open and read the text file, \"station_names.txt\". The file's contents will be stored in the variable titled *stattion_n_file*.\n",
        "\n",
        "- The code performs two tasks simultaneously: running the code and checking for the file's existence. If the file is not found, the code engages the user in a prompt loop until a valid file is provided.\n",
        "\n",
        "- After the file is prepared, it will be divided into a list of the station names, then the program stores the variables in *stattion_n*."
      ],
      "metadata": {
        "id": "UejtBM787plH"
      }
    },
    {
      "cell_type": "code",
      "source": [
        "stattion_n_file = open(\"station_names.txt\",\"r\")\n",
        "\n",
        "while not os.path.exists(stattion_n_file):\n",
        "  print('The station_names.txt list txt was not found. It should be in the same directory as the .py script. ')\n",
        "  n = input(\"Press enter to try again.\")\n",
        "  stattion_n_file = open(\"station_names.txt\",\"r\")\n",
        "\n",
        "stattion_n = stattion_n_file.read().split(',')"
      ],
      "metadata": {
        "id": "m4VG_6Zp4268"
      },
      "execution_count": null,
      "outputs": []
    },
    {
      "cell_type": "markdown",
      "source": [
        "- The variable *data* was created to read the constructed full path of the dataset from the input directory (*input_dir*) and the name of the dataset (*d_name*)."
      ],
      "metadata": {
        "id": "nNCgPL7FBa4l"
      }
    },
    {
      "cell_type": "code",
      "source": [
        "  data = pd.read_csv(os.path.join(input_dir, d_name))"
      ],
      "metadata": {
        "id": "C9sKJ9Ww5aoX"
      },
      "execution_count": null,
      "outputs": []
    },
    {
      "cell_type": "markdown",
      "source": [
        "# *Variables*\n",
        "\n",
        "---\n",
        "\n",
        "\n",
        "\n",
        "- It is important to create and upload a  text file list (**.csv**, comma-separated-values) containing the names of all the variables (including the target variable).\n",
        "\n",
        "- Given that the variable names can vary depending on the user's data, it is more convenient to create a separate file with the variable names and then adjust them to the code.\n",
        "\n",
        "- An example of the list of variables would be:\n",
        "> *'Clay'*, *'Sand'*, *'Silt'*, *'Elevation'*, *'Ascept'*, *'Slope'*, *'LAI'*, *'SMERGE'*, *'NDVI'*, *'Albedo'*, *'Temp'*, *'Date'*, *'ML_'*, *'PageName'*, *'Station'*"
      ],
      "metadata": {
        "id": "kNZqK9IyweLc"
      }
    },
    {
      "cell_type": "code",
      "source": [
        "variables = input(\"Enter the name of the variables list (make sure the file is in the text file format): \")\n",
        "variables_file = os.path.join(input_dir, variables)\n",
        "\n",
        "while not os.path.exists(variables_file):\n",
        "  variables = input(\"The variables list txt as not found, it should be in the home directory, try again. \")\n",
        "  variables_file = os.path.join(input_dir, variables)"
      ],
      "metadata": {
        "id": "E8KWAOznbcV2"
      },
      "execution_count": null,
      "outputs": []
    },
    {
      "cell_type": "markdown",
      "source": [
        "- Input the name of the index variable, which will be integrated in the output dataframe."
      ],
      "metadata": {
        "id": "2yomq3Lzv1Bq"
      }
    },
    {
      "cell_type": "code",
      "source": [
        "index_variable = input(\"Enter the index variable from the list of variables: \")"
      ],
      "metadata": {
        "id": "YuHVO1kCprhx"
      },
      "execution_count": null,
      "outputs": []
    },
    {
      "cell_type": "markdown",
      "source": [
        "# *Date Formatting*\n",
        "\n",
        "---\n",
        "\n",
        "\n",
        "- The *Date* column will convert to a datetime object using the *pd.to_datetime* function.\n",
        "\n",
        "  > **Note**: This section only allows three types of date formats: \"*%m/%d/%Y*\", \"*%Y/%m/%d*\", and \"*%Y/%j*\". If you are using another type of format make sure to change it to one of those formats beforehand."
      ],
      "metadata": {
        "id": "6s2Gr4un4GMH"
      }
    },
    {
      "cell_type": "code",
      "source": [
        "#data['Date'] = pd.to_datetime(data['Date'], format = '%m%d%Y')\n",
        "\n",
        "def date_formatting(data):\n",
        "  date_format = input('If file uses \"%m/%d/%Y\" type: A, if \"%Y/%m/%d\" type: B, else \"%Y/%j\" type: C : ')\n",
        "\n",
        "  while date_format != 'A' and date_format != 'B' and date_format != 'C':\n",
        "    date_format = input('INPUT ERROR. If file uses \"%m/%d/%Y\" type: A, if \"%Y/%m/%d\" type: B, else \"%Y/%j\" type: C')\n",
        "\n",
        "  if date_format == 'A':\n",
        "    data['Date'] = pd.to_datetime(date['Date'], format = \"%m/%d/%Y\")\n",
        "    data['Date'] = data['Date'].astype(int)\n",
        "\n",
        "  if date_format == 'B':\n",
        "    data['Date'] = pd.to_datetime(date['Date'], format = \"%Y/%m/%d\")\n",
        "    data['Date'] = data['Date'].astype(int)\n",
        "\n",
        "  if date_format == 'C':\n",
        "    data['Date'] = pd.to_datetime(date['Date'], format = \"%Y/%j\")\n",
        "    data['Date'] = data['Date'].astype(int)\n",
        "\n",
        "  return data\n",
        "\n",
        "  data = date_formatting(data)"
      ],
      "metadata": {
        "id": "Duk9A1O-NNJW"
      },
      "execution_count": null,
      "outputs": []
    },
    {
      "cell_type": "markdown",
      "source": [
        "- A new empty DataFrame, ***out***, is created by concatenating data from the larger DataFrame, ***data***, that is based on the station names, *stattion_p*."
      ],
      "metadata": {
        "id": "cswjmfrV7luu"
      }
    },
    {
      "cell_type": "code",
      "source": [
        "p = len(stattion_p)\n",
        "out = pd.DataFrame(columns = variables)"
      ],
      "metadata": {
        "id": "b18FZ8SGNzH8"
      },
      "execution_count": null,
      "outputs": []
    },
    {
      "cell_type": "markdown",
      "source": [
        "- The subsequent code will perform the following steps for every station ID available in the *stattion_p* list:\n",
        "  - **filter the data**: The ***data*** DataFrame will be used to select rows, where the *index_variables* column matches the current station ID, *stattion_p[q]*.\n",
        "  - **updating the station name**: The *stattion_n* will be used to update the values in the '*Station*' column of the filtered DataFrame with the corresponding station name.\n",
        "  - **reset the index**: Reset the index of the DataFrame to be sequential.\n",
        "  - **concatenate the DataFrame**: Will concatenate the DataFrame with the ***out*** DataFrame."
      ],
      "metadata": {
        "id": "FRELAjEdFzEo"
      }
    },
    {
      "cell_type": "code",
      "source": [
        "for q in range(0, p):\n",
        "  inst = data[index_variable == stattion_p[q]]\n",
        "  inst['Station'] == stattion_n[q]\n",
        "  inst.reset_index(inplace=True)\n",
        "\n",
        "  out = pd.concat([out,inst])"
      ],
      "metadata": {
        "id": "2aFB-cIDN4H3"
      },
      "execution_count": null,
      "outputs": []
    },
    {
      "cell_type": "code",
      "source": [
        "# Sort the DataFrame by 'Station' and 'Date' columns\n",
        "out.sort_values(by=['Station', 'Date'], inplace = True)\n",
        "\n",
        "# Drop the index_variable column\n",
        "out.drop(columns = index_variable, inplace = True)\n",
        "\n",
        "# Print the full path of the input directory (input_dir) and the name of the dataset (d_name)\n",
        "print(os.path.join(input_dir, d_name))\n",
        "\n",
        "# Save the DataFrame to a new CSV file with a different name\n",
        "out.to_csv(os.path.join(input_dir, d_name.replace('.csv','inst.csv')), index=False)"
      ],
      "metadata": {
        "id": "Hi8BTayIN-P-"
      },
      "execution_count": null,
      "outputs": []
    }
  ]
}