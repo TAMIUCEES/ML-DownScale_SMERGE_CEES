{
  "cells": [
    {
      "cell_type": "markdown",
      "source": [
        "# Introduction\n",
        "\n",
        "The **primary_dataset_genV2** program uses various functions to compile data needed for files. The **Data_gen** function generates the values needed for variables using the dates given in the file. When generating these values there is a need to clean up the data or polish it to make a concise and more accurate reading of the data. This is done by using the **data_clean** funcion. In the **static_gen** function it is used to find the current/recent data for the date and variables needed. The **combine_data** function updated the *static* dictionary.\n",
        "\n",
        "---\n",
        "\n",
        "The following libraries are imported to allow the code to be run:\n",
        "\n",
        "- **os** - The directory service provides the ability to create and remove directory folders, gather data, change and find the current directory, and provide a means for users and the operating system to interact with each other.\n",
        "- **datetime** - Manipulates the data between dates and time.\n",
        "- **string** - Allows strings or data to be split when needed.\n",
        "- **warnings** - Informs the user of the state of the code or where an error has occurred.\n",
        "- **sys** - Provides a way to manipulate the runtime of the program by using certain parameters and functions.\n",
        "- **Pandas** - Is a tool for modeling, analyzing, and manipulating data sets.\n",
        "> For more information visit: https://www.geeksforgeeks.org/introduction-to-pandas-in-python/#\n",
        "- **NumPy** - Supports analysis and can perform operations on a large set of data.\n",
        "> For more information visit: https://numpy.org/doc/stable/user/whatisnumpy.html\n",
        "- **re** - regular expression (or **re**) specifies a set of strings, where a particular string will match the given regular expression.\n",
        "> For more information visit:  https://docs.python.org/3/library/re.html\n",
        "\n",
        "\n",
        "\n",
        "**sklearn.model_selection**\n",
        "\n",
        "---\n",
        "\n",
        "- **train_test_split** - Splits arrays into random train and test subsets which provides valid results.\n",
        "\n",
        "**natsort**\n",
        "\n",
        "---\n",
        "\n",
        "- **natsorted** - Sorts strings and numbers separately."
      ],
      "metadata": {
        "id": "evKb28-jG0eH"
      },
      "id": "evKb28-jG0eH"
    },
    {
      "cell_type": "code",
      "execution_count": null,
      "id": "a1922732-ba35-48ab-a5c3-2ecc648873e3",
      "metadata": {
        "tags": [],
        "id": "a1922732-ba35-48ab-a5c3-2ecc648873e3"
      },
      "outputs": [],
      "source": [
        "import os\n",
        "import datetime\n",
        "import string\n",
        "import warnings\n",
        "import sys\n",
        "import pandas as pd\n",
        "import numpy as np\n",
        "import re\n",
        "from sklearn.model_selection import train_test_split\n",
        "from natsort import natsorted"
      ]
    },
    {
      "cell_type": "markdown",
      "source": [
        "**train_test**\n",
        "\n",
        "---\n",
        "- Using the values **data**, **out**, **n**, and **index** the function is able to test and train the data to find the correct data in the file.\n",
        "\n",
        "  - If verify equals 'Y' and verify2 equals 'N', then the first *if statement* is ran. This segment sets the column 'Verifier' as a missing value, which uses **index** to retrieve values from the column subset, converting them into a list.\n",
        "  \n",
        "    Using the rows from *df_train*, the **index** is used to list the new values for the columns, these values are assigned to *inst*.\n",
        "    \n",
        "     These rows are later removed from *df_train* and is appended to *df_test*, which can then create a CSV file and use the **out** and **n** parameters to create the file name.\n",
        "\n",
        "  - If verify equals 'Y' and verify2 equals 'Y', then the second *if statement* is ran.\n",
        "  \n",
        "    Unlike the other segment, *df_train* and *df_test* are converted into CSV files with their names based on the values of **out** and **n** variables."
      ],
      "metadata": {
        "id": "tFV2gIL5Uf3H"
      },
      "id": "tFV2gIL5Uf3H"
    },
    {
      "cell_type": "code",
      "execution_count": null,
      "id": "2b63068d-4bac-4492-8a20-b68816157e51",
      "metadata": {
        "tags": [],
        "id": "2b63068d-4bac-4492-8a20-b68816157e51"
      },
      "outputs": [],
      "source": [
        "def train_test(data, out, index, n):\n",
        "  df_train, df_test = train_test_split(data, test_size = 0.30, random_state = 42)\n",
        "  if verify == 'Y' and verify2 == 'N':\n",
        "    v = data[data['Verifier'] != pd.NA]\n",
        "    ver = v[index].tolist()\n",
        "    inst = df_train.loc[df_train[index].isin(ver)]\n",
        "    df_train = df_train.loc[~df_train[index].isin(ver)]\n",
        "    df_test = pd.concat([df_test, inst])\n",
        "    df_train.to_csv(out, n+'_train.csv', index = False)\n",
        "    df_test.to_csv(out, n+'_test.csv', index = False)\n",
        "  if verify == 'Y' and verify2 == 'Y':\n",
        "    df_train.to_csv(os.path.join(out, n+'_train.csv'))\n",
        "    df_test.to_csv(os.path.join(out, n+'_test.csv'))"
      ]
    },
    {
      "cell_type": "markdown",
      "source": [
        "# Class *day_data*\n",
        "The class *day_data* contains the functions **____ init ____**, **data_gen**, and **data_clean**, which will be utilized later in the program.\n",
        "\n",
        "**__ init __**\n",
        "\n",
        "---\n",
        "- The **__ init __** function is responsible for initializing all the variables in the class, which are subsequently utilized in the **data_gen** and **data_clean** function."
      ],
      "metadata": {
        "id": "Pl2sLFB6_vcl"
      },
      "id": "Pl2sLFB6_vcl"
    },
    {
      "cell_type": "markdown",
      "source": [
        "**data_gen**\n",
        "\n",
        "---\n",
        "- The **data_gen** function takes multiple CSV files and generates a single DataFrame. It starts by extracting the number of dates from the *date* column in each CSV file using the *num_dates* attribute. If the file is a CSV with a tag, it is added to a list of new file paths. The file list is then sorted, and an empty DataFrame, **total_data**, is created with the columns *index, tag*, and *'Date'*.\n",
        "\n",
        "- Next, another empty DataFrame, **current**, is created with the same columns as **total_data**. The CSV file at index *k* in the *file_list* is read, and only the \"MEAN\" column is selected. The 'Date' column in the **current** DataFrame is set to the corresponding date from the *dates* list.\n",
        "\n",
        "- Finally, the **current** DataFrame is concatenated with the **total_data** DataFrame, and the resulting DataFrame is assigned to the *self.df* attribute.\n",
        "\n",
        "- Overall, this function generates data by reading CSV files according to their directory and adds them into the DataFrame **total_data** with their corresponding dates.\n"
      ],
      "metadata": {
        "id": "aIqfb7g0Qs0-"
      },
      "id": "aIqfb7g0Qs0-"
    },
    {
      "cell_type": "markdown",
      "source": [
        "**data_clean**\n",
        "\n",
        "---\n",
        "\n",
        "\n",
        "- This function cleans several data operations in a DataFrame. To do so, the index is set to the column 'Date', append is true to keep the value the same throughout the code, and inplace is true so that it can modify the DataFrame.\n",
        "\n",
        "- The **data_clean** function streamlines multiple data operations in a DataFrame. It sets the index to the 'Date' column, keeps the value consistent throughout the code by setting append to true, and modifies the DataFrame directly by setting inplace to True.\n",
        "  - When the *zero_null* attribute is set to True, the DataFrame will only retain rows where the values in the column specified  by the tag are greater than or equal to zero.\n",
        "  - When the *fill_value* is '*not None*', the DataFrame will be filtered to remove rows where the column value, as determined by the tag, is equal to the specified *fill_value*.\n",
        "> - If the *if_below* attribute is True, the DataFrame is filtered from the row where the *fill_values* is less than the value.\n",
        "> - If the *if_below* attribute is False, the DataFrame is filtered where the value is greater than the *fill_value*.\n",
        "  - When the *na_valid* attribute is False, the DataFrame will drop all rows containing missing values (NaN). This operation modifies the DataFrame in place."
      ],
      "metadata": {
        "id": "9a-gg2qaq_D7"
      },
      "id": "9a-gg2qaq_D7"
    },
    {
      "cell_type": "code",
      "execution_count": null,
      "id": "d7da1a38-ec59-4009-9afa-5ec39d8b76ec",
      "metadata": {
        "tags": [],
        "id": "d7da1a38-ec59-4009-9afa-5ec39d8b76ec"
      },
      "outputs": [],
      "source": [
        "# Initalizes parameters, generates data, and cleans document\n",
        "class day_data:\n",
        "  def __init__(self, tag, dates, index, zero_null, fill_value, input_dir, if_below, na_valid):\n",
        "    # Initalizes the parameters\n",
        "    self.tag = tag\n",
        "    self.dates = dates\n",
        "    self.zero_null = zero_null\n",
        "    self.fill_value = fill_value\n",
        "    self.input_dir = input_dir\n",
        "    self.index = index\n",
        "    self.if_below = if_below\n",
        "    self.na_valid = na_valid\n",
        "\n",
        "  def data_gen(self):\n",
        "    # Number of dates\n",
        "    num_dates = len(date)\n",
        "    # List will be used to save files\n",
        "    file_list = []\n",
        "    for f in os.listdir(self.input_dir):\n",
        "      # Finds if file is a CSV file and has a tag/prefix\n",
        "      if f.endswith(\".csv\") and f.startswith(self.tag):\n",
        "        # Adds file to file_list\n",
        "        file_list.append(os.path.join(self.input_dir, f))\n",
        "    # Sorts files from file list\n",
        "    file_list = natsorted(file_list)\n",
        "    # Creates DataFrame, columns: index, tag, and 'Date'\n",
        "    total_data = pd.DataFrame(columns=[self.index, self.tag, 'Date']).set_index(self.index)\n",
        "    for k in range(0, num_dates):\n",
        "      current = pd.DataFrame(columns=[self.index, self.tag, 'Date']).set_index(self.index)\n",
        "      current[self.tag] = pd.read_csv(file_list[k], usecols = [\"MEAN\", self.index]).set_index(self.index)\n",
        "      current['Date'] = self.dates[k]\n",
        "      total_data = pd.concat([total_data, current])\n",
        "    self.df = total_data\n",
        "\n",
        "  def data_clean(self):\n",
        "    self.df.set_index('Date', append=True, inplace = True)\n",
        "    # Checks if the value is null\n",
        "    if self.zero_null == True:\n",
        "      self.df = self.df[self.df[self.tag] >= 0]\n",
        "    # Checks if there is a value\n",
        "    if self.fill_value is not None:\n",
        "      self.df = self.df[(self.df[self.tag]) != self.fill_value]\n",
        "      if self.if_below:\n",
        "          self.df = self.df[(self.df[self.tag]) < self.fill_value]\n",
        "      if not self.if_below:\n",
        "          self.df = self.df[(self.df[self.tag]) > self.fill_value]\n",
        "    # Checks if the value is not valid\n",
        "    if self.na_valid is not True:\n",
        "        self.df.dropna(inplace = True)"
      ]
    },
    {
      "cell_type": "markdown",
      "source": [
        "**static_gen**\n",
        "\n",
        "---\n",
        "\n",
        "- The user input for the static path is read and stored in the *static* variable. Next, the number of dates is saved in the *num_dates* variable. An empty DataFrame called **total_data** is created with columns *index* and *'Dates'*. The *index* is set to the name of the index variable provided by the user.\n",
        "\n",
        "- In a loop, the code iterates over each data and sets the static index to *index*, assigning it to the variable *current*. The program then attaches a new column labeled 'Date' to the *current* column and allocates a value to all rows. **Total_data** is updated by concatenating it with *current*, appending the data to the current date. This iteration successfully combines the information.\n",
        "\n",
        "- After the interaction is complete, a new iteration is created in the *config* dictionary which checks if the values are true. If true, the **total_data** variable is filtered by keeping only rows where the column value is greater than or equal to 0. Lastly, the index of **total_data** is set to include 'Date' as a second index level and drops any rows with missing values. Finally, **total_data** is returned."
      ],
      "metadata": {
        "id": "l7IL6IZehvow"
      },
      "id": "l7IL6IZehvow"
    },
    {
      "cell_type": "code",
      "execution_count": null,
      "id": "3ad53ac1-f4ee-4707-a728-94b4002adac2",
      "metadata": {
        "tags": [],
        "id": "3ad53ac1-f4ee-4707-a728-94b4002adac2"
      },
      "outputs": [],
      "source": [
        "# Creates an empty DataFrame and static variable is opened\n",
        "def static_gen(path, date, index, config):\n",
        "    # Reads CSV file path\n",
        "    static = pd.read_csv(path)\n",
        "    # Number of dates\n",
        "    num_dates = len(date)\n",
        "    # Creates a DataFrame column named 'Date' and index (user input)\n",
        "    total_data = pd.DataFrame(columns=[index, 'Date']).set_index(index)\n",
        "\n",
        "    for k in range(0, num_dates):\n",
        "      current = static.set_index(index)\n",
        "      # Assigns a value of the current date from date[k] in the 'Date' column\n",
        "      current['Date'] = date[k]\n",
        "      # Added to total_data DataFrame\n",
        "      total_data = pd.concat([total_data, current])\n",
        "\n",
        "    for s in config:\n",
        "        if config[s]:\n",
        "            # Filters total_data to keep only the column values greater than 0\n",
        "            total_data = total_data[total_data[s] >= 0]\n",
        "    # Total_data is set to 'Date' and adds existing index\n",
        "    total_data.set_index('Date', append=True, inplace = True)\n",
        "    # Drops rows that contain missing values from the total_data column\n",
        "    total_data.dropna(inplace=True)\n",
        "    # Returns the results from the total_data DataFrame\n",
        "    return total_data"
      ]
    },
    {
      "cell_type": "markdown",
      "source": [
        "**dynamic_gen**\n",
        "\n",
        "---\n",
        "\n",
        "- Through the utilization of dynamic list elements, the program can employ the **day_data** class to conduct data generation and cleaning for every instance.\n",
        "\n",
        "  Subsequently, these instances will be added and returned to the initially created empty *all_data_list* within the function.\n",
        "\n",
        "- Using the elements of the current element *d* in the *dynamic* list, the line instantiates an object named *current* of the class **day_data**.\n",
        "\n",
        "  The *current* object's *data_gen* method generates data, while its *data_clean* method cleans the generated data.\n",
        "  \n",
        "   The *current* object is then added to a list called *all_data_list*.\n",
        "   \n",
        "   Furthermore, the program returns the *all_data_list*, which includes all the processed **day_data** objects."
      ],
      "metadata": {
        "id": "Ut1cg_fCGIyn"
      },
      "id": "Ut1cg_fCGIyn"
    },
    {
      "cell_type": "code",
      "execution_count": null,
      "id": "4e1abffc-5108-411d-9fb5-6040aae54034",
      "metadata": {
        "tags": [],
        "id": "4e1abffc-5108-411d-9fb5-6040aae54034"
      },
      "outputs": [],
      "source": [
        "def dynamic_gen(d_name, input_d, dex, date, dynamic):\n",
        "    # List created\n",
        "    all_data_list = []\n",
        "    for d in dynamic:\n",
        "        print(d)\n",
        "        current = day_data(d[0],date, dex, d[2], d[1], input_d, d[3], d[4])\n",
        "        # Generates and cleans data\n",
        "        current.data_gen()\n",
        "        current.data_clean()\n",
        "        # Current is appended to the list\n",
        "        all_data_list.append(current)\n",
        "    # Updated list\n",
        "    return all_data_list"
      ]
    },
    {
      "cell_type": "markdown",
      "source": [
        "**combine_data**\n",
        "\n",
        "---\n",
        "\n",
        "- The *dynamic* list elements are utilized to assign values to the *static* dictionary in the iteration process. Once the values are assigned, the *static* dictionary is returned and updated accordingly."
      ],
      "metadata": {
        "id": "a9t9B2lNVneg"
      },
      "id": "a9t9B2lNVneg"
    },
    {
      "cell_type": "code",
      "execution_count": null,
      "id": "6256f678-0c46-4c4d-82bf-e2129d501c84",
      "metadata": {
        "tags": [],
        "id": "6256f678-0c46-4c4d-82bf-e2129d501c84"
      },
      "outputs": [],
      "source": [
        "def combine_data(static, dynamic):\n",
        "    for dy in dynamic:\n",
        "        static[dy.tag] = dy.df[dy.tag]\n",
        "    return static"
      ]
    },
    {
      "cell_type": "markdown",
      "source": [
        "*text_file*\n",
        "\n",
        "---\n",
        "\n",
        "\n",
        "- The program will open and read the text file, \"dates.txt\". The contents of the file will be stored in the variable named *text_file*.\n",
        "\n",
        "- The code performs two tasks simultaneously: running and checking for the existence of the file. In the event that the file is not found, the code engages the user in a prompt loop until a valid file is provided.\n",
        "\n",
        "- The program proceeds to read the entire contents of the file, splitting it into a list of strings using the comma as the delimiter. The resultant list of strings is then stored in the variable *date*."
      ],
      "metadata": {
        "id": "AVDAv7MEdQg6"
      },
      "id": "AVDAv7MEdQg6"
    },
    {
      "cell_type": "code",
      "execution_count": null,
      "id": "2a1a45b4-7806-49cc-9bd1-1262d17beefb",
      "metadata": {
        "tags": [],
        "id": "2a1a45b4-7806-49cc-9bd1-1262d17beefb"
      },
      "outputs": [],
      "source": [
        "# Read list of dates from file\n",
        "text_file = open(\"dates.txt\",\"r\")\n",
        "\n",
        "# Checks if file exists\n",
        "while not os.path.exists(\"dates.txt\"):\n",
        "  print('The date list txt was not found. It should be in the same directory as the .py script. ')\n",
        "  n = input(\"Press enter to try again.\")\n",
        "  text_file = open(\"dates.txt\",\"r\")\n",
        "\n",
        "# Dates are now used as a list\n",
        "date = text_file.read().split(',')"
      ]
    },
    {
      "cell_type": "markdown",
      "source": [
        "*static_file*\n",
        "\n",
        "---\n",
        "\n",
        "\n",
        "- The program will open and read the text file, \"static_config.txt\". The contents of the file will be stored in the variable titled *static_file*.\n",
        "\n",
        "- The code performs two tasks simultaneously: running and checking for the existence of the file. If the file is not found, the code engages the user in a prompt loop until a valid file is provided.\n",
        "\n",
        "- We initialize an empty dictionary, called *static_config*.\n",
        "\n",
        "    Then, the *static_file* is iterated over for each line. Each line is split into two parts, *key* and *val*, respectively.\n",
        "    A new key-value pair is then added to the *static_config* dictionary.\n",
        "  \n",
        "   The *bool(val=='True')* function is used to convert the string *val* to a boolean value. If *val* is equal to the string '*True*', it is converted to *True*. Otherwise, it is converted to *False*."
      ],
      "metadata": {
        "id": "xbPRNgGggoWj"
      },
      "id": "xbPRNgGggoWj"
    },
    {
      "cell_type": "markdown",
      "source": [
        "> **Note:**\n",
        " - The initial column of the file stores the name of the variables found in the \"*static_config.txt*\" file.\n",
        " - The second column verifies whether the static variable is empty; if so, it is deemed invalid and can be removed.\n",
        "  - Within the file, the variables *Slope*, *Elevation* and *Aspect* must have uniform data. The *Aspect* variable is restricted from being '*0*' or lower, and as such, it is automatically assigned a value of **True**. If one of the three variables is incorrect, the data from the variables is invalid. The data must correspond with the three variables.\n",
        "  - Additionally, for the variables *Clay*, *Sand*, and *Silt*, if one has a value of '*0*', the other two must adjust their values to maintain equilibrium. For instance, if *Sand* has a value of '*0*', then *Clay* would need to be approximately 60 percent, while *Silt* would be 40 percent, resulting in a balance of 100.\n",
        "  - Rules for determining if a value is valid:\n",
        "    - The value is considered **True**, if the value that is '0' or below is *invalid*, then set the input to '*1*'.\n",
        "    - The value is considered **False**, if the value that is '0' or below is *valid*, then set the input to '*0*'."
      ],
      "metadata": {
        "id": "nIZ3Blfd3Fqw"
      },
      "id": "nIZ3Blfd3Fqw"
    },
    {
      "cell_type": "code",
      "execution_count": null,
      "id": "6df776e1-0c8e-43dd-a6e9-c56015cd38ec",
      "metadata": {
        "tags": [],
        "id": "6df776e1-0c8e-43dd-a6e9-c56015cd38ec"
      },
      "outputs": [],
      "source": [
        "# Read list of dates from file\n",
        "static_file = open(\"static_config.txt\",\"r\")\n",
        "\n",
        "# Checks if file exists\n",
        "while not os.path.exists(\"static_config.txt\"):\n",
        "  print('The static_config txt was not found. It should be in the same directory as the .py script. ')\n",
        "  n = input(\"Press enter to try again.\")\n",
        "  static_file = open(\"static_config.txt\",\"r\")\n",
        "\n",
        "# Dates are now used as a list\n",
        "static_config = {}\n",
        "with static_file as f:\n",
        "    for line in f:\n",
        "##       (key, val) = line.split()\n",
        "       key = line.split()\n",
        "       val = False\n",
        "##       static_config[key] = bool(val=='True')"
      ]
    },
    {
      "cell_type": "markdown",
      "source": [
        "*dynamic_file*\n",
        "\n",
        "---\n",
        "\n",
        "\n",
        "- The program will open and read the text file, \"dynamic_config.txt\". The contents of the file will be stored in the variable titled *dynamic_file*.\n",
        "\n",
        "- The code performs two tasks simultaneously: running and checking for the existence of the file. If the file is not found, the code engages the user in a prompt loop until a valid file is provided.\n",
        "\n",
        "- The file named *dynamic_file* is opened in read mode and assigned to the file object *file*. Next, each line in the file is split into a list of strings using whitespace as the delimiter. Finally, an iteration over each line in the file is performed, and the entire process is stored in *dynamic_config*.\n",
        "\n",
        "  In the *dynamic_config*, the following sublists are iterated:\n",
        "  - *d[1] = float(d[1])*: Changes the second element in the sublist to a float value.\n",
        "    - When *d[1] = None*, the conversion fails and the second element is set to *None*.\n",
        "  - *d[2] = bool([2] == '1')* : Converts the **third** element into a boolean value, depending on whether it's equal to the string *1*.\n",
        "  - *d[3] = bool(d[3] == '1')* : Converts the **fourth** element to a boolean value, depending on whether it's equal to the string *1*.\n",
        "  - *d[4] = d[4].replace('\\n',* ' ' ) : In the fifth element, substitute all instances of the *\\n,* string with a space character."
      ],
      "metadata": {
        "id": "yjIEEJt_go73"
      },
      "id": "yjIEEJt_go73"
    },
    {
      "cell_type": "markdown",
      "source": [
        "> **Note:**\n",
        "  - The initial column of the file stores the name of the variables found in the \"*dynamic_config.txt*\" file.\n",
        "  - The subsequent column in the file, named *fill_value*, holds a numeric value that, when applicable, represents the maximum value of the sample. If there is no *fill_value*, maintain the space.\n",
        "  - Within the binary section of the columns:\n",
        "    - The first column checks whether the value is equal to 0 or negative.\n",
        "      - If it is, then the value is considered *Null* and assigned a value of '*0*'.\n",
        "      - If the value is not *Null*, then it is assigned a value of '*1*'.\n",
        "    - The second column denotes whether the value is higher or lower than the *fill_value*. The ***valid*** values are the ones below the *fill_value*.\n",
        "      Depending on the value, the following applies:\n",
        "      - If the value is higher than the *fill_value*, then it is **True**, and the input is set to '*1*'.\n",
        "      - If the value is lower than the *fill_value*, then it is **False**, and the input is set to '*0*'.\n",
        "    - The final column verifies the validity of the value by checking for *NA* values.\n",
        "      - If the file value is retained, it is considered **False**, and the input is set to '*0*'.\n",
        "      - If the file value is removed, it is considered **True**, and the input is set to '*1*'."
      ],
      "metadata": {
        "id": "GKsHTyP9vZKb"
      },
      "id": "GKsHTyP9vZKb"
    },
    {
      "cell_type": "code",
      "execution_count": null,
      "id": "00c57cd6-70e4-49e6-a816-7fdf4f4679cb",
      "metadata": {
        "tags": [],
        "id": "00c57cd6-70e4-49e6-a816-7fdf4f4679cb"
      },
      "outputs": [],
      "source": [
        "# Read list of dates from file\n",
        "dynamic_file = open(\"dynamic_config.txt\",\"r\")\n",
        "\n",
        "# Checks if file exists\n",
        "while not os.path.exists(\"dynamic_config.txt\"):\n",
        "  print('The dynamic_config txt was not found. It should be in the same directory as the .py script. ')\n",
        "  n = input(\"Press enter to try again.\")\n",
        "  dynamic_file = open(\"dynamic_config.txt\", \"r\")\n",
        "\n",
        "# Dates are now used as a list\n",
        "with dynamic_file as file:\n",
        "    dynamic_config = [[x for x in line.split(' ')] for line in file]\n",
        "for d in dynamic_config:\n",
        "    try:\n",
        "        # Tries to convert index to float value\n",
        "        d[1] = float(d[1])\n",
        "    except:\n",
        "        # If does not convert, then set to 'None'\n",
        "        d[1] = None\n",
        "    # Checks if indices is equal to '1'\n",
        "    d[2] = bool(d[2]=='1')\n",
        "    d[3] = bool(d[3]=='1')\n",
        "    d[4] = d[4].replace('\\n', '')\n",
        "    d[4] = bool(d[4]=='1')"
      ]
    },
    {
      "cell_type": "code",
      "execution_count": null,
      "id": "75e1346f-cb3b-4797-a3ef-393f3b26a08b",
      "metadata": {
        "tags": [],
        "id": "75e1346f-cb3b-4797-a3ef-393f3b26a08b"
      },
      "outputs": [],
      "source": [
        "# Prints the static and dynamic configurations\n",
        "print(static_config)\n",
        "print(dynamic_config)"
      ]
    },
    {
      "cell_type": "markdown",
      "source": [
        "- The user will be asked to input the data product name, the input directory, the output directory, and the static data csv path."
      ],
      "metadata": {
        "id": "dCexN6XAgqAN"
      },
      "id": "dCexN6XAgqAN"
    },
    {
      "cell_type": "code",
      "execution_count": null,
      "id": "b5308e16-16a0-4d06-9e1a-2465db6ba994",
      "metadata": {
        "tags": [],
        "id": "b5308e16-16a0-4d06-9e1a-2465db6ba994"
      },
      "outputs": [],
      "source": [
        "# Set data product name\n",
        "d_name = input(\"Enter the name of the dataset: \")\n",
        "\n",
        "# Set the input directory\n",
        "input_d = input(\"Enter the input directory: \")\n",
        "\n",
        "# Set the ouput directory\n",
        "output_d = input(\"Enter the output directory: \")\n",
        "\n",
        "# Set static data csv path\n",
        "static_path = input(\"Enter the path to static data (include file and file exit): \")"
      ]
    },
    {
      "cell_type": "markdown",
      "source": [
        "- Provide either 'Y' or 'N' to indicate whether the verification data is available and if the data is complete.\n",
        "\n",
        "- Furthermore, to execute the program, the user is required to provide the index variable."
      ],
      "metadata": {
        "id": "YMcB33y3iVPA"
      },
      "id": "YMcB33y3iVPA"
    },
    {
      "cell_type": "code",
      "execution_count": null,
      "id": "2a2816e7-97c4-4d94-996d-d5ac19608891",
      "metadata": {
        "tags": [],
        "id": "2a2816e7-97c4-4d94-996d-d5ac19608891"
      },
      "outputs": [],
      "source": [
        "# Asks for verification of data and index number\n",
        "\n",
        "verify = input('Do you have verification data? Y/N: ')\n",
        "verify2 = input('Is the verification complete? Y/N: ')\n",
        "\n",
        "dex = input(\"Input the name of the index variable: \")"
      ]
    },
    {
      "cell_type": "markdown",
      "source": [
        "- The function *static* will take four arguments:\n",
        "  - *static_path* : The directory path containing all static files.\n",
        "  - *date* : The current date.\n",
        "  - *dex* : The index variable.\n",
        "  - *static_config* : Dictionary that stores key-value pairs."
      ],
      "metadata": {
        "id": "bqfh9Kjs2aV6"
      },
      "id": "bqfh9Kjs2aV6"
    },
    {
      "cell_type": "code",
      "execution_count": null,
      "id": "2ac9eae2-60a4-4e2c-9cc4-ed80bad911b7",
      "metadata": {
        "tags": [],
        "id": "2ac9eae2-60a4-4e2c-9cc4-ed80bad911b7"
      },
      "outputs": [],
      "source": [
        "static = static_gen(static_path, date, dex, static_config)"
      ]
    },
    {
      "cell_type": "markdown",
      "source": [
        "- The variable *dyn* takes five arguments:\n",
        "  - *d_name* : The name of the dataset\n",
        "  - *input_d* : The input directory.\n",
        "  - *dex* : The index variable.\n",
        "  - *date* : The current date.\n",
        "  - *dynamic_config* : Comprises a series of lists, where each of the lists corresponds to a line from *dynamic_file*."
      ],
      "metadata": {
        "id": "U_iIMqIP6MRi"
      },
      "id": "U_iIMqIP6MRi"
    },
    {
      "cell_type": "code",
      "execution_count": null,
      "id": "8480914b-3950-4a50-88e3-e46d3dc300c3",
      "metadata": {
        "tags": [],
        "id": "8480914b-3950-4a50-88e3-e46d3dc300c3"
      },
      "outputs": [],
      "source": [
        "dyn = dynamic_gen(d_name, input_d, dex,  date, dynamic_config)"
      ]
    },
    {
      "cell_type": "markdown",
      "source": [
        "- The variable *untrim_data* combines the data from the *static* and *dyn* variables that were previously initialized."
      ],
      "metadata": {
        "id": "cNZgCDV06PD7"
      },
      "id": "cNZgCDV06PD7"
    },
    {
      "cell_type": "code",
      "execution_count": null,
      "id": "0393c88f-69ff-4cda-9ed4-9e2aed841ec7",
      "metadata": {
        "tags": [],
        "id": "0393c88f-69ff-4cda-9ed4-9e2aed841ec7"
      },
      "outputs": [],
      "source": [
        "untrim_data = combine_data(static, dyn)"
      ]
    },
    {
      "cell_type": "markdown",
      "source": [
        "- Lastly, the data is tested using these four arguments:\n",
        "  - *untrim_data* : Combined data from *static* and *dyn*.\n",
        "  - *output_d* : The output directory.\n",
        "  - *dex* : The index variable.\n",
        "  - *d_name* : The name of the dataset."
      ],
      "metadata": {
        "id": "CBFj34vR6PXd"
      },
      "id": "CBFj34vR6PXd"
    },
    {
      "cell_type": "code",
      "execution_count": null,
      "id": "936de603-c9b9-435c-8db3-988220367dd7",
      "metadata": {
        "tags": [],
        "id": "936de603-c9b9-435c-8db3-988220367dd7"
      },
      "outputs": [],
      "source": [
        "train_test(untrim_data, output_d, dex, d_name)"
      ]
    }
  ],
  "metadata": {
    "kernelspec": {
      "display_name": "Python 3 (ipykernel)",
      "language": "python",
      "name": "python3"
    },
    "language_info": {
      "codemirror_mode": {
        "name": "ipython",
        "version": 3
      },
      "file_extension": ".py",
      "mimetype": "text/x-python",
      "name": "python",
      "nbconvert_exporter": "python",
      "pygments_lexer": "ipython3",
      "version": "3.11.4"
    },
    "colab": {
      "provenance": []
    }
  },
  "nbformat": 4,
  "nbformat_minor": 5
}
