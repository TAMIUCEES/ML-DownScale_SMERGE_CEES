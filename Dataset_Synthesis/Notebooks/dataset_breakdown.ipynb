{
  "nbformat": 4,
  "nbformat_minor": 0,
  "metadata": {
    "colab": {
      "provenance": []
    },
    "kernelspec": {
      "name": "python3",
      "display_name": "Python 3"
    },
    "language_info": {
      "name": "python"
    }
  },
  "cells": [
    {
      "cell_type": "markdown",
      "source": [
        "# Introduction\n",
        "The ***dataset_breakdown*** program gathers data from the user input in the form of a CSV file then breaks down the data in the file. The user can then select whether the file will be broken down as a directory or individually. If the user chooses to break down all CSV files, they will need to input the resolution ID. Organizing data in a file by breaking it down allows the user to sort the values in the file.\n",
        "\n",
        "---\n",
        "The following libraries are imported to allow the code to be run:\n",
        "\n",
        "* **os** - The directory service provides the ability to create and remove directory folders, gather data, change and find the current directory, and provide a means for users and the operating system to interact with each other.\n",
        "* **datetime** - Manipulates the data between dates and time.\n",
        "* **string** - Allows strings or data to be split when needed.\n",
        "* **warnings** - Informs the user of the state of the code or where an error has occurred.\n",
        "* **sys** - Provides a way to manipulate the runtime of the program by using certain parameters and functions.\n",
        "* **Pandas** - Is a tool for modeling, analyzing, and manipulating data sets.\n",
        "> For more information visit: https://www.geeksforgeeks.org/introduction-to-pandas-in-python/#\n",
        "* **NumPy** - Supports analysis and can perform operations on a large set of data.\n",
        "> For more information visit: https://numpy.org/doc/stable/user/whatisnumpy.html\n",
        "* **re** - regular expression (or **re**) specifies a set of strings, where a particular string will match the given regular expression.\n",
        "> For more information visit: https://docs.python.org/3/library/re.html\n"
      ],
      "metadata": {
        "id": "-S4-jgk6TLsM"
      }
    },
    {
      "cell_type": "code",
      "execution_count": null,
      "metadata": {
        "id": "ufPFgvfxSc1_"
      },
      "outputs": [],
      "source": [
        "import os\n",
        "import datetime\n",
        "import string\n",
        "import warnings\n",
        "import sys\n",
        "import pandas as pd\n",
        "import numpy as np\n",
        "import re"
      ]
    },
    {
      "cell_type": "markdown",
      "source": [
        "- The function **breakdown** use the three arguments: *output_d*, *input_d*, and *d_name*.\n",
        "  - The *output_d* argument is the path to the output directory where the files that have been broken down will be saved.\n",
        "  - The *input_d* argument is the path to the input directory where the original CSV file is located.\n",
        "  - The *d_name* argument is the name of the original CSV file.\n",
        "\n",
        "- First, the function will read the CSV file.\n",
        "Then, for every column, the function will check if *'MEAN'* is found within the column name. If *'MEAN'* is not found within the column name, the function will create a new DataFrame, **f_data**, that contains only the *'PageName'* and *'MEAN'* columns. Then, the function will change the column names of **f_data** to *'PageName'* and *'MEAN'*, respectively. Moreover, **f_data** will be saved to a CSV file in the output directory."
      ],
      "metadata": {
        "id": "7GUX-pRNq23Y"
      }
    },
    {
      "cell_type": "code",
      "source": [
        "def breakdown(output_d,input_d,d_name):\n",
        "  data = pd.read_csv(os.path.join(input_d,d_name))\n",
        "  col = data.columns\n",
        "  home = output_d\n",
        "  for c in col:\n",
        "    f_data = data[['PageName',c]]\n",
        "    f_data.columns = ['PageName','MEAN']\n",
        "    if 'MEAN' in c:\n",
        "      f_data.to_csv(os.path.join(home,c.replace('MEAN_','')+'.csv'))"
      ],
      "metadata": {
        "id": "5UD7Jw70TEtn"
      },
      "execution_count": null,
      "outputs": []
    },
    {
      "cell_type": "code",
      "source": [
        "# Set the input directory\n",
        "input_d = input(\"Enter the input directory: \")\n",
        "\n",
        "# Set the output directory\n",
        "output_d = input(\"Enter the output directory: \")"
      ],
      "metadata": {
        "id": "oTWVmPBfUHJR"
      },
      "execution_count": null,
      "outputs": []
    },
    {
      "cell_type": "markdown",
      "source": [
        "- There are two ways to break down a CSV file: obtain all CSV files in a directory or break down the CSV file individually.\n",
        "\n",
        "- The user will need to input '*Y*' for all files in the directory or '*N*' for individual files.  "
      ],
      "metadata": {
        "id": "eTxp8QOWoYz_"
      }
    },
    {
      "cell_type": "code",
      "source": [
        "# How file should be broken down\n",
        "auto = input(\"Do you wish to breakdown all CSVs in a directory(type: Y) or individually(type: N): \")\n",
        "\n",
        "# Use the correct inputs\n",
        "while auto != 'Y' and auto != 'N':\n",
        "  print(\"Input invalid. \\n\")\n",
        "  auto = input(\"How do you want to breakdown CSVs: \")"
      ],
      "metadata": {
        "id": "I3vbi6p1Tk-C"
      },
      "execution_count": null,
      "outputs": []
    },
    {
      "cell_type": "markdown",
      "source": [
        "- If the user inputs '*N* ', the user will be prompted to enter the name of the dataset. The program will then check if the files exists. If the file does not exist, the user will be prompted to enter a valid file name until they do. Once the file has been correctly entered, the information will be passed to the **breakdown** function.\n",
        "\n",
        "- If the user inputs '*Y* ', they must enter a resolution ID. When the input directory ends with '*.csv*' and the resolution ID is found in the file name, the file name is printed and the **breakdown** function is used."
      ],
      "metadata": {
        "id": "ya091FmcMTIy"
      }
    },
    {
      "cell_type": "code",
      "source": [
        "if auto == 'N':\n",
        "  # Set data product name\n",
        "  d_name = input(\"Enter the name of the dataset (Include file extension): \")\n",
        "\n",
        "  # Re-input information of the file if entered incorrectly or does not exist until entered correctly\n",
        "  while not os.path.exists(os.path.join(input_d,d_name)):\n",
        "    print('The dataset was not found, should be in the same directory as the .py script')\n",
        "    d_name = input(\"Enter the name of the dataset (Include file extension): \")\n",
        "    input_d = input(\"Enter the input directory: \")\n",
        "    breakdown(output_d,input_d,d_name)\n",
        "\n",
        "if auto == 'Y':\n",
        "  reso = input('What is the resolution ID, if none leave blank and press enter: ')\n",
        "  for f in os.listdir(input_d):\n",
        "    if f.endswith('.csv') and reso in f:\n",
        "      print(f)\n",
        "      breakdown(output_d,input_d,f)"
      ],
      "metadata": {
        "id": "O9MM_dCSUx7x"
      },
      "execution_count": null,
      "outputs": []
    }
  ]
}
