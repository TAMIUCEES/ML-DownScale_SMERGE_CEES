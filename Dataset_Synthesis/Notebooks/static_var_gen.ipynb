{
  "nbformat": 4,
  "nbformat_minor": 0,
  "metadata": {
    "colab": {
      "provenance": []
    },
    "kernelspec": {
      "name": "python3",
      "display_name": "Python 3"
    },
    "language_info": {
      "name": "python"
    }
  },
  "cells": [
    {
      "cell_type": "markdown",
      "source": [
        "#Introduction\n",
        "\n",
        "The **static_var_gen** program enables users to generate a new CSV file that leverages static variables from the original dataset. This is achieved by constructing home paths and the name of the dataset containing the static data. The program then verifies the existence of the file. This functionality aids users in creating a file that tracks related data and allows for the display of a table containing the aforementioned data.\n",
        "\n",
        "---\n",
        "The following libraries imported to allow the code to be run:\n",
        "* **os** - The directory service provides the ability to create and remove directory folders, gather data, change and find the current directory, and provide a means for users and the operating system to interact with each other.\n",
        "* **datetime** - Manipulates the data between dates and time.\n",
        "* **modin.pandas** - Distributes and computes data faster by using API.\n",
        "* **matplotlib.pyplot** - Creates data visualization (i.e. graphs)\n",
        "* **seaborn** - Statistical graphs.\n",
        "* **string** - Allows strings or data to be split when needed.\n",
        "* **warnings** - Informs the user of the state of the code or where an error has occurred.\n",
        "* **sys** - Provides a way to manipulate the runtime of the program by using certain parameters and functions.\n",
        "* **Pandas** -  Is a tool for modeling, analyzing, and manipulating data sets.\n",
        "  > For more information visit: https://www.geeksforgeeks.org/introduction-to-pandas-in-python/#\n",
        "* **Numpy** - Supports analysis and can perform operations on a large set of data.\n",
        "  > For more information visit: https://numpy.org/doc/stable/user/whatisnumpy.html\n",
        "* **re** - regular expression (or **re**) specifies a set of strings, where a particular string will match the given regular expression.\n",
        "  > For more information visit: https://docs.python.org/3/library/re.html\n",
        "\n",
        "**natsort**\n",
        "\n",
        "---\n",
        "\n",
        "\n",
        "* **natsorted** - Sorts strings and numbers separately.\n",
        "\n",
        "\n",
        "\n",
        "\n",
        "**sklearn.preprocessing**\n",
        "\n",
        "---\n",
        "\n",
        "\n",
        "* **StandardScaler** - Removes the mean or average value and scales do the unit variance.\n",
        "\n",
        "**sklearn.model_selection**\n",
        "\n",
        "---\n",
        "\n",
        "\n",
        "* **train_test_split** - Splits arrays into random train and test subsets which provides valid results."
      ],
      "metadata": {
        "id": "aX2LlQh1o_fC"
      }
    },
    {
      "cell_type": "code",
      "execution_count": null,
      "metadata": {
        "id": "0N5NAlzjNg32"
      },
      "outputs": [],
      "source": [
        "import os\n",
        "import datetime\n",
        "import modin.pandas as pd\n",
        "import matplotlib.pyplot as plt\n",
        "import seaborn as sns\n",
        "import string\n",
        "import warnings\n",
        "import sys\n",
        "import pandas as pd\n",
        "import numpy as np\n",
        "import re\n",
        "from natsort import natsorted\n",
        "from sklearn.preprocessing import StandardScaler\n",
        "from sklearn.model_selection import train_test_split"
      ]
    },
    {
      "cell_type": "markdown",
      "source": [
        "- Paths will be constructed based on the zone and name.\n",
        "\n",
        "  An example would be the following:\n",
        "  > *Enter the home directory where the datasets are located: /content/AIRMOSS/*"
      ],
      "metadata": {
        "id": "Wyvpee2x3J80"
      }
    },
    {
      "cell_type": "code",
      "source": [
        "# Constructing home paths\n",
        "home = input(\"Enter the home directory where the datasets are located: \")"
      ],
      "metadata": {
        "id": "7LKFl9842FuN"
      },
      "execution_count": null,
      "outputs": []
    },
    {
      "cell_type": "markdown",
      "source": [
        "- The **static_file** variable is created by using the inputs of the home directory and the name of the static dataset.\n",
        "\n",
        "- Input the name of the dataset that contains the static data, this will be used to construct the full path.\n",
        "\n",
        "- While the code is running it will also be checking if the testing file exists. If the file does not exist, then the code will prompt the user until a valid file is provided."
      ],
      "metadata": {
        "id": "jEDwHCYsVJrH"
      }
    },
    {
      "cell_type": "code",
      "source": [
        "# Asking for the name of the training dataset and constructing the full path\n",
        "static_dataset_name = input(\"Enter the name of the dataset containing static data (including file extension): \")\n",
        "\n",
        "static_file = os.path.join(home, static_dataset_name)\n",
        "\n",
        "while not os.path.exists(static_file):\n",
        "  print(static_file + \" does not exist. Please enter the correct dataset name. \")\n",
        "  static_dataset_name = input(\"Enter the name of the dataset containing static data (including file extensions): \")\n",
        "  static_file = os.path.join(home, static_dataset_name)"
      ],
      "metadata": {
        "id": "BlXbtoVoN_XB"
      },
      "execution_count": null,
      "outputs": []
    },
    {
      "cell_type": "markdown",
      "source": [
        "- Input the name of the index variable."
      ],
      "metadata": {
        "id": "LfKnFEjC7App"
      }
    },
    {
      "cell_type": "code",
      "source": [
        "index_var = input(\"Enter the index variable from the list of variables: \")"
      ],
      "metadata": {
        "id": "IcMvKBai7Rn3"
      },
      "execution_count": null,
      "outputs": []
    },
    {
      "cell_type": "markdown",
      "source": [
        "- The columns are printed using the **static_file** that was generated, as long as the empty variable '*i*' does not equal '*exit* '. These columns are then added to the **static_vars** variable. Finally, the user gives the **static_vars** dataset a name, which is saved as a file."
      ],
      "metadata": {
        "id": "NVDJwd9OEFax"
      }
    },
    {
      "cell_type": "code",
      "source": [
        "i = ''\n",
        "static_vars = [index_var]\n",
        "\n",
        "# Reads static_file\n",
        "data = pd.read_csv(static_file)\n",
        "print('These are the column names of the given table, which columns are the static variables. Type \"exit\" when finished. The Pagename column will automatically be added. ')\n",
        "print(data.columns)\n",
        "while i != 'exit':\n",
        "  i = input(': ')\n",
        "  if i != 'exit':\n",
        "    static_vars.appen(i)\n",
        "\n",
        "# Constructing file name\n",
        "name = input(\"Enter the name of the dataset (NOT including file extension): \")\n",
        "static = data[static_vars]\n",
        "static.to_csv(os.path.join(home, name + '_static.csv'), index = False)"
      ],
      "metadata": {
        "id": "6m44UAlxPH5p"
      },
      "execution_count": null,
      "outputs": []
    }
  ]
}
