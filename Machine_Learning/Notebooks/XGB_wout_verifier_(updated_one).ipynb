{
  "nbformat": 4,
  "nbformat_minor": 0,
  "metadata": {
    "colab": {
      "provenance": [],
      "gpuType": "T4"
    },
    "kernelspec": {
      "name": "python3",
      "display_name": "Python 3"
    },
    "language_info": {
      "name": "python"
    },
    "accelerator": "GPU"
  },
  "cells": [
    {
      "cell_type": "markdown",
      "source": [
        "# Introduction\n",
        "\n",
        "The Machine Learning technique used will be eXtreme Gradient Boost (XGBoost), specifically XGB without verifier. XGBoost regressor is a machine learning algorithm that excels in predictive accuracy. XGBoost regression model builds a series of tree's one after another, where each new tree learns from the previous created tree's errors and improves until it reaches its maximum improvement. XGBoost, in contrast to Gradient Boosting, introduces several optimizations such as improved regularization, can handle larger data, is more adaptable to various problems, and has built-in capabilities to handle missing data.\n",
        "\n",
        "\n",
        "---\n",
        "\n",
        "Before running the code, first check if SHAP is already in library. If it is not, install using given code, the same applies to *os*. SHAP is an interpretability tool that will help us to see the contribution of each feature towards machine learning predictions."
      ],
      "metadata": {
        "id": "KkD0XrwZZ0k5"
      }
    },
    {
      "cell_type": "code",
      "execution_count": null,
      "metadata": {
        "id": "UulX3R6GZytk"
      },
      "outputs": [],
      "source": [
        "pip install shap"
      ]
    },
    {
      "cell_type": "code",
      "source": [
        "pip install os"
      ],
      "metadata": {
        "id": "mOYXaOuACw6y"
      },
      "execution_count": null,
      "outputs": []
    },
    {
      "cell_type": "markdown",
      "source": [
        "The following libraries will be imported to be able to run the code\n",
        "\n",
        "\n",
        "---\n",
        "\n",
        "\n",
        "First, we have the most important library that is XGBoost, which will help to import our base model *XGBRegressor*.\n",
        "\n",
        "> See the link below for more information on the package:\n",
        "\n",
        "-  XGBRegressor - https://xgboost.readthedocs.io/en/stable/python/python_api.html#xgboost.XGBRegressor\n",
        "\n",
        "\n",
        "---\n",
        "\n",
        "\n",
        "\n",
        "Since we are working with XGBoost, most of the libraries used are from \"sklearn package\", which includes:\n",
        "\n",
        "**sklearn-metrics**\n",
        "\n",
        "\n",
        "---\n",
        "\n",
        "\n",
        "- **r2_score** - Used to measure how well a linear regression model fits the data.\n",
        "> For more information visit: https://scikit-learn.org/stable/modules/generated/sklearn.metrics.r2_score.html\n",
        "\n",
        "- **mean_squared_error** - Evaluates the closeness between the regression line and the set of data points. A lower MSE indicates that the regression line is a better fit for the data.\n",
        "> For more information visit: https://scikit-learn.org/stable/modules/generated/sklearn.metrics.mean_squared_error.html\n",
        "\n",
        "---\n",
        "\n",
        "Additionally, we have SHAP and os, as explained before, SHAP is an interpretabilty tool which helps to evaluate the contribution of each feature towards predictions. Os is particularly used to concatenate path components with exactly one directory separator \"/\", and create one path.\n",
        "  \n",
        "> See the links below for more information in the packages:\n",
        "- **SHAP** - https://shap.readthedocs.io/en/latest/\n",
        "- **os** - https://www.geeksforgeeks.org/python-os-path-join-method/\n",
        "\n",
        "The other packages contain python features such as 'pandas' and 'numpy', which helps obtain the mean and standard deviation.\n",
        "\n",
        "> See the links below to more information in the packages:\n",
        "- **Pandas** - https://pandas.pydata.org/docs/user_guide/index.html\n",
        "- **NumPy** - https://numpy.org/doc/stable/"
      ],
      "metadata": {
        "id": "XYCA2ilZC0Fe"
      }
    },
    {
      "cell_type": "code",
      "source": [
        "from xgboost import XGBRegressor\n",
        "import os\n",
        "import pandas as pd\n",
        "import numpy as np\n",
        "import shap\n",
        "from sklearn.metrics import r2_score\n",
        "from sklearn.metrics import mean_squared_error as mse"
      ],
      "metadata": {
        "id": "cPWjhXpXEh5m"
      },
      "execution_count": null,
      "outputs": []
    },
    {
      "cell_type": "markdown",
      "source": [
        "- The user will then be asked to input the name of the dataset.\n",
        "\n",
        "  An example would be:\n",
        "  > *Enter the name of the dataset:* **XGB_BigRunWS**"
      ],
      "metadata": {
        "id": "NLdH4kk6FHdI"
      }
    },
    {
      "cell_type": "code",
      "source": [
        "name = input(\"Enter the name of the dataset: \")"
      ],
      "metadata": {
        "id": "64po8ZOmFdUP"
      },
      "execution_count": null,
      "outputs": []
    },
    {
      "cell_type": "markdown",
      "source": [
        "- Paths will be constructed based on the zone and name.\n",
        "\n",
        "  An example would be:\n",
        "  > *Enter the home directory where the datasets are located:* **/mnt/e/share/BIgRun/ML-DownScale_SMERGE_CEES-main**"
      ],
      "metadata": {
        "id": "q70NZytbFljg"
      }
    },
    {
      "cell_type": "code",
      "source": [
        "home_directory = input(\"Enter the home directory where the datasets are located: \")"
      ],
      "metadata": {
        "id": "WJEPUSiOG_z7"
      },
      "execution_count": null,
      "outputs": []
    },
    {
      "cell_type": "markdown",
      "source": [
        "- Input the name of the testing dataset, this will be used to construct the full path.\n",
        "\n",
        "  An example would be:\n",
        "  > *Enter the name of the testing dataset:* **BigRunWS_500_inst.csv**"
      ],
      "metadata": {
        "id": "LeNsrAQSH_4g"
      }
    },
    {
      "cell_type": "markdown",
      "source": [
        "- While the code is running it will also be checking if the testing file exists. If the file does not exist, then the code will prompt the user until a valid file is provided."
      ],
      "metadata": {
        "id": "FqZy31TUIyG-"
      }
    },
    {
      "cell_type": "code",
      "source": [
        "test_dataset_name = input(\"Enter the name of the testing dataset (including file extensions): \")\n",
        "\n",
        "test_file = os.path.join(home_directory, test_dataset_name)\n",
        "\n",
        "while not os.path.exists(test_file):\n",
        "  print(\"The specified training file does not exist. Enter the correct dataset name.\")\n",
        "  test_dataset_name = input(\"Enter the name of the testing dataset (including file extensions): \")\n",
        "  test_file = os.path.join(home_directory, test_dataset_name)"
      ],
      "metadata": {
        "id": "kS7Ya5FNItme"
      },
      "execution_count": null,
      "outputs": []
    },
    {
      "cell_type": "markdown",
      "source": [
        "- Input the name of the training dataset, this will be used to construct the full path.\n",
        "\n",
        "  An example would be:\n",
        "  > *Enter the name of the training dataset:* **BigRunWS_500_train_4.csv**"
      ],
      "metadata": {
        "id": "obvT9pM4LMwO"
      }
    },
    {
      "cell_type": "markdown",
      "source": [
        "- While the code is running it will also be checking if the training file exists. If the file does not exist, then the code will prompt the user until a valid file is provided."
      ],
      "metadata": {
        "id": "Gu41Ut-VNoOj"
      }
    },
    {
      "cell_type": "code",
      "source": [
        "train_dataset_name = input(\"Enter the name of the training dataset (including file extensions): \")\n",
        "\n",
        "train_file = os.path.join(home_directory, train_dataset_name)\n",
        "\n",
        "while not os.path.exists(train_file):\n",
        "  print(\"The specified training file does not exist. Enter the correct dataset name.\")\n",
        "  train_dataset_name = input(\"Enter the name of the training dataset (including file extensions): \")\n",
        "  train_file = os.path.join(home_directory, train_dataset_name)"
      ],
      "metadata": {
        "id": "Y4QVu0KRMz23"
      },
      "execution_count": null,
      "outputs": []
    },
    {
      "cell_type": "markdown",
      "source": [
        "# Variables\n",
        "\n",
        "- Prior to exporting testing and training data, it is necessary to create and upload a text file list (comma-separated values) containing the names of all variables (including the target variable). The text file must be saved in the same folder as the training and testing files.\n",
        "\n",
        "- Given that the variable names can vary depending on the user's data, it is more convenient to create a separate file with the variable names and then adjust them to the code.\n",
        "\n",
        "- An example of the list of variables would be:\n",
        "\n",
        "  > *Enter the name of the variables list (make sure the file is in text file format):* **vars.txt**"
      ],
      "metadata": {
        "id": "t8D2pBnwOmcL"
      }
    },
    {
      "cell_type": "code",
      "source": [
        "variables_list_name = input(\"Enter the name of the variables list (make sure the file is in text file format): \")\n",
        "variables_file = os.path.join(home_directory, variables_list_name)\n",
        "\n",
        "while not os.path.exists(variables_file):\n",
        "  variables_list_name = input(\"The variable list txt was not found, it should be in the home directory, try again \")\n",
        "  variables_file = os.path.join(home_directory, variables_list_name)\n",
        "\n",
        "text_file = open(variables_file, \"r\")\n",
        "variables = text_file.read().split(',')"
      ],
      "metadata": {
        "id": "8OUSdYaEoEyZ"
      },
      "execution_count": null,
      "outputs": []
    },
    {
      "cell_type": "markdown",
      "source": [
        "# Testing Data\n",
        "\n",
        "- First, we created a variable called *test_data* to read our testing data, then using *variables* from the previous section we will save all of the data into *test_data*. Testing data is going to help us measure the performance of our model."
      ],
      "metadata": {
        "id": "21qzo1VOpIay"
      }
    },
    {
      "cell_type": "code",
      "source": [
        "test_data = pd.read_csv(test_file)\n",
        "test_data = test_data.loc[:, variables]"
      ],
      "metadata": {
        "id": "KIfj5uAHxam_"
      },
      "execution_count": null,
      "outputs": []
    },
    {
      "cell_type": "markdown",
      "source": [
        ">**Warning** -\n",
        "Before separating the predictor variables from the target variable, we created a filter to make sure the data saved will be compatible with XGBoost. This machine learning module is created to deal with numeric values only.\n",
        "\n",
        "- The following code will remove all the *object type* column variables from the testing set, create new variables that will hold those columns, and eventually create a list of all of the columns that will be removed.\n",
        "  - **Object type** columns variables refers to the columns that contain a combination of strings, letters, and numbers. XGBoost is compatible only with numeric values.\n",
        "\n",
        "- As a result, prior to applying the testing set to the XGBoost model, we must eliminate those columns.\n",
        "\n",
        "- However, if you want to keep that variable as part of your variables for the model, make sure to format that column beforehand for both testing and training sets.\n",
        "\n",
        "- In our case, we dealt with a variable called  *PageName*.\n",
        "  - **PageName** - This variable holds string values and can not be used in our model. However, the variable holds the position grids of the data by coordinates with letters and numbers such as B2.\n",
        "\n",
        "- Although **PageName** was not part of the XGBoost model predictions, it was saved in a variable separately so that it could be added back into the final prediction output. The variable will be called *index variable*.\n",
        "If this is the case for you, and you want to save your data to place back into the output, you will be able to use the variables that this section will create. Otherwise, if you are just planning to remove them, you can just run this section and move on to the next one."
      ],
      "metadata": {
        "id": "meMaGEjnq6EE"
      }
    },
    {
      "cell_type": "code",
      "source": [
        "def process_object_columns(dataframe, dex):\n",
        "    def get_object_columns(df):\n",
        "        return list(df.select_dtypes(include=['object']).columns)\n",
        "\n",
        "    # Function to get object type columns\n",
        "    object_columns = get_object_columns(dataframe)\n",
        "\n",
        "    if dex in object_columns:\n",
        "      object_columns.remove(dex)\n",
        "\n",
        "    print(\"Object type columns:\", object_columns)\n",
        "    # Removing columns with 'object' dtype\n",
        "    df_without_objects = dataframe.drop(object_columns, axis=1)\n",
        "\n",
        "    # Creating separate variables for object type columns with their respective names\n",
        "    for col in object_columns:\n",
        "        globals()[f\"{col}\"] = dataframe[col]\n",
        "\n",
        "    # Printing separate variables\n",
        "    for col in object_columns:\n",
        "        print(f\"{col}:\")\n",
        "        print(globals()[f\"{col}\"])\n",
        "\n",
        "    # Returning the original DataFrame without object type columns\n",
        "    return df_without_objects"
      ],
      "metadata": {
        "id": "oHOO8WL-U0lS"
      },
      "execution_count": null,
      "outputs": []
    },
    {
      "cell_type": "markdown",
      "source": [
        "- Input the name of the index variable, which will be integrated in the output dataframe.\n",
        "> *Enter the index variable from the list of variables:* **PageName**\n",
        ">\n",
        "> *Object type columns:* **[ ]**"
      ],
      "metadata": {
        "id": "nIDsC2EJUSyp"
      }
    },
    {
      "cell_type": "code",
      "source": [
        "index_variable = input(\"Enter the index variable from the list of variables: \")"
      ],
      "metadata": {
        "id": "u2wx5Vop8ulX"
      },
      "execution_count": null,
      "outputs": []
    },
    {
      "cell_type": "code",
      "source": [
        "test_data = process_object_columns(test_data)"
      ],
      "metadata": {
        "id": "ZpCdfkC-VV6G"
      },
      "execution_count": null,
      "outputs": []
    },
    {
      "cell_type": "markdown",
      "source": [
        "*   After removing the object type columns, this is how the new test data looks like:\n",
        "\n"
      ],
      "metadata": {
        "id": "29mqDUY_WHeu"
      }
    },
    {
      "cell_type": "code",
      "source": [
        "test_page = test_data[index_variable]\n",
        "test_data.drop(columns=[index_variable], inplace=True)\n",
        "\n",
        "print(test_data)"
      ],
      "metadata": {
        "id": "QkxLYRWUTNX4"
      },
      "execution_count": null,
      "outputs": []
    },
    {
      "cell_type": "markdown",
      "source": [
        "- The next step is to create a variable that holds the date column.\n",
        "  - Since the *date* column is a component of our predictor variables, we must format its numerical values to a value that XGBoost can interpret as a date, rather than just a number. However, before formatting the *date* column, we create this **date** variable to preserve its original format and then insert it back into the output frame. The date format that can be taken can be found in the **Date Formatting** section."
      ],
      "metadata": {
        "id": "nwHTrCoItR3J"
      }
    },
    {
      "cell_type": "code",
      "source": [
        "date = pd.read_csv(test_file, usecols=['Date'])"
      ],
      "metadata": {
        "id": "S1YzghQEQnES"
      },
      "execution_count": null,
      "outputs": []
    },
    {
      "cell_type": "markdown",
      "source": [
        "# Date Formatting\n",
        "- For regression models it is important to follow the required formatting to make sure to have a high perfomance. This section will change the date format to a *to_datetime* format which works better with machine learning regression models.Therefore, there will be a date formatting for both testing and training sets.\n",
        "> *If file use \"%m/%d/%Y\" type: A, if \"%Y/%m/\n",
        "%d\" type: B, else \"%Y/%j\" type C:* **A**\n",
        "  \n",
        "  > **Note:** This section only allows three types of date formats : \"%m/%d/%Y\", \"%Y/%m/%d\", and \"%Y/%j\". If you are using another type of format make sure to change it to one of those formats beforehand.\n"
      ],
      "metadata": {
        "id": "0xUiac4_sqE8"
      }
    },
    {
      "cell_type": "code",
      "source": [
        "def date_formatting(dataframe2):\n",
        "    # Processing 'Date' column for testing\n",
        "    date_format = input('If file use \"%m/%d/%Y\" type: A, if \"%Y/%m/%d\" type: B, else \"%Y/%j\" type C: ')\n",
        "    #date_column = dataframe2[column_name]\n",
        "    while date_format != 'A' and date_format != 'B' and date_format != 'C':\n",
        "        date_format = input('Input ERROR, If file use \"%m/%d/%Y\" type: A, if \"%Y/%m/%d\" type: B, else if \"%Y/%j\" type C: ')\n",
        "\n",
        "    if date_format == 'A':\n",
        "        # date_format = '%m/%d/%Y'\n",
        "        dataframe2['Date'] = pd.to_datetime(date['Date'], format=\"%m/%d/%Y\")\n",
        "        dataframe2['Date'] =  dataframe2['Date'].astype(int)\n",
        "\n",
        "    if date_format == 'B':\n",
        "        # date_format = '%Y/%m/%d'\n",
        "        dataframe2['Date'] = pd.to_datetime(date['Date'], format = '%Y/%m/%d')\n",
        "        dataframe2['Date'] =  dataframe2['Date'].astype(int)\n",
        "\n",
        "    if date_format == 'C':\n",
        "        # date_format = '%Y/%j'\n",
        "        dataframe2['Date'] = pd.to_datetime(date['Date'], format=\"%Y/%j\")\n",
        "        dataframe2['Date'] =  dataframe2['Date'].astype(int)\n",
        "\n",
        "    #else:\n",
        "      #print (\"Data format not recognized, make sure your data is formatted as %m%d%Y, %Y%m%d, or %Y%j\")\n",
        "     # date_format = 0\n",
        "    return dataframe2"
      ],
      "metadata": {
        "id": "FxVh2SUrkCEu"
      },
      "execution_count": null,
      "outputs": []
    },
    {
      "cell_type": "code",
      "source": [
        "test_data = date_formatting(test_data)"
      ],
      "metadata": {
        "id": "RfkZzEM3OppU"
      },
      "execution_count": null,
      "outputs": []
    },
    {
      "cell_type": "markdown",
      "source": [
        "*   Lastly, to get the testing data ready, you need to separate the predictor variables from the target variable."
      ],
      "metadata": {
        "id": "oqoOvr-aMY4S"
      }
    },
    {
      "cell_type": "code",
      "source": [
        "# Separating target variable (dependent) from the initial variables (independent).\n",
        "target_variable = input(\"Write the name of the target variable to extract it from the list of variables: \")\n",
        "variables = test_data.columns.tolist()\n",
        "\n",
        "while target_variable in variables:\n",
        "    variables.remove(target_variable)\n",
        "\n",
        "y_test = test_data[target_variable]\n",
        "x_test = test_data[variables]"
      ],
      "metadata": {
        "id": "bYfn5EWiMQib"
      },
      "execution_count": null,
      "outputs": []
    },
    {
      "cell_type": "markdown",
      "source": [
        "# Training Data\n",
        "\n",
        "- First, we create a variable called *train_data* to read our training data. Then, using the *variables* from the previous section, we save all of the data into *train_data*. The training data will be used to create our model and make it able to create predictions.\n",
        "\n",
        "  > **Note:** Since we already removed the object type columns in a previous section we will use *variables* from the **Variables** section to retrieve just the numerical columns values and define **x_train**. Addtionally, we will use **target_variable** from testing data to also define **y_train** in the training data.\n",
        "\n",
        "\n"
      ],
      "metadata": {
        "id": "CA1ASrYBbL29"
      }
    },
    {
      "cell_type": "code",
      "source": [
        "train_data = pd.read_csv(train_file)"
      ],
      "metadata": {
        "id": "K97dOvQMcPGW"
      },
      "execution_count": null,
      "outputs": []
    },
    {
      "cell_type": "markdown",
      "source": [
        "- Prior to defining the predictor variables (**x_train**) and target variable (**y_train**) for training, we must also format the date for the training data.\n",
        "  - To do this, we will use the same function that we used in the **Date Formatting** section."
      ],
      "metadata": {
        "id": "dH0FU0b-kwcL"
      }
    },
    {
      "cell_type": "code",
      "source": [
        "train_data.drop(columns=[index_variable], inplace=True)\n",
        "variables.remove(index_variable)"
      ],
      "metadata": {
        "id": "DGbJiGfGmsYd"
      },
      "execution_count": null,
      "outputs": []
    },
    {
      "cell_type": "code",
      "source": [
        "train_data.dropna(inplace=True)\n",
        "train_data = date_formatting(train_data)\n",
        "\n",
        "#Defining x_train and y_train\n",
        "x_train = train_data[variables]\n",
        "y_train = train_data[target_variable]"
      ],
      "metadata": {
        "id": "T1WGR3HSlKBO"
      },
      "execution_count": null,
      "outputs": []
    },
    {
      "cell_type": "markdown",
      "source": [
        "# eXtreme Gradient Boost parameters\n",
        "\n",
        "eXtreme Gradient Boost is a ML-technique with its own package of tools and functions. XGBoost is a tree-based algorithm that builds a series of decision trees to make accurate predictions, while controlling the model complexity with regularization. However, as other machine learning models, to improve the machine learning model perfomance, we need to tune the parameters of the model and get the best parameters also known as hypertunning parameters. The hypertuning parameters were conducted using an iteration method. A series of tuning values were tested and the best parameters were found after hundreds of trials.\n",
        "\n",
        "---\n",
        "\n",
        "\n",
        "- **verbose** - *int*; Enable verbose output:\n",
        "  - If 1 is specified, the program will print progress and performance information periodically (less frequently for larger trees).\n",
        "  - If a value greater than 1 is specified, the program will print progress and performance  information for every tree.\n",
        "- **n_estimators** - *int*; The number of times to repeat the process of training a model on the residuals of the previous model. A large number of iterations will result in better performance.\n",
        "- **max_depth** - *int* or *None*; The maximum number of levels in the decision tree.\n",
        "- **tree_method** - *string*; The algortihm method to use for building decision trees, which can depend on training speed and memory usage.\n",
        "\n",
        "\n",
        "> For more information visit: https://xgboost.readthedocs.io/en/stable/parameter.html\n",
        "\n",
        "---\n",
        "\n",
        "Before jumping into the machine learning configuration, there is one last processing step we need to take. Since machine learning models work best with numbers, and the formatting of the data gathered can sometimes vary, we need to convert our *x_train*, *y_train*, and *x_test* into number types using the numpy function to ensure that our algorithm runs smoothly."
      ],
      "metadata": {
        "id": "y0QsiMo7fQF7"
      }
    },
    {
      "cell_type": "code",
      "source": [
        "x_train_nu = x_train.to_numpy()\n",
        "y_train_nu = y_train.to_numpy()\n",
        "x_test_nu = x_test.to_numpy()"
      ],
      "metadata": {
        "id": "I19zxKBOg4Rm"
      },
      "execution_count": null,
      "outputs": []
    },
    {
      "cell_type": "markdown",
      "source": [
        "*Configuring the eXtreme Gradient Boost Regressor*\n",
        "\n",
        "---\n",
        "\n",
        "- The parameters that were used for XGBoost are inside the XGBRegressor function.\n",
        "\n",
        "\n",
        "- The variable *'mse'* represents the mean squared error and is obtained by using the target variable (dependent variable) and the regression prediction of the initial variables (independent variables)."
      ],
      "metadata": {
        "id": "nwoBw_GHiiw4"
      }
    },
    {
      "cell_type": "code",
      "source": [
        "model = XGBRegressor(verbosity=1, n_estimators=500, max_depth=10, tree_method='hist')\n",
        "model.fit(x_train_nu, y_train_nu)\n",
        "\n",
        "MSE = mse(y_test, model.predict(x_test_nu))\n",
        "print(\"The mean squared error (MSE) on the set: {:.4f}\".format(MSE))"
      ],
      "metadata": {
        "id": "ViGs01l0i0qW"
      },
      "execution_count": null,
      "outputs": []
    },
    {
      "cell_type": "markdown",
      "source": [
        "- By obtaining the prediction of the test model, we will prepare for the output dataframe.\n",
        "\n",
        "- Then we took the date that we saved earlier with its original format and incorporated it back to the output dataframe. The same steps were made for the index variable and ML.\n",
        "\n",
        "- Finally, we saved the output data frame as *.csv* using the name you inputted at the beginning."
      ],
      "metadata": {
        "id": "hbkcTk0FkG9S"
      }
    },
    {
      "cell_type": "code",
      "source": [
        "predictions = model.predict(x_test_nu)\n",
        "test_data['Date'] = date\n",
        "test_data['ML'] = predictions\n",
        "test_data[index_variable] = test_page\n",
        "\n",
        "## Saving the output dataframe to a CSV file\n",
        "test_data.to_csv(name + \".csv\", index=False)"
      ],
      "metadata": {
        "id": "lfS3JqZikrNO"
      },
      "execution_count": null,
      "outputs": []
    },
    {
      "cell_type": "markdown",
      "source": [
        "# SHapley Additive exPlanations (SHAP)\n",
        "\n",
        "SHAP states the output of the ML model by carrying out the contribution from each variable to the prediction. SHAP was used to evaluate independent variable sensitivity. SHAP uses a game theory-based methodology that calculates feature importance by comparing a model's predictions with and without a particular feature. For our case, we used a random sample of 1000 from the train data. We then apply SHAP to analyze those 1000 row samples and calculate the contribution of each feature for the 1000 predictions. SHAP assigns values according to the mean marginal contribution of each feature across all possible values. Using this method, you will be able to see a bar graph that illustrates the individual contribution of each feature. The graph is arranged from highest contribution to lowest contribution feature.\n",
        "\n",
        "> For more information visit: https://shap.readthedocs.io/en/latest/"
      ],
      "metadata": {
        "id": "BvWOabgpmls1"
      }
    },
    {
      "cell_type": "code",
      "source": [
        "# Generating variable importance plots\n",
        "X_sampled = x_train.sample(1000, random_state=10, replace=True)\n",
        "\n",
        "explainer = shap.Explainer(model, X_sampled)\n",
        "shap_values = explainer(X_sampled)\n",
        "number_variables = len(variables)\n",
        "shap.plots.bar(shap_values, max_display=number_variables)\n",
        "\n",
        "## Saving variable importance plot\n",
        "mean_shap = np.abs(shap_values.values).mean(axis=0)\n",
        "shap_pd = pd.DataFrame(mean_shap, index=X_sampled.columns).sort_values(by=[0], ascending=False)\n",
        "shap_pd.to_csv(name + '_SHAP.csv')"
      ],
      "metadata": {
        "id": "1kGbapw1n71z"
      },
      "execution_count": null,
      "outputs": []
    }
  ]
}