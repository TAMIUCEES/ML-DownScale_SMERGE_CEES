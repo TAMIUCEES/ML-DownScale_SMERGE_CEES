{
  "nbformat": 4,
  "nbformat_minor": 0,
  "metadata": {
    "colab": {
      "provenance": []
    },
    "kernelspec": {
      "name": "python3",
      "display_name": "Python 3"
    },
    "language_info": {
      "name": "python"
    }
  },
  "cells": [
    {
      "cell_type": "markdown",
      "source": [
        "# Introduction\n",
        "\n",
        "The Machine Learning technique used will be Random Forest (RF). Random Forest is a machine learning algorithm that generates a single prediction by collecting the output of multiple decision trees. For this notebook, we are working with Random Forest Regressor.\n",
        "\n",
        "> **Disclaimer:** *Random Forest* **only** runs in Linux."
      ],
      "metadata": {
        "id": "WX4mZNRP1HuR"
      }
    },
    {
      "cell_type": "markdown",
      "source": [
        "\n",
        "\n",
        "---\n",
        "\n",
        "Before running the code, first check if tensorflow is in the library. If it is not, install using the given code so we may proceed in using tensorflow_decision_forests in our code."
      ],
      "metadata": {
        "id": "asbw1x6Ip35Q"
      }
    },
    {
      "cell_type": "code",
      "source": [
        "!pip install tensorflow tensorflow_decision_forests"
      ],
      "metadata": {
        "id": "ihvFiT9DOEO8"
      },
      "execution_count": null,
      "outputs": []
    },
    {
      "cell_type": "markdown",
      "source": [
        "The following libraries will be imported to be able to run the code.\n",
        "\n",
        "---\n",
        "\n",
        "TensorFlow is a library most commonly used for Random Forest as it trains, runs, and interprets decision forest models such as RF.\n",
        "\n",
        "**tensorflow-python-client**\n",
        "\n",
        "---\n",
        "\n",
        "- **device_lib** - Provides access to the TensorFlow device library. The library can be used to designate which device to use for a specific operation.\n",
        "\n",
        "**tensorflow**\n",
        "\n",
        "---\n",
        "- **tensorflow**\n",
        "  > For more information visit: https://www.tensorflow.org/guide/basics\n",
        "- **tensorflow_decision_forests** - TensorFlow Decision Forests is a library for training, running, and interpreting decision forest models in TensorFlow.\n",
        "  > For more information visit: https://www.tensorflow.org/decision_forests\n",
        "\n",
        "\n",
        "**contextlib**\n",
        "\n",
        "---\n",
        "\n",
        "- **redirect_stdout** - Redirects the output of a program to a different file, which can be helpful for troubleshooting problems. redirect_stdout is helpful with debugging.\n",
        "  > For more information visit: https://docs.python.org/3/library/contextlib.html\n",
        "\n",
        "\n",
        "---\n",
        "\n",
        "Additionally, the packages of *datetime* and *subprocess*, as well as *os*, are imported.\n",
        "- **datetime** - The Python Datetime module provides classes for working with dates and times.\n",
        "  > For more information visit: https://www.geeksforgeeks.org/python-datetime-module/#\n",
        "- **subprocess** - The Python Subprocess module is used to create new processes, as well as run new code and applications.\n",
        "  > For more information visit: https://docs.python.org/3/library/subprocess.html\n",
        "- **os** - Os is used to concatenate path components with exactly one directory separator \"/\", and create one path.\n",
        "  > For more information visit: https://www.geeksforgeeks.org/python-os-path-join-method/\n",
        "\n",
        "The other packages contain Python features such as *pandas* and *numpy*. Furthermore, we included the packages of *xarray* and *seaborn* that will be imported as well.\n",
        "\n",
        " See the links below for more information on the packages:\n",
        ">  - **Pandas** - https://pandas.pydata.org/docs/user_guide/index.html\n",
        ">  - **NumPy** - https://numpy.org/doc/stable/\n",
        "\n",
        "- **xarray** - xarray is an open-source Python package that makes working with labeled multi-dimensional arrays more efficient and easier to comprehend.\n",
        "  > For more information visit: https://xarray.pydata.org/en/v0.12.3/#:~:text=xarray%20(formerly%20xray)%20is%20an,simple%2C%20efficient%2C%20and%20fun!\n",
        "- **seaborn** - Seaborn is a Python library for creating statistical graphics.\n",
        "  > For more information visit: https://seaborn.pydata.org/tutorial/introduction.html"
      ],
      "metadata": {
        "id": "DxreVfl9mFVN"
      }
    },
    {
      "cell_type": "code",
      "execution_count": null,
      "metadata": {
        "id": "btu4j4X9yy3A"
      },
      "outputs": [],
      "source": [
        "import os\n",
        "import datetime\n",
        "import subprocess\n",
        "import numpy as np\n",
        "import pandas as pd\n",
        "import xarray as xr\n",
        "import seaborn as sns\n",
        "import tensorflow as tf\n",
        "import matplotlib.pyplot as plt\n",
        "from contextlib import redirect_stdout\n",
        "import tensorflow_decision_forests as forest\n",
        "from tensorflow.python.client import device_lib"
      ]
    },
    {
      "cell_type": "markdown",
      "source": [
        "- Setting environment variables for TensorFlow configuration.\n",
        "  - *'TF_ENABLE_ONEDNN_OPTS'*, dictates whether TensorFlow will utilize Intel's oneDNN library for CPU inference. To disable oneDNN, set '*TF_ENABLE_ONEDNN_OPTS*' to '*0* '.\n",
        "  - *'CUDA_VISIBLE_DEVICES'*, can be used to specify which GPUs are visible to a CUDA application. Setting the environment variable to '*0*' would mean that the CUDA application would only see GPU '*0*'."
      ],
      "metadata": {
        "id": "u03VcHvLstMR"
      }
    },
    {
      "cell_type": "code",
      "source": [
        "os.environ['TF_ENABLE_ONEDNN_OPTS'] = '0'\n",
        "os.environ['CUDA_VISIBLE_DEVICES'] = '0'"
      ],
      "metadata": {
        "id": "ZNyt_ris1Rwb"
      },
      "execution_count": null,
      "outputs": []
    },
    {
      "cell_type": "markdown",
      "source": [
        "- Setting the display options for pandas.\n",
        "  - '*display.max_columns*' sets the maximum number of columns to display 500.\n",
        "  - '*display.width*' indicates that columns will not be truncated if they exceed 1000 characters when the DataFrame is printed."
      ],
      "metadata": {
        "id": "aYQJz1AxsuQ7"
      }
    },
    {
      "cell_type": "code",
      "source": [
        "pd.set_option('display.max_columns', 500)\n",
        "pd.set_option('display.width', 1000)"
      ],
      "metadata": {
        "id": "IuJefkXE1VCI"
      },
      "execution_count": null,
      "outputs": []
    },
    {
      "cell_type": "markdown",
      "source": [
        "- Checking for available local devices in TensorFlow, including both CPU and GPU devices. This is useful for confirming GPU usage."
      ],
      "metadata": {
        "id": "WG-5RaLT8oH7"
      }
    },
    {
      "cell_type": "code",
      "source": [
        "print(device_lib.list_local_devices())"
      ],
      "metadata": {
        "id": "fpXMBCj41pSw"
      },
      "execution_count": null,
      "outputs": []
    },
    {
      "cell_type": "markdown",
      "source": [
        "- Defining a function to plot variable importances for TensorFlow Decision Forests"
      ],
      "metadata": {
        "id": "nZCcMr6os8UJ"
      }
    },
    {
      "cell_type": "code",
      "source": [
        "def plot_tfdf_importances(inspector: forest.inspector.AbstractInspector, importance_type: str, fcn_name: str):\n",
        "    scoredate = pd.DataFrame(columns=['fcn_name', 'scores'])\n",
        "    try:\n",
        "        importances = inspector.variable_importances()[importance_type]\n",
        "    except KeyError:\n",
        "        raise ValueError(f\"Unknown importance type: {importance_type}\")\n",
        "\n",
        "    # Setting the labels for the variable importance plot\n",
        "    plt.xlabel(importance_type)\n",
        "    plt.title(\"Variable Importance\")\n",
        "    scoredate['fcn_name'] = names\n",
        "    scoredate['scores'] = scores\n",
        "\n",
        "    # Saving the variable importance data and plot\n",
        "    scoredate.to_csv(name.replace('.png', '.csv'), index=False)\n",
        "    plt.savefig(name)\n",
        "    plt.show()\n",
        "\n",
        "# Configuring the task type for the decision forest\n",
        "task = forest.keras.Task.REGRESSION"
      ],
      "metadata": {
        "id": "cGqOigjyAgRZ"
      },
      "execution_count": null,
      "outputs": []
    },
    {
      "cell_type": "markdown",
      "source": [
        "- The user will then be asked to input the name of the dataset.\n",
        "\n",
        "  An example would be:\n",
        "  > *Enter the name of the dataset:* **RF_BigRunWS**"
      ],
      "metadata": {
        "id": "Yb5oozE2tE64"
      }
    },
    {
      "cell_type": "code",
      "source": [
        "name = [input(\"Enter the name of the dataset: \")]"
      ],
      "metadata": {
        "id": "2skuLoclBPuQ"
      },
      "execution_count": null,
      "outputs": []
    },
    {
      "cell_type": "markdown",
      "source": [
        "- Paths will be constructed based on the zone and name.\n",
        "\n",
        "  An example would be:\n",
        "  > *Enter the home directory where the datasets are located:* **/mnt/e/share/BIgRun/ML-DownScale_SMERGE_CEES-main/**"
      ],
      "metadata": {
        "id": "doLw2nBmtSzn"
      }
    },
    {
      "cell_type": "code",
      "source": [
        "home_directory = input(\"Enter the home directory where the datasets are located: \")"
      ],
      "metadata": {
        "id": "o03C0yV8tP5c"
      },
      "execution_count": null,
      "outputs": []
    },
    {
      "cell_type": "markdown",
      "source": [
        "- Input the name of the testing dataset, this will be used to construct the full path.\n",
        "\n",
        "  An example would be:\n",
        "  > *Enter the name of the testing dataset:* **BigRunWS_500_inst.csv**"
      ],
      "metadata": {
        "id": "SWv_2FMBuELr"
      }
    },
    {
      "cell_type": "markdown",
      "source": [
        "- While the code is running it will also be checking if the testing file exists. If the file does not exist, then the code will prompt the user until a valid file is provided."
      ],
      "metadata": {
        "id": "aC_GqkXXuwGe"
      }
    },
    {
      "cell_type": "code",
      "source": [
        "test_dataset_name = input(\"Enter the name of the testing dataset (including file extensions): \")\n",
        "\n",
        "test_file = os.path.join(home_directory, test_dataset_name)\n",
        "\n",
        "while not os.path.exists(test_file):\n",
        "  print(\"The specified testing file does not exist. Please enter the correct dataset name.\")\n",
        "  test_dataset_name = input(\"Enter the name of the testing dataset (including file extension): \")\n",
        "  test_file = os.path.join(home_directory, test_dataset_name)"
      ],
      "metadata": {
        "id": "SB1diadpGN4v"
      },
      "execution_count": null,
      "outputs": []
    },
    {
      "cell_type": "markdown",
      "source": [
        "- Input the name of the training dataset, this will be used to construct the full path.\n",
        "\n",
        "  An example would be:\n",
        "  > *Enter the name of the training dataset:* **BigRunWS_500_train_4.csv**"
      ],
      "metadata": {
        "id": "X4ZUC4V32Mvf"
      }
    },
    {
      "cell_type": "markdown",
      "source": [
        "- While the code is running it will also be checking if the training file exists. If the file does not exist, then the code will prompt the user until a valid file is provided."
      ],
      "metadata": {
        "id": "eUwPv1Ao5MQm"
      }
    },
    {
      "cell_type": "code",
      "source": [
        "train_dataset_name =  input(\"Enter the name of the training dataset (including file extension): \")\n",
        "\n",
        "train_file = os.path.join(home_directory, train_dataset_name)\n",
        "\n",
        "while not os.path.exists(train_file):\n",
        "  print(\"The specified training file does not exist. Please enter the correct dataset name.\")\n",
        "  train_dataset_name = input(\"Enter the name of the training dataset (including file extension): \")\n",
        "  train_file = os.path.join(home_directory, train_dataset_name)"
      ],
      "metadata": {
        "id": "NqcWhEgj3jkY"
      },
      "execution_count": null,
      "outputs": []
    },
    {
      "cell_type": "markdown",
      "source": [
        "# Variables\n",
        "- Prior to exporting testing and training data, it is necessary to create and upload a text file list (comma-separated values) containing the names of all the variables (including the target variable). The text file must be saved in the same training and testing files folder.\n",
        "  - Given that the variable names can vary depending on the user's data, creating a separate file with the variable names is more convenient than adjusting them to the code.\n",
        "\n",
        "- An example of the list of variables would be:\n",
        "\n",
        "  > *Enter the name of the variables list (make sure the file is in the text file format):*  *vars.txt*"
      ],
      "metadata": {
        "id": "LzfkHtNF_qGL"
      }
    },
    {
      "cell_type": "code",
      "source": [
        "variables_list_name = input(\"Enter the name of the variables list (make sure the file is in the text file format): \")\n",
        "variables_file = os.path.join(home_directory, variables_list_name)\n",
        "\n",
        "while not os.path.exists(variables_file):\n",
        "  variables_list_name = input(\"The variable list txt was not found, it should be in the home directory. Try again.\")\n",
        "  variables_file = os.path.join(home_directory, variables_list_name)\n",
        "\n",
        "text_file = open(variables_file, \"r\")\n",
        "variables = text_file.read().split(',')"
      ],
      "metadata": {
        "id": "4DzDJKwWFf40"
      },
      "execution_count": null,
      "outputs": []
    },
    {
      "cell_type": "markdown",
      "source": [
        "# Testing Data\n",
        "\n",
        "- First, *test = pd.read_cv(test_file):* will creat a variable called *test_data* to read our testing data. Essentially, it reads the testing dataset from the specified file path into a panadas Dataframe.\n",
        "  > - **Print(variables):** Will print the list of *variables* that were read from the variables list file.\n",
        "- Subsequently, using *variables* from the previous section the user will save all of the data into *test_data*. Selecting only the columns listed in the *variables* list from the test_data dataframe effectively filters the dataset.\n",
        "- Lastly,  *print(test_data.columns):* will print the names of the columns present in the filtered *test_data* DataFrame, confirming the selection of desired variables.\n"
      ],
      "metadata": {
        "id": "OxCMh9Ra7Cyh"
      }
    },
    {
      "cell_type": "code",
      "source": [
        "test_data = pd.read_csv(test_file)\n",
        "print(variables)\n",
        "test_data = test_data[variables]\n",
        "print(test_data.columns)"
      ],
      "metadata": {
        "id": "0IWzFqeVIYw-"
      },
      "execution_count": null,
      "outputs": []
    },
    {
      "cell_type": "markdown",
      "source": [
        "> **Warning:** Before separating the predictor variables from the target variable, we created a filter to make sure the data saved will be compatible with Random Forest. This machine learning module is created to deal with  numerical values.\n",
        "\n",
        "- The following code will remove all the *object type* column variables from the testing set, create new variables that will hold those columns, and eventually create a list of all of the columns that will be removed.\n",
        "  - **Object type** columns variables refer to the columns that contain a combination of strings, letters, and numbers. Random Forest is compatible with numeric values.\n",
        "\n",
        "- As a result, before applying the testing set to the Random Forest model, the user must eliminate those columns.\n",
        "\n",
        "- However, if the user wants to keep that variable as part of the list of variables for the model, the user has to make sure to format that column beforehand for both testing and training sets.\n",
        "\n",
        "- In our case, the user has dealt with a variable called *PageName*.\n",
        "  - **PageName** - This variable holds string values and can not be used in the given model. However, the variable holds the position grids of the data by coordinates with letters and numbers such as C3.\n",
        "\n",
        "- Although **PageName** was not part of the Random Forest model predictions, it was saved in a variable separately so that it could be added back into the final prediction output. The variable will be called *index variable*.\n",
        "If this is the case for the user, the user might  want to save their data to place back into the output.\n",
        "-The user will be able to use the variables that this section will create. Otherwise, if the user is just planning to remove them, the user can just run this section and move on to the next one.\n"
      ],
      "metadata": {
        "id": "O-CH2NTAa8JK"
      }
    },
    {
      "cell_type": "code",
      "source": [
        "def process_object_columns(dataframe, dex):\n",
        "  def get_object_columns(df):\n",
        "    return list(df.select_dtypes(include=['object']).columns)\n",
        "\n",
        "  # Function to get object type columns\n",
        "  object_columns = get_object_columns(dataframe)\n",
        "\n",
        "\n",
        "  if dex in object_columns:\n",
        "    object_columns.remove(dex)\n",
        "\n",
        "  print(\"Object type columns:\", object_columns)\n",
        "  # Removing columns with 'object' dtype\n",
        "  df_without_objects = dataframe.drop(object_columns, axis=1)\n",
        "\n",
        "  # Creating separate variables for object type columns with their respective names\n",
        "  for col in object_columns:\n",
        "    globals()[f\"{col}\"] = dataframe[col]\n",
        "\n",
        "  # Printing separate variables\n",
        "  for col in object_columns:\n",
        "    print(f\"{col}:\")\n",
        "    print(globals()[f\"{col}\"])\n",
        "\n",
        "  # Returning the original DataFrame without object type columns\n",
        "  return df_without_objects"
      ],
      "metadata": {
        "id": "CyvFm1Wme1Xx"
      },
      "execution_count": null,
      "outputs": []
    },
    {
      "cell_type": "markdown",
      "source": [
        "- Input the name of the index variable, which will be integrated into the output dataframe.\n",
        " -  Enter the index variable from the list of variables: **PageName**"
      ],
      "metadata": {
        "id": "B1lI0ktWflwd"
      }
    },
    {
      "cell_type": "code",
      "source": [
        "index_variable = input(\"Enter the index variable from the list of variables: \")"
      ],
      "metadata": {
        "id": "hz4PaZCQWVaX"
      },
      "execution_count": null,
      "outputs": []
    },
    {
      "cell_type": "code",
      "source": [
        "test_data = process_object_columns(test_data, index_variable)"
      ],
      "metadata": {
        "id": "YoMBvK1OsjlS"
      },
      "execution_count": null,
      "outputs": []
    },
    {
      "cell_type": "markdown",
      "source": [
        "- After removing the object type columns, this is how the new test data looks like:"
      ],
      "metadata": {
        "id": "RulvEwcjyNlm"
      }
    },
    {
      "cell_type": "code",
      "source": [
        "test_data = process_object_columns(test_data)\n",
        "test_data.drop(columns=[index_variable], inplace=True)"
      ],
      "metadata": {
        "id": "XIbZ1xVYxt1Y"
      },
      "execution_count": null,
      "outputs": []
    },
    {
      "cell_type": "code",
      "source": [
        "print(test_data)"
      ],
      "metadata": {
        "id": "d3mgADRbyZWo"
      },
      "execution_count": null,
      "outputs": []
    },
    {
      "cell_type": "markdown",
      "source": [
        "- The next step is to create a variable that holds the date column.\n",
        "  - Since the *date* column is a component of the predictor variables, the user must format its numerical values to a value that Random Forest can interpret as a date, rather than just a number.\n",
        "     - However, before formatting the *date* column the user can then create this **date** variable to preserve its original format and then insert it back into the output frame.\n",
        "  - The date format that can be taken can be found in the **Date Formatting** section."
      ],
      "metadata": {
        "id": "EDVfKtHR9HKc"
      }
    },
    {
      "cell_type": "code",
      "source": [
        "date = pd.read_csv(test_file, usecols=['Date'])"
      ],
      "metadata": {
        "id": "MI55cXmCjtiF"
      },
      "execution_count": null,
      "outputs": []
    },
    {
      "cell_type": "markdown",
      "source": [
        "# Date Formatting\n",
        "\n",
        "- For regression models, it is important to follow the required formatting to make sure to have a high performance. This section will change the date format to a *to_datetime* format which works better with machine learning regression models. Therefore, there will be a date formatting for both testing and training sets.\n",
        "> **Note:** This section only allows three types of date formats: \"%m/%d/%Y\", \"%Y/%m/%d\", and \"%Y/%j\". If the user is using another type of format make sure to change it to one of those formats beforehand.\n",
        "\n",
        ">"
      ],
      "metadata": {
        "id": "t8FBB93cCv0H"
      }
    },
    {
      "cell_type": "code",
      "source": [
        "def date_formatting(dataframe2):\n",
        "  # Processing 'Date' column for testing\n",
        "  date_format = input('If file use \"%m/%d/%Y\" type: A, if \"%Y/%m/%d\" type: B, else \"%Y/%j\" type: C: ')\n",
        "  # date_column = dataframe2[column_name]\n",
        "  while date_format != 'A' and date_format != 'B' and date_format != 'C':\n",
        "    date_format = input('Input ERROR. If file use \"%m/%d/%Y\" type: A, if \"%Y/%m/%d\" type: B, else if \"%Y/%j\" type: C: ')\n",
        "\n",
        "  if date_format == 'A':\n",
        "    # date_format = '%m%d%Y\n",
        "    dataframe2['Date'] = pd.to_datetime(date['Date'], format=\"%m/%d/%Y\")\n",
        "    dataframe2['Date'] = dataframe2['Date'].astype(int)\n",
        "\n",
        "  if  date_format == 'B':\n",
        "    # date_format = '%Y/%m/%d'\n",
        "    dataframe2['Date'] = pd.to_datetime(date['Date'], format=\"%Y/%m/%d\")\n",
        "    dataframe2['Date'] = dataframe2['Date'].astype(int)\n",
        "\n",
        "  if date_format == 'C':\n",
        "    # date_format = '%Y%j'\n",
        "    dataframe2['Date'] = pd.to_datetime(date['Date'], format=\"%Y/%j\")\n",
        "    dataframe2['Date'] = dataframe2['Date'].astype(int)\n",
        "\n",
        "  #else:\n",
        "      #print(\"Data format not recognized. Make sure your data is formatted as \"%m%d%Y\", \"%Y%m%d\", or \"%Y%j\")\n",
        "    # date_format = 0\n",
        "  return dataframe2"
      ],
      "metadata": {
        "id": "RcAdIMEgDISa"
      },
      "execution_count": null,
      "outputs": []
    },
    {
      "cell_type": "code",
      "source": [
        "test_data = date_formatting(test_data)"
      ],
      "metadata": {
        "id": "Zr5cO2c-eu7w"
      },
      "execution_count": null,
      "outputs": []
    },
    {
      "cell_type": "markdown",
      "source": [
        "- Lastly, to get the testing data ready, the user will need to separate the predictor variables from the target variable."
      ],
      "metadata": {
        "id": "jdjf5H_FmxIl"
      }
    },
    {
      "cell_type": "code",
      "source": [
        "# Separating target variable (dependent) from the initial variables (independent).\n",
        "target_variable = input(\"Write the name of the target variable to extract it from the list of variables: \")\n",
        "variables = test_data.columns.tolist()\n",
        "\n",
        "while target_variable in variables:\n",
        "  variables.remove(target_variable)\n",
        "\n",
        "y_test = test_data[target_variable]\n",
        "x_test = test_data[variables]"
      ],
      "metadata": {
        "id": "ypTheAlUtmB-"
      },
      "execution_count": null,
      "outputs": []
    },
    {
      "cell_type": "markdown",
      "source": [
        "# Training Data\n",
        "\n",
        "- First, the user will create a variable called *train_data* to read the training data. Then, using the *variables* from the previous section, the user will save all of the data into *train_data*. The training data will be used to create our model and make it able to create predictions.\n",
        "  > **Note:** Since the user will have already removed the object type columns in a previous section the user will use *variables* from the **Variables** section to retrieve just the numerical columns values and define **x_train**. Additionally, the user will use **target_variable** from testing data to also define **y_train** in the training data."
      ],
      "metadata": {
        "id": "lVUtAmg5tBFB"
      }
    },
    {
      "cell_type": "code",
      "source": [
        "train_data = pd.read_csv(train_file)"
      ],
      "metadata": {
        "id": "oRKUO_ArIUk-"
      },
      "execution_count": null,
      "outputs": []
    },
    {
      "cell_type": "markdown",
      "source": [
        "- Prior to defining the predictor variables (**x_train**) and target variable (**y_train**) for training, the user must also format the date for the training data.\n",
        "  - To do this, the user will have to use the same function that was previously used in the **Date Formatting** section."
      ],
      "metadata": {
        "id": "Zy18tXCmhBLU"
      }
    },
    {
      "cell_type": "code",
      "source": [
        "train_data.columns"
      ],
      "metadata": {
        "id": "JImTY4h4u0Av"
      },
      "execution_count": null,
      "outputs": []
    },
    {
      "cell_type": "code",
      "source": [
        "print(variables)\n",
        "print(target_variable)"
      ],
      "metadata": {
        "id": "Va9WV3dlu3gJ"
      },
      "execution_count": null,
      "outputs": []
    },
    {
      "cell_type": "code",
      "source": [
        "train_data = date_formatting(train_data)\n",
        "\n",
        "# Defining x_train and y_train\n",
        "all_variables = variables + [target_variable]\n",
        "x_train = train_data[all_variables]\n",
        "#y_train = train_data[target_variable]"
      ],
      "metadata": {
        "id": "YttoPq2Dh9hl"
      },
      "execution_count": null,
      "outputs": []
    },
    {
      "cell_type": "markdown",
      "source": [
        "*Confirming for the model training*\n",
        "\n",
        "\n",
        "---\n",
        "\n",
        " >- The *forest.tuner.RandomSearch* class is used to tune the hyperparameters of a random forest model. It operates by randomly sampling hyperparameter values from a specified distribution, and then evaluating the model's performance on a validation set for each sample.\n",
        "\n",
        ">- Two arguments are taken by the RandomSearch class:\n",
        "  - **num_trials** - The number of random hyperparameter values to be evaluated.\n",
        "    - 'k': number of trials in random search, and is multiplied to obtain the number of trials or *num_trials*.\n",
        "  - **use_predefined_hps** - If *True*, automatically configures the hyperparameter space.\n",
        "\n",
        ">- For more information visit: https://www.tensorflow.org/decision_forests/api_docs/python/tfdf/tuner/RandomSearch\n",
        "\n",
        "\n"
      ],
      "metadata": {
        "id": "hOjt64j6rGRQ"
      }
    },
    {
      "cell_type": "markdown",
      "source": [
        "> **Note:**\n",
        "Depending on the size and variance of the dataset, it may be necessary to increase the number of trials in random search. If the rows in the dataset are similar in range, then there is no need to change the number of trials. However, if the rows in the dataset are not similar in range, then it may be necessary to increase the number of trials."
      ],
      "metadata": {
        "id": "_PNq9jzW7Ig3"
      }
    },
    {
      "cell_type": "code",
      "source": [
        "t = 1000\n",
        "k = 3\n",
        "\n",
        "tuner = forest.tuner.RandomSearch(num_trials=9 * 10, use_predefined_hps=True)\n",
        "model_img_file = str(name) + \"model.png\"\n",
        "n = test_data.shape[0]\n",
        "\n",
        "## Initializing output array\n",
        "out = np.empty(shape=(0, 1))\n",
        "\n",
        "## Creating an empty DataFrame with specific columns\n",
        "x = pd.DataFrame(columns = test_data.columns)"
      ],
      "metadata": {
        "id": "YGg7yKiEIeXT"
      },
      "execution_count": null,
      "outputs": []
    },
    {
      "cell_type": "code",
      "source": [
        "print(test_data.columns)"
      ],
      "metadata": {
        "id": "m1D1DKAzHBFX"
      },
      "execution_count": null,
      "outputs": []
    },
    {
      "cell_type": "markdown",
      "source": [
        "# Random Forest\n",
        "\n",
        "Random Forest is a machine learning algorithm that aggregates the output of multiple decision trees to generate a single prediction. It is a versatile algorithm that can be used for both classification and regression problems. The benefits of Random Forest include its ability to reduce overfitting by accommodating the samples in the training data, and its flexibility in handling either classification or regression problems with high accuracy. Although Random Forest can be more complex than other ML algorithms, it provides more accurate predictions.\n",
        "For this project,\n",
        "\n",
        "The Random Forest attributes for the model are listed as follows:\n",
        "\n",
        "---\n",
        "\n",
        "- **verbose** - Enable verbose output\n",
        "  - 0 = Silent\n",
        "  - 1 = Small details\n",
        "  - 2 = Full details\n",
        "- **tuner** - If enabled, the tuner will automatically optimize the hyperparameters of the model.\n",
        "- **num_trees** - The number of individual decision trees in a model can be increased to improve its accuracy, but this comes at the cost of increased model size, training speed, and inference latency.\n",
        "- **allow_na_conditions** - If *true*, the tree training will evaluate conditions of the type \"X is NA\".\n",
        "- **task** - This is used to define the kind of machine learning task that the model will be used to perform.\n",
        "  - e.g. *classification, regression,* or *categorical_uplift*\n",
        "- **winner_take_all** - Controls how classification trees vote.\n",
        "  - If *true*, each tree will vote for a single class.\n",
        "  - If *false*, each tree will vote for a distribution of classes.\n",
        "- **categorical_algorithm** - There are a few ways to learn splits on categorical attributes.\n",
        "  - ***CART*** - CART algorithm. The solution is precise for binary classification, regression, and ranking. It is approximated for multi-class classification.\n",
        "  - ***ONE_HOT*** - One-hot encoding. This method is similar to converting each possible categorical value into a boolean feature, but it is more efficient. This method can be used for comparison purposes.\n",
        "  - ***RANDOM*** - The best splits among a set of random candidates are chosen. The solution can be seen as an approximation of the CART algorithm.\n",
        "- **honest** - In honest trees, different training examples are used to determine the tree's structure and leaf values. This regularization technique sacrifices examples in exchange for more accurate bias estimates.\n",
        "- **honest_fixed_separation** - For honest trees only.\n",
        "  - If *true*, a new random separation is generated for each tree.\n",
        "  - If *false*, the same separation is used for all the trees.\n",
        "- **honest_ratio_leaf_examples** - For honest trees only. A ratio of examples is used to determine the leaf values.\n",
        "- **bootstrap_size_ratio** - The number of examples used to train each tree, expressed as a fraction of the size of the training dataset.\n",
        "- **adapt_bootstrap_size_ratio_for_maximum_training_duration** - Determine how the maximum training time is applied.\n",
        "  - If *true*, adjust the size of the sampled dataset used to train each tree so that num_trees will train within maximum_training_duration.\n",
        "  - If *false*, the training will cease when the time limit is reached.\n",
        "- **keep_non_leaf_label_distribution** - Controls whether to keep the value of nodes that are not leaves in a tree model. This information is not used when the model is serving predictions, but it can be used for model interpretation and hyperparameter tuning.\n",
        "- **max_depth** - Maximum depth of the tree.\n",
        "\n",
        ">For more information visit: https://www.tensorflow.org/decision_forests/api_docs/python/tfdf/keras/RandomForestModel\n",
        "\n",
        "*Configuring the Random Forest model*\n",
        "\n",
        "---\n",
        "\n",
        "\n",
        "\n",
        "The parameters that were used for Random Forest are inside the RandomForestModel function."
      ],
      "metadata": {
        "id": "obqYJqOKtPEB"
      }
    },
    {
      "cell_type": "code",
      "source": [
        "# Configuring the random forest model\n",
        "model = forest.keras.RandomForestModel(\n",
        "        verbose=1,\n",
        "        tuner=tuner,\n",
        "        num_trees=1100,\n",
        "        allow_na_conditions=True,\n",
        "        task=task,\n",
        "        winner_take_all=True,\n",
        "        categorical_algorithm='CART',\n",
        "        honest=True,\n",
        "        honest_fixed_separation=True,\n",
        "        honest_ratio_leaf_examples=0.75,\n",
        "        bootstrap_size_ratio=1.05,\n",
        "        adapt_bootstrap_size_ratio_for_maximum_training_duration=True,\n",
        "        keep_non_leaf_label_distribution=False,\n",
        "        max_depth=9)"
      ],
      "metadata": {
        "id": "xn6SsEZtKC_I"
      },
      "execution_count": null,
      "outputs": []
    },
    {
      "cell_type": "code",
      "source": [
        "# Creating a TensorFlow dataset for training\n",
        "train_ds = forest.keras.pd_dataframe_to_tf_dataset(x_train.dropna(), label= target_variable, task=task)\n",
        "\n",
        "# Compiling and training the model\n",
        "model.compile(metrics=[\"mae\"])\n",
        "model.fit(train_ds)"
      ],
      "metadata": {
        "id": "CYyW101tw64H"
      },
      "execution_count": null,
      "outputs": []
    },
    {
      "cell_type": "code",
      "source": [
        "print(x_train[x_train.isna().any(axis=1)])"
      ],
      "metadata": {
        "id": "4yO0q_MowkpD"
      },
      "execution_count": null,
      "outputs": []
    },
    {
      "cell_type": "code",
      "source": [
        "# Creating a TensorFlow dataset for testing\n",
        "test_ds = forest.keras.pd_dataframe_to_tf_dataset(test_data.drop(target_variable), task=task)\n",
        "\n",
        "# Extracting relevant data for output processing\n",
        "out_data = test_data"
      ],
      "metadata": {
        "id": "m32wl5MRyJ45"
      },
      "execution_count": null,
      "outputs": []
    },
    {
      "cell_type": "markdown",
      "source": [
        "- Obtaining the prediction with the trained model."
      ],
      "metadata": {
        "id": "2ao6KPJgKvv1"
      }
    },
    {
      "cell_type": "code",
      "source": [
        "pred = model.predict(test_ds, verbose=1)\n",
        "out = np.vstack([out, pred])\n",
        "x = pd.concat([x, out_data])"
      ],
      "metadata": {
        "id": "voMnbtG5VLfZ"
      },
      "execution_count": null,
      "outputs": []
    },
    {
      "cell_type": "markdown",
      "source": [
        "- Generating a model summary to be written to a text file."
      ],
      "metadata": {
        "id": "cx8kJ-YWMxuK"
      }
    },
    {
      "cell_type": "code",
      "source": [
        "with open(name + \"sum_model.txt\", \"w\") as txt_file:\n",
        "  with redirect_stdout(txt_file):\n",
        "    model.summary()"
      ],
      "metadata": {
        "id": "R9vTp4xgWkmc"
      },
      "execution_count": null,
      "outputs": []
    },
    {
      "cell_type": "markdown",
      "source": [
        "- The resulting plot of the model will be saved in an HTML file."
      ],
      "metadata": {
        "id": "OcIIT6r9PwoW"
      }
    },
    {
      "cell_type": "code",
      "source": [
        "with open(name + \"model.html\", \"w\") as html_file:\n",
        "  html_file.write(forest.model_plotter.plot_model(model, tree_idx=0, max_depth=10))"
      ],
      "metadata": {
        "id": "lX8oMx4UXd8x"
      },
      "execution_count": null,
      "outputs": []
    },
    {
      "cell_type": "markdown",
      "source": [
        "- The states of all layers of the model will be reset, if there is any."
      ],
      "metadata": {
        "id": "IqUNQ2DvRzGY"
      }
    },
    {
      "cell_type": "code",
      "source": [
        "model.reset_states()"
      ],
      "metadata": {
        "id": "YMfCHhXOYq0T"
      },
      "execution_count": null,
      "outputs": []
    },
    {
      "cell_type": "markdown",
      "source": [
        "- To conclude, The user will prepare the output data frame, which will then be saved to a CSV file."
      ],
      "metadata": {
        "id": "SVoFEGWMUC3Q"
      }
    },
    {
      "cell_type": "code",
      "source": [
        "x['ML_'] = out\n",
        "df_out = pd.DataFrame(pred, columns=['ML_'])\n",
        "x['NDVI'] = ndvi\n",
        "x['Date'] = dates\n",
        "x[index_variable] = test_page\n",
        "\n",
        "x.to_csv(name + \".csv\", index=False)"
      ],
      "metadata": {
        "id": "zbE_8S3bYxxf"
      },
      "execution_count": null,
      "outputs": []
    },
    {
      "cell_type": "markdown",
      "source": [
        "# Inverse Mean Minimum Depth (IMMD)\n",
        "\n",
        " The variable '*inspector*' is used to inspect the performance or features of the model.\n",
        " >- The **TensorFlow** framework uses functions such as inverse-mean-minimum-depth *(IMMD)* and number of nodes *(num_nodes)* to help understand how features are contributing to the model’s predictions.\n",
        "> - **IMMD** is used to calculate Random Forest sensitivity. The number of nodes controls the size and complexity of the trees in the forest. The greater the value, the more complex the trees, but it also results in higher accuracy.\n",
        "   - Both the **IMMD** and the number of nodes will be plotted and saved under two separate **'.png'** files."
      ],
      "metadata": {
        "id": "mk9iKudAE3EG"
      }
    },
    {
      "cell_type": "code",
      "source": [
        "## Generating variable importance plots\n",
        "inspector = model.make_inspector()\n",
        "plot_tfdf_importances(inspector=inspector, importance_type='INV_MEAN_MIN_DEPTH',  fcn_name= str(name) + \"_IMMD.png\")\n",
        "plot_tfdf_importances(inspector=inspector, importance_type='NUM_NODES', fcn_name= str(name) + \"_NumNodes.png\")"
      ],
      "metadata": {
        "id": "edhEkh1xaUIa"
      },
      "execution_count": null,
      "outputs": []
    },
    {
      "cell_type": "markdown",
      "source": [
        "The user will be prompted with this function. **del model** will remove the *model* object from memory, freeing up resources.\n",
        "\n",
        ">Note:\n",
        " - Make sure you have a variable name *model* defined before running the code."
      ],
      "metadata": {
        "id": "bj581-lLxgmU"
      }
    },
    {
      "cell_type": "code",
      "source": [
        "#deleting any existing model\n",
        "del model"
      ],
      "metadata": {
        "id": "uny-3JfRxY2_"
      },
      "execution_count": null,
      "outputs": []
    }
  ]
}
