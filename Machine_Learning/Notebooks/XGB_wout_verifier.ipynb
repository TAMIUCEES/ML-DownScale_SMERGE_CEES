{
  "cells": [
    {
      "cell_type": "markdown",
      "metadata": {
        "id": "KkD0XrwZZ0k5"
      },
      "source": [
        "# Introduction\n",
        "\n",
        "The Machine Learning technique used will be Gradient Boosting, specifically Gradient Boosting without a verifier. Gradient Boosting Regressor is a machine learning algorithm that uses a series of decision trees to make predictions. Each tree is trained to correct the errors of the previous trees, which results in a more accurate overall prediction.\n",
        "\n",
        "\n",
        "---\n",
        "\n",
        "Before running the code, first check if SHAP is already in library. If it is not, install using given code, the same applies to *os*. SHAP is an interpretability tool that will help us to see the contribution of each feature towards machine learning predictions."
      ]
    },
    {
      "cell_type": "code",
      "execution_count": null,
      "metadata": {
        "id": "UulX3R6GZytk",
        "outputId": "8e2059a8-5ca5-42ea-b513-9dafc274da81"
      },
      "outputs": [
        {
          "name": "stdout",
          "output_type": "stream",
          "text": [
            "Requirement already satisfied: shap in /home/asanchez/miniconda3/lib/python3.11/site-packages (0.42.1)\n",
            "Requirement already satisfied: numpy in /home/asanchez/miniconda3/lib/python3.11/site-packages (from shap) (1.23.5)\n",
            "Requirement already satisfied: scipy in /home/asanchez/miniconda3/lib/python3.11/site-packages (from shap) (1.11.4)\n",
            "Requirement already satisfied: scikit-learn in /home/asanchez/miniconda3/lib/python3.11/site-packages (from shap) (1.3.0)\n",
            "Requirement already satisfied: pandas in /home/asanchez/miniconda3/lib/python3.11/site-packages (from shap) (2.1.4)\n",
            "Requirement already satisfied: tqdm>=4.27.0 in /home/asanchez/miniconda3/lib/python3.11/site-packages (from shap) (4.64.1)\n",
            "Requirement already satisfied: packaging>20.9 in /home/asanchez/miniconda3/lib/python3.11/site-packages (from shap) (23.0)\n",
            "Requirement already satisfied: slicer==0.0.7 in /home/asanchez/miniconda3/lib/python3.11/site-packages (from shap) (0.0.7)\n",
            "Requirement already satisfied: numba in /home/asanchez/miniconda3/lib/python3.11/site-packages (from shap) (0.59.0)\n",
            "Requirement already satisfied: cloudpickle in /home/asanchez/miniconda3/lib/python3.11/site-packages (from shap) (2.2.1)\n",
            "Requirement already satisfied: llvmlite<0.43,>=0.42.0dev0 in /home/asanchez/miniconda3/lib/python3.11/site-packages (from numba->shap) (0.42.0)\n",
            "Requirement already satisfied: python-dateutil>=2.8.2 in /home/asanchez/miniconda3/lib/python3.11/site-packages (from pandas->shap) (2.8.2)\n",
            "Requirement already satisfied: pytz>=2020.1 in /home/asanchez/miniconda3/lib/python3.11/site-packages (from pandas->shap) (2023.3.post1)\n",
            "Requirement already satisfied: tzdata>=2022.1 in /home/asanchez/miniconda3/lib/python3.11/site-packages (from pandas->shap) (2023.3)\n",
            "Requirement already satisfied: joblib>=1.1.1 in /home/asanchez/miniconda3/lib/python3.11/site-packages (from scikit-learn->shap) (1.2.0)\n",
            "Requirement already satisfied: threadpoolctl>=2.0.0 in /home/asanchez/miniconda3/lib/python3.11/site-packages (from scikit-learn->shap) (2.2.0)\n",
            "Requirement already satisfied: six>=1.5 in /home/asanchez/miniconda3/lib/python3.11/site-packages (from python-dateutil>=2.8.2->pandas->shap) (1.16.0)\n",
            "Note: you may need to restart the kernel to use updated packages.\n"
          ]
        }
      ],
      "source": [
        "pip install shap"
      ]
    },
    {
      "cell_type": "code",
      "execution_count": null,
      "metadata": {
        "id": "mOYXaOuACw6y",
        "outputId": "42ca3f8d-901d-4bbc-fdf7-d8d186f23fae"
      },
      "outputs": [
        {
          "name": "stdout",
          "output_type": "stream",
          "text": [
            "\u001b[31mERROR: Could not find a version that satisfies the requirement os (from versions: none)\u001b[0m\u001b[31m\n",
            "\u001b[0m\u001b[31mERROR: No matching distribution found for os\u001b[0m\u001b[31m\n",
            "\u001b[0mNote: you may need to restart the kernel to use updated packages.\n"
          ]
        }
      ],
      "source": [
        "pip install os"
      ]
    },
    {
      "cell_type": "markdown",
      "metadata": {
        "id": "XYCA2ilZC0Fe"
      },
      "source": [
        "The following libraries will be imported to be able to run the code.\n",
        "\n",
        "Since we are working with Gradient Boost, most of the libraries used are from \"sklearn package\", which includes:\n",
        "\n",
        "**sklearn-metrics**\n",
        "\n",
        "\n",
        "---\n",
        "\n",
        "\n",
        "- **accuracy_score** - The function calculates the accuracy of a subset.\n",
        "> For more information visit: https://scikit-learn.org/stable/modules/generated/sklearn.metrics.accuracy_score.html\n",
        "\n",
        "- **r2_score** - Used to measure how well a linear regression model fits the data.\n",
        "> For more information visit: https://scikit-learn.org/stable/modules/generated/sklearn.metrics.r2_score.html\n",
        "\n",
        "- **mean_squared_error** - Evaluates the closeness between the regression line and the set of data points. A lower MSE indicates that the regression line is a better fit for the data.\n",
        "> For more information visit: https://scikit-learn.org/stable/modules/generated/sklearn.metrics.mean_squared_error.html\n",
        "\n",
        "\n",
        "**sklearn**\n",
        "\n",
        "---\n",
        "\n",
        "\n",
        "\n",
        "- **dataset** - Embeds some datasets, they can be small refers as toy datasets or large as real-world datasets so the user can apply it to its machine learning algorithm.\n",
        "> For more information visit: https://scikit-learn.org/stable/datasets.html\n",
        "- **ensemble** - Allows for the optimization of arbitrary differentiable loss function of the machine learning model.\n",
        "> For more information visit: https://scikit-learn.org/stable/modules/generated/sklearn.ensemble.GradientBoostingRegressor.html#sklearn.ensemble.GradientBoostingRegressor\n",
        "\n",
        "\n",
        "---\n",
        "\n",
        "Additionally we have SHAP and os, as explained before, SHAP is an interpretabilty tool which helps to evaluate the contribution of each feature towards predictions. Os is particularly used to concatenate path components with exactly one directory separator \"/\", and create one path.\n",
        "  \n",
        "> See the links below for more information in the packages:\n",
        "- **SHAP** - https://shap.readthedocs.io/en/latest/\n",
        "- **os** - https://www.geeksforgeeks.org/python-os-path-join-method/\n",
        "\n",
        "The other packages contain python features such as 'pandas' and 'numpy', which helps obtain the mean and standard deviation.\n",
        "\n",
        "> See the links below to more information in the packages:\n",
        "- **Pandas** - https://pandas.pydata.org/docs/user_guide/index.html\n",
        "- **Numpy** - https://numpy.org/doc/stable/"
      ]
    },
    {
      "cell_type": "code",
      "execution_count": null,
      "metadata": {
        "id": "cPWjhXpXEh5m"
      },
      "outputs": [],
      "source": [
        "from xgboost import XGBRegressor\n",
        "import os\n",
        "import pandas as pd\n",
        "import numpy as np\n",
        "import shap\n",
        "from sklearn.metrics import r2_score\n",
        "from sklearn.metrics import mean_squared_error as mse"
      ]
    },
    {
      "cell_type": "markdown",
      "metadata": {
        "id": "NLdH4kk6FHdI"
      },
      "source": [
        "- The user will then be asked to input the name of the dataset.\n",
        "\n",
        " An example would be:\n",
        " > *Enter the name of the dataset:* **ARM**"
      ]
    },
    {
      "cell_type": "code",
      "execution_count": null,
      "metadata": {
        "id": "64po8ZOmFdUP",
        "outputId": "297f8319-b6fe-4847-87ad-0fb352944bd6"
      },
      "outputs": [
        {
          "name": "stdin",
          "output_type": "stream",
          "text": [
            "Enter the name of the dataset:  XGB_BigRunWS\n"
          ]
        }
      ],
      "source": [
        "name = input(\"Enter the name of the dataset: \")"
      ]
    },
    {
      "cell_type": "markdown",
      "metadata": {
        "id": "q70NZytbFljg"
      },
      "source": [
        "- Paths will be constructed based on the zone and name.\n",
        "\n",
        " An example would be:\n",
        "> *Enter the home directory where the datasets are located:* **/content/ARM_1/**"
      ]
    },
    {
      "cell_type": "code",
      "execution_count": null,
      "metadata": {
        "id": "WJEPUSiOG_z7",
        "outputId": "9f00045a-db1c-4917-98c4-dd210e45dfeb"
      },
      "outputs": [
        {
          "name": "stdin",
          "output_type": "stream",
          "text": [
            "Enter the home directory where the datasets are located:  /mnt/e/share/BIgRun/ML-DownScale_SMERGE_CEES-main\n"
          ]
        }
      ],
      "source": [
        "home_directory = input(\"Enter the home directory where the datasets are located: \")"
      ]
    },
    {
      "cell_type": "markdown",
      "metadata": {
        "id": "LeNsrAQSH_4g"
      },
      "source": [
        "- Input the name of the testing dataset, this will be used to construct the full path.\n",
        "\n",
        " An example would be:\n",
        " > *Enter the name of the testing dataset:* **ERA1_2ARM_100m_dataV1_test.csv**"
      ]
    },
    {
      "cell_type": "markdown",
      "metadata": {
        "id": "FqZy31TUIyG-"
      },
      "source": [
        "- While the code is running it will also be checking if the testing file exists. If the file does not exist, then the code will prompt the user until a valid file is provided."
      ]
    },
    {
      "cell_type": "code",
      "execution_count": null,
      "metadata": {
        "id": "kS7Ya5FNItme",
        "outputId": "1fd112a3-ab78-4953-c7c4-ad308694855b"
      },
      "outputs": [
        {
          "name": "stdin",
          "output_type": "stream",
          "text": [
            "Enter the name of the testing dataset (including file extensions):  BigRunWS_500_inst.csv\n"
          ]
        }
      ],
      "source": [
        "test_dataset_name = input(\"Enter the name of the testing dataset (including file extensions): \")\n",
        "\n",
        "test_file = os.path.join(home_directory, test_dataset_name)\n",
        "\n",
        "while not os.path.exists(test_file):\n",
        "  print(\"The specified training file does not exist. Enter the correct dataset name.\")\n",
        "  test_dataset_name = input(\"Enter the name of the testing dataset (including file extensions): \")\n",
        "  test_file = os.path.join(home_directory, test_dataset_name)"
      ]
    },
    {
      "cell_type": "markdown",
      "metadata": {
        "id": "obvT9pM4LMwO"
      },
      "source": [
        "- Input the name of the training dataset, this will be used to construct the full path.\n",
        "\n",
        " An example would be:\n",
        " > *Enter the name of the training dataset:* **ERA1_2ARM_1000m_dataV1_train.csv**"
      ]
    },
    {
      "cell_type": "markdown",
      "metadata": {
        "id": "Gu41Ut-VNoOj"
      },
      "source": [
        "- While the code is running it will also be checking if the training file exists. If the file does not exist, then the code will prompt the user until a valid file is provided."
      ]
    },
    {
      "cell_type": "code",
      "execution_count": null,
      "metadata": {
        "id": "Y4QVu0KRMz23",
        "outputId": "8bc79f74-73b8-4718-da23-8943181a44c7"
      },
      "outputs": [
        {
          "name": "stdin",
          "output_type": "stream",
          "text": [
            "Enter the name of the training dataset (including file extensions):  BigRunWS_500_train_4.csv\n"
          ]
        }
      ],
      "source": [
        "train_dataset_name = input(\"Enter the name of the training dataset (including file extensions): \")\n",
        "\n",
        "train_file = os.path.join(home_directory, train_dataset_name)\n",
        "\n",
        "while not os.path.exists(train_file):\n",
        "  print(\"The specified training file does not exist. Enter the correct dataset name.\")\n",
        "  train_dataset_name = input(\"Enter the name of the training dataset (including file extensions): \")\n",
        "  train_file = os.path.join(home_directory, train_dataset_name)"
      ]
    },
    {
      "cell_type": "markdown",
      "metadata": {
        "id": "FMYGKPgBaRva"
      },
      "source": [
        "# Variables\n",
        "\n",
        "- Prior to exporting testing and training data, it is necessary to create and upload a text file list (comma-separated values) containing the names of all variables (including the target variable). The text file must be saved in the same folder as the training and testing files.\n",
        "\n",
        "- Given that the variable names can vary depending on the user's data, it is more convenient to create a separate file with the variable names and then adjust them to the code.\n",
        "\n",
        "- An example of the list of variables would be:\n",
        "\n",
        " > *PageName*, *Clay*, *Sand*, *Silt*, *Elevation*, *Slope*, *Ascept*, *NDVI*, *SMERGE*"
      ]
    },
    {
      "cell_type": "code",
      "execution_count": null,
      "metadata": {
        "id": "oQ3LECY8aVQT",
        "outputId": "53313043-fd9a-4dc8-913f-743b7e756f07"
      },
      "outputs": [
        {
          "name": "stdin",
          "output_type": "stream",
          "text": [
            "Enter the name of the variables list (make sure the file is in text file format):  vars.txt\n"
          ]
        }
      ],
      "source": [
        "variables_list_name = input(\"Enter the name of the variables list (make sure the file is in text file format): \")\n",
        "variables_file = os.path.join(home_directory, variables_list_name)\n",
        "\n",
        "while not os.path.exists(variables_file):\n",
        "  variables_list_name = input(\"The variable list txt was not found, it should be in the home directory, try again \")\n",
        "  variables_file = os.path.join(home_directory, variables_list_name)\n",
        "\n",
        "text_file = open(variables_file, \"r\")\n",
        "variables = text_file.read().split(',')"
      ]
    },
    {
      "cell_type": "markdown",
      "metadata": {
        "id": "a8oOa7_5PVgx"
      },
      "source": [
        "# Testing Data\n",
        "\n",
        "- First, we created a variable called *test_data* to read our testing data, then using *variables* from the previous section we will save all of the data into *test_data*. Testing data is going to help us measure the performance of our model.\n"
      ]
    },
    {
      "cell_type": "code",
      "execution_count": null,
      "metadata": {
        "id": "S1YzghQEQnES"
      },
      "outputs": [],
      "source": [
        "test_data = pd.read_csv(test_file)\n",
        "test_data = test_data.loc[:, variables]"
      ]
    },
    {
      "cell_type": "markdown",
      "metadata": {
        "id": "piY4Gy8RahR_"
      },
      "source": [
        ">**Warning:**\n",
        "Before separating the predictor variables from the target variable, we created a filter to make sure the data saved will be compatible with Gradient Boost. This machine learning module is created to deal with numeric values only.\n",
        "\n",
        "- The following code will remove all the *object type* column variables from the testing set, create new variables that will hold those columns, and eventually create a list of all of the columns that will be removed.\n",
        "  - **Object type** columns variables refers to the columns that contain a combination of strings, letters, and numbers. Gradient Boost is compatible only with numeric values.\n",
        "\n",
        "- As a result, prior to applying the testing set to the Gradient Boost model, we must eliminate those columns.\n",
        "\n",
        "- However, if you want to keep that variable as part of your variables for the model, make sure to format that column beforehand for both testing and training sets.\n",
        "\n",
        "- In our case, we dealt with a variable called  *PageName*.\n",
        "  - **PageName** - This variable holds string values and can not be used in our model. However, the variable holds the position grids of the data by coordinates with letters and numbers such as B2.\n",
        "\n",
        "- Although **PageName** was not part of the Gradient Boost model predictions, it was saved in a variable separately so that it could be added back into the final prediction output. The variable will be called *index variable*. If this is the case for you, and you want to save your data to place back into the output, you will be able to use the variables that this section will create. Otherwise, if you are just planning to remove them, you can just run this section and move on to the next one."
      ]
    },
    {
      "cell_type": "code",
      "execution_count": null,
      "metadata": {
        "id": "Yf1zJqaIYhAX"
      },
      "outputs": [],
      "source": [
        "def process_object_columns(dataframe, dex):\n",
        "  def get_object_columns(df):\n",
        "    return list(df.select_dtypes(include=['object']).columns)\n",
        "\n",
        "  # Function to get object type columns\n",
        "  object_columns = get_object_columns(dataframe)\n",
        "\n",
        "  if dex in object_columns:\n",
        "    object_columns.remove(dex)\n",
        "\n",
        "  print(\"Object type columns:\", object_columns)\n",
        "  # Removing columns with 'object' dtype\n",
        "  df_without_objects = dataframe.drop(object_columns, axis=1)\n",
        "\n",
        "  # Creating separate variables for object type columns with their respective names\n",
        "  for col in object_columns:\n",
        "    globals()[f\"{col}\"] = dataframe[col]\n",
        "\n",
        "  # Printing separate variables\n",
        "  for col in object_columns:\n",
        "    print(f\"{col}:\")\n",
        "    print(globals()[f\"{col}\"])\n",
        "\n",
        "  # Returning the original DataFrame without object type columns\n",
        "  return df_without_objects"
      ]
    },
    {
      "cell_type": "markdown",
      "metadata": {
        "id": "ZZxioIG1dVr3"
      },
      "source": [
        "- Input the name of the index variable, which will be integrated in the output dataframe."
      ]
    },
    {
      "cell_type": "code",
      "execution_count": null,
      "metadata": {
        "id": "B2GnXxNMdeOp",
        "outputId": "32389192-b3f3-4c4f-ba66-1d92772336ea"
      },
      "outputs": [
        {
          "name": "stdin",
          "output_type": "stream",
          "text": [
            "Enter the index variable from the list of variables:  PageName\n"
          ]
        }
      ],
      "source": [
        "index_variable = input(\"Enter the index variable from the list of variables: \")"
      ]
    },
    {
      "cell_type": "code",
      "execution_count": null,
      "metadata": {
        "id": "-lDqtDV0ZyLw",
        "outputId": "a09dda08-fdaa-42f0-b02c-f5f4ed7b9844"
      },
      "outputs": [
        {
          "name": "stdout",
          "output_type": "stream",
          "text": [
            "Object type columns: []\n"
          ]
        }
      ],
      "source": [
        "test_data = process_object_columns(test_data,index_variable)"
      ]
    },
    {
      "cell_type": "markdown",
      "metadata": {
        "id": "SF8DJq5vFHhP"
      },
      "source": [
        "*   After removing the object type columns, this is how the new test data looks like:\n"
      ]
    },
    {
      "cell_type": "code",
      "execution_count": null,
      "metadata": {
        "id": "o9z1PKYXKtCa"
      },
      "outputs": [],
      "source": [
        "test_page = test_data[index_variable]\n",
        "test_data.drop(columns=[index_variable], inplace=True)"
      ]
    },
    {
      "cell_type": "code",
      "execution_count": null,
      "metadata": {
        "id": "Rx7wDh6bc7AN",
        "outputId": "5693042d-b37b-45ca-afd0-30f206f5af08"
      },
      "outputs": [
        {
          "name": "stdout",
          "output_type": "stream",
          "text": [
            "             Clay       Sand       Silt   Elevation      Aspect     Slope  \\\n",
            "0       34.103347   6.213517  59.683060  538.559735  144.169265  0.963445   \n",
            "1       35.139732   6.290044  58.570166  535.214457  163.814330  1.365451   \n",
            "2       33.554668   6.155673  60.289564  535.567550  149.415482  0.478122   \n",
            "3       33.669880   6.249533  60.080510  533.273934  137.600925  0.940901   \n",
            "4       30.837869  12.809110  56.352965  529.432486  161.418493  2.298457   \n",
            "...           ...        ...        ...         ...         ...       ...   \n",
            "402829  22.939871  39.091821  37.968307  222.916803  215.751611  1.995111   \n",
            "402830  17.787609  55.510363  26.702089  283.863551  123.379235  4.100042   \n",
            "402831  20.178704  39.672646  40.148705  280.559535  238.454415  3.812985   \n",
            "402832  16.466797  57.842202  25.691062  291.602615  142.782750  2.887056   \n",
            "402833  18.494068  51.624559  29.881410  282.089283  218.237928  3.403711   \n",
            "\n",
            "             MODIS    Smerge    LAI      ALB       Temp  \n",
            "0       143.750000  0.244290  0.775  0.06475  22.005001  \n",
            "1       141.500000  0.244290  0.725  0.06325  22.005001  \n",
            "2       141.333333  0.244290  0.875  0.05775  22.005001  \n",
            "3       152.250000  0.244290  1.100  0.04700  22.005001  \n",
            "4       147.750000  0.244290  1.125  0.04500  22.005001  \n",
            "...            ...       ...    ...      ...        ...  \n",
            "402829  177.500000  0.299869  2.125  0.12975  25.078001  \n",
            "402830  181.500000  0.238637  3.675  0.08625  24.597002  \n",
            "402831  185.600000  0.238637  4.050  0.08225  24.597002  \n",
            "402832  183.000000  0.238637  3.300  0.08300  24.597002  \n",
            "402833  182.750000  0.238637  3.050  0.08350  24.597002  \n",
            "\n",
            "[402834 rows x 11 columns]\n"
          ]
        }
      ],
      "source": [
        "print(test_data)"
      ]
    },
    {
      "cell_type": "markdown",
      "metadata": {
        "id": "niecylJZc821"
      },
      "source": [
        "- The next step is to create a variable that holds date columns.\n",
        "  - Since the *date* column is a component of our predictor variables, we must format its numerical values to a value that GBoost can interpret as a date, rather than just a number. However, before formatting the *date* column, we create this **date** variable to preserve its original format and then insert it back into the output frame. The date format that can be taken can be found in the **Date Formatting** section."
      ]
    },
    {
      "cell_type": "code",
      "execution_count": null,
      "metadata": {
        "id": "HRhzSPisFQuI"
      },
      "outputs": [],
      "source": [
        "date = pd.read_csv(test_file, usecols=['Date'])"
      ]
    },
    {
      "cell_type": "markdown",
      "metadata": {
        "id": "3LdbwkJwdQtH"
      },
      "source": [
        "# Date Formatting\n",
        "- For regression models it is important to follow the required formatting to make sure to have a high perfomance. This section will change the date format to a *to_datetime* format which works better with machine learning regression models.Therefore, there will be a date formatting for both testing and training sets.\n",
        ">**Note:** This section only allows three types of date formats : \"%m/%d/%Y\", \"%Y/%m/%d\", and \"%Y/%j\". If you are using another type of format make sure to change it to one of those formats beforehand.\n"
      ]
    },
    {
      "cell_type": "code",
      "execution_count": null,
      "metadata": {
        "id": "j-dnW4ChdUak"
      },
      "outputs": [],
      "source": [
        "def date_formatting(dataframe2):\n",
        "    # Processing 'Date' column for testing\n",
        "    date_format = input('If file use \"%m/%d/%Y\" type: A, if \"%Y/%m/%d\" type: B, else \"%Y/%j\" type C: ')\n",
        "    #date_column = dataframe2[column_name]\n",
        "    while date_format != 'A' and date_format != 'B' and date_format != 'C':\n",
        "\n",
        "        date_format = input('Input ERROR. If file use \"%m/%d/%Y\" type: A, if \"%Y/%m/%d\" type: B, else if \"%Y/%j\" type C: ')\n",
        "\n",
        "    if date_format == 'A':\n",
        "\n",
        "        #date_format = '%m%d%Y'\n",
        "        dataframe2['Date'] = pd.to_datetime(date['Date'], format=\"%m/%d/%Y\")\n",
        "        dataframe2['Date'] =  dataframe2['Date'].astype(int)\n",
        "\n",
        "    if date_format == 'B':\n",
        "\n",
        "        #date_format = '%Y/%m/%d'\n",
        "        dataframe2['Date'] = pd.to_datetime(date['Date'], format = '%Y/%m/%d')\n",
        "        #.astype(int)\n",
        "        dataframe2['Date'] =  dataframe2['Date'].astype(int)\n",
        "\n",
        "    if date_format == 'C':\n",
        "\n",
        "        #date_format = '%Y/%j'\n",
        "        dataframe2['Date'] = pd.to_datetime(date['Date'], format=\"%Y/%j\")\n",
        "        dataframe2['Date'] =  dataframe2['Date'].astype(int)\n",
        "    #else:\n",
        "      #print (\"Data format not recognized, make sure your data is formatted as %m%d%Y, %Y%m%d, or %Y%j\")\n",
        "     # date_format = 0\n",
        "    return dataframe2"
      ]
    },
    {
      "cell_type": "code",
      "execution_count": null,
      "metadata": {
        "id": "AlMHb6PUdWsu",
        "outputId": "4257fcd5-7ad0-42da-d81b-d10c5387421f"
      },
      "outputs": [
        {
          "name": "stdin",
          "output_type": "stream",
          "text": [
            "If file use \"%m/%d/%Y\" type: A, if \"%Y/%m/%d\" type: B, else \"%Y/%j\" type C:  A\n"
          ]
        }
      ],
      "source": [
        "test_data = date_formatting(test_data)"
      ]
    },
    {
      "cell_type": "markdown",
      "metadata": {
        "id": "rxUJPNDudYll"
      },
      "source": [
        "*   Lastly, to get the testing data ready, you need to separate the predictor variables from the target variable."
      ]
    },
    {
      "cell_type": "code",
      "execution_count": null,
      "metadata": {
        "id": "N5zAYGRrddyu",
        "outputId": "41983b1b-33a9-4e66-bbdb-9fc44045acda"
      },
      "outputs": [
        {
          "name": "stdin",
          "output_type": "stream",
          "text": [
            "Write the name of the target variable to extract it from the list of variables:  Smerge\n"
          ]
        }
      ],
      "source": [
        "# Separating target variable (dependent) from the initial variables (independent).\n",
        "target_variable = input(\"Write the name of the target variable to extract it from the list of variables: \")\n",
        "variables = test_data.columns.tolist()\n",
        "\n",
        "while target_variable in variables:\n",
        "    variables.remove(target_variable)\n",
        "\n",
        "y_test = test_data[target_variable]\n",
        "x_test = test_data[variables]"
      ]
    },
    {
      "cell_type": "markdown",
      "metadata": {
        "id": "CA1ASrYBbL29"
      },
      "source": [
        "# Training Data\n",
        "\n",
        "- First, we create a variable called *train_data* to read our training data. Then, using *variables* from the previous section, we save all of the data into *train_data*. The training data will be used to create our model and make it able to create predictions.\n",
        "\n",
        "  > **Note:** Since we already removed the object type columns in a previous section we will use  *variables* from the **Variables** section to retrieve just the numerical columns values and define **x_train**. Addtionally, we will use **target_variable** from testing data to also define **y_train** in the training data."
      ]
    },
    {
      "cell_type": "code",
      "execution_count": null,
      "metadata": {
        "id": "K97dOvQMcPGW"
      },
      "outputs": [],
      "source": [
        "train_data = pd.read_csv(train_file)"
      ]
    },
    {
      "cell_type": "markdown",
      "metadata": {
        "id": "Nl8T8pPbdoLX"
      },
      "source": [
        "- Prior to defining the predictor variables (**x_train**) and target variable (**y_train**) for training, we must also format the date for the training data.\n",
        "  - To do this, we will use the same function that we used in the **Date Formatting** section."
      ]
    },
    {
      "cell_type": "code",
      "execution_count": null,
      "metadata": {
        "id": "y2u9coVmKtCc"
      },
      "outputs": [],
      "source": [
        "train_data.drop(columns=[index_variable], inplace=True)\n",
        "variables.remove(index_variable)"
      ]
    },
    {
      "cell_type": "code",
      "execution_count": null,
      "metadata": {
        "id": "fAK4Hr7YdqXH",
        "outputId": "cc414eb7-1aa4-4d23-8f41-0b86f3c21a18"
      },
      "outputs": [
        {
          "name": "stdin",
          "output_type": "stream",
          "text": [
            "If file use \"%m/%d/%Y\" type: A, if \"%Y/%m/%d\" type: B, else \"%Y/%j\" type C:  A\n"
          ]
        }
      ],
      "source": [
        "train_data.dropna(inplace=True)\n",
        "train_data = date_formatting(train_data)\n",
        "try:\n",
        "    train_data.drop(columns=[index_variable], inplace=True)\n",
        "except:\n",
        "    print()\n",
        "try:\n",
        "    variables.remove(target_variable)\n",
        "    variables.remove(index_variable)\n",
        "except:\n",
        "    print()\n",
        "# Defining x_train and y_train\n",
        "x_train = train_data[variables]\n",
        "y_train = train_data[target_variable]"
      ]
    },
    {
      "cell_type": "markdown",
      "metadata": {
        "id": "y0QsiMo7fQF7"
      },
      "source": [
        "# eXtreme Gradient Boost parameters\n",
        "\n",
        "eXtreme Gradient Boost is a ML-technique with its own package of tools and functions. XGBoost is a tree-based algorithm that builds a series of decision trees to make accurate predictions, while controlling the model complexity with regularization. However, as other machine learning models, to improve the machine learning model perfomance, we need to tune the parameters of the model and get the best parameters also known as hypertunning parameters. The hypertuning parameters were conducted using an iteration method. A series of tuning values were tested and the best parameters were found after hundreds of trials.\n",
        "\n",
        "---\n",
        "\n",
        "\n",
        "- **verbose** - *int*; Enable verbose output:\n",
        "  - If 1 is specified, the program will print progress and performance information periodically (less frequently for larger trees).\n",
        "  - If a value greater than 1 is specified, the program will print progress and performance  information for every tree.\n",
        "- **n_estimators** - *int*; The number of times to repeat the process of training a model on the residuals of the previous model. A large number of iterations will result in better performance.\n",
        "- **max_depth** - *int* or *None*; The maximum number of levels in the decision tree.\n",
        "- **tree_method** - *string*; The algortihm method to use for building decision trees, which can depend on training speed and memory usage.\n",
        "\n",
        "\n",
        "> For more information visit: https://xgboost.readthedocs.io/en/stable/parameter.html\n",
        "\n",
        "---\n",
        "\n",
        "Before jumping into the machine learning configuration, there is one last processing step we need to take. Since machine learning models work best with numbers, and the formatting of the data gathered can sometimes vary, we need to convert our *x_train*, *y_train*, and *x_test* into number types using the numpy function to ensure that our algorithm runs smoothly."
      ]
    },
    {
      "cell_type": "code",
      "execution_count": null,
      "metadata": {
        "id": "I19zxKBOg4Rm"
      },
      "outputs": [],
      "source": [
        "x_train_nu = x_train.to_numpy()\n",
        "y_train_nu = y_train.to_numpy()\n",
        "x_test_nu = x_test.to_numpy()"
      ]
    },
    {
      "cell_type": "markdown",
      "metadata": {
        "id": "nwoBw_GHiiw4"
      },
      "source": [
        "*Configuring the eXtreme Gradient Boost Regressor*\n",
        "\n",
        "---\n",
        "\n",
        "- The parameters that were used for XGBoost are inside the XGBRegressor function.\n",
        "\n",
        "\n",
        "- The variable *'mse'* represents the mean squared error and is obtained by using the target variable (dependent variable) and the regression prediction of the initial variables (independent variables)."
      ]
    },
    {
      "cell_type": "code",
      "execution_count": null,
      "metadata": {
        "id": "ViGs01l0i0qW",
        "outputId": "7cd8a926-db3b-4043-d6fe-987432267c2c"
      },
      "outputs": [
        {
          "name": "stdout",
          "output_type": "stream",
          "text": [
            "The mean squared error (MSE) on the set: 0.0010\n"
          ]
        }
      ],
      "source": [
        "model = XGBRegressor(verbosity=1, n_estimators=500, max_depth=10, tree_method='hist')\n",
        "model.fit(x_train_nu, y_train_nu)\n",
        "\n",
        "MSE = mse(y_test, model.predict(x_test_nu))\n",
        "print(\"The mean squared error (MSE) on the set: {:.4f}\".format(MSE))"
      ]
    },
    {
      "cell_type": "markdown",
      "metadata": {
        "id": "hbkcTk0FkG9S"
      },
      "source": [
        "- By obtaining the prediction of the test model, we will prepare for the output dataframe.\n",
        "\n",
        "- Then we took the date that we saved earlier with its original format and incorporated it back to the output dataframe. The same steps were made for the index variable and ML.\n",
        "\n",
        "- Finally, we saved the output data frame as *.csv* using the name you inputted at the beginning."
      ]
    },
    {
      "cell_type": "code",
      "execution_count": null,
      "metadata": {
        "id": "lfS3JqZikrNO"
      },
      "outputs": [],
      "source": [
        "predictions = model.predict(x_test_nu)\n",
        "test_data['Date'] = date\n",
        "test_data['ML'] = predictions\n",
        "test_data[index_variable] = test_page\n",
        "\n",
        "## Saving the output dataframe to a CSV file\n",
        "test_data.to_csv(name + \".csv\", index=False)"
      ]
    },
    {
      "cell_type": "markdown",
      "metadata": {
        "id": "BvWOabgpmls1"
      },
      "source": [
        "# SHapley Additive exPlanations (SHAP)\n",
        "\n",
        "SHAP states the output of the ML model by carrying out the contribution from each variable to the prediction. SHAP was used to evaluate independent variable sensitivity. SHAP uses a game theory-based methodology that calculates feature importance by comparing a model's predictions with and without a particular feature. For our case, we used a random sample of 1000 from the train data. We then apply SHAP to analyze those 1000 row samples and calculate the contribution of each feature for the 1000 predictions. SHAP assigns values according to the mean marginal contribution of each feature across all possible values. Using this method, you will be able to see a bar graph that illustrates the individual contribution of each feature. The graph is arranged from highest contribution to lowest contribution feature.\n",
        "\n",
        "> For more information visit: https://shap.readthedocs.io/en/latest/"
      ]
    },
    {
      "cell_type": "code",
      "execution_count": null,
      "metadata": {
        "id": "1kGbapw1n71z",
        "outputId": "77636d13-2d99-48b9-c241-4d0e0e907483"
      },
      "outputs": [
        {
          "name": "stderr",
          "output_type": "stream",
          "text": [
            " 99%|===================| 993/1000 [02:25<00:01]        "
          ]
        },
        {
          "data": {
            "image/png": "[encoded data removed]",
            "text/plain": [
              "<Figure size 800x700 with 1 Axes>"
            ]
          },
          "metadata": {},
          "output_type": "display_data"
        }
      ],
      "source": [
        "# Generating variable importance plots\n",
        "X_sampled = x_train.sample(1000, random_state=10, replace=True)\n",
        "\n",
        "explainer = shap.Explainer(model, X_sampled)\n",
        "shap_values = explainer(X_sampled)\n",
        "number_variables = len(variables)\n",
        "shap.plots.bar(shap_values, max_display=number_variables)\n",
        "\n",
        "## Saving variable importance plot\n",
        "mean_shap = np.abs(shap_values.values).mean(axis=0)\n",
        "shap_pd = pd.DataFrame(mean_shap, index=X_sampled.columns).sort_values(by=[0], ascending=False)\n",
        "shap_pd.to_csv(name + '_SHAP.csv')"
      ]
    },
    {
      "cell_type": "code",
      "execution_count": null,
      "metadata": {
        "id": "NAXGVpNOKtCq"
      },
      "outputs": [],
      "source": []
    }
  ],
  "metadata": {
    "accelerator": "GPU",
    "colab": {
      "gpuType": "T4",
      "provenance": []
    },
    "kernelspec": {
      "display_name": "Python 3 (ipykernel)",
      "language": "python",
      "name": "python3"
    },
    "language_info": {
      "codemirror_mode": {
        "name": "ipython",
        "version": 3
      },
      "file_extension": ".py",
      "mimetype": "text/x-python",
      "name": "python",
      "nbconvert_exporter": "python",
      "pygments_lexer": "ipython3",
      "version": "3.11.4"
    }
  },
  "nbformat": 4,
  "nbformat_minor": 0
}